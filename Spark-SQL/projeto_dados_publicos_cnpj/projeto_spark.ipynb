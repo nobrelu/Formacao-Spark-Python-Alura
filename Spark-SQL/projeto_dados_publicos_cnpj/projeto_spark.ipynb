{
 "cells": [
  {
   "cell_type": "markdown",
   "metadata": {},
   "source": [
    "## Projeto Spark"
   ]
  },
  {
   "cell_type": "code",
   "execution_count": 1,
   "metadata": {},
   "outputs": [],
   "source": [
    "#caso não tenha path nas variaveis de ambiente\n",
    "import os\n",
    "#os.environ[\"SPARK_HOME\"] = \"C:\\spark\\spark-3.3.0-bin-hadoop27\"\n"
   ]
  },
  {
   "cell_type": "code",
   "execution_count": 2,
   "metadata": {},
   "outputs": [],
   "source": [
    "import findspark\n",
    "findspark.init()"
   ]
  },
  {
   "cell_type": "code",
   "execution_count": 3,
   "metadata": {},
   "outputs": [],
   "source": [
    "from pyspark.sql import SparkSession\n"
   ]
  },
  {
   "cell_type": "code",
   "execution_count": 4,
   "metadata": {},
   "outputs": [],
   "source": [
    "spark = SparkSession.builder \\\n",
    "    .master('local[*]') \\\n",
    "    .appName(\"Iniciando com Spark\") \\\n",
    "    .config('spark.ui.port','4050') \\\n",
    "    .getOrCreate()"
   ]
  },
  {
   "cell_type": "code",
   "execution_count": 5,
   "metadata": {},
   "outputs": [
    {
     "data": {
      "text/html": [
       "\n",
       "            <div>\n",
       "                <p><b>SparkSession - in-memory</b></p>\n",
       "                \n",
       "        <div>\n",
       "            <p><b>SparkContext</b></p>\n",
       "\n",
       "            <p><a href=\"http://host.docker.internal:4050\">Spark UI</a></p>\n",
       "\n",
       "            <dl>\n",
       "              <dt>Version</dt>\n",
       "                <dd><code>v3.3.0</code></dd>\n",
       "              <dt>Master</dt>\n",
       "                <dd><code>local[*]</code></dd>\n",
       "              <dt>AppName</dt>\n",
       "                <dd><code>Iniciando com Spark</code></dd>\n",
       "            </dl>\n",
       "        </div>\n",
       "        \n",
       "            </div>\n",
       "        "
      ],
      "text/plain": [
       "<pyspark.sql.session.SparkSession at 0x219683022c0>"
      ]
     },
     "execution_count": 5,
     "metadata": {},
     "output_type": "execute_result"
    }
   ],
   "source": [
    "spark"
   ]
  },
  {
   "cell_type": "code",
   "execution_count": 6,
   "metadata": {},
   "outputs": [],
   "source": [
    "data = [('Zeca', '35'), ('Eva', '29')]\n",
    "colNames = ['Nome', 'Idade']\n"
   ]
  },
  {
   "cell_type": "code",
   "execution_count": 7,
   "metadata": {},
   "outputs": [],
   "source": [
    "df = spark.createDataFrame(data, colNames)\n"
   ]
  },
  {
   "cell_type": "code",
   "execution_count": 8,
   "metadata": {},
   "outputs": [
    {
     "name": "stdout",
     "output_type": "stream",
     "text": [
      "+----+-----+\n",
      "|Nome|Idade|\n",
      "+----+-----+\n",
      "|Zeca|   35|\n",
      "| Eva|   29|\n",
      "+----+-----+\n",
      "\n"
     ]
    }
   ],
   "source": [
    "df.show()\n"
   ]
  },
  {
   "cell_type": "code",
   "execution_count": 9,
   "metadata": {},
   "outputs": [],
   "source": [
    "import pandas as pd\n",
    "\n",
    "\n"
   ]
  },
  {
   "cell_type": "code",
   "execution_count": 10,
   "metadata": {},
   "outputs": [
    {
     "data": {
      "text/html": [
       "<div>\n",
       "<style scoped>\n",
       "    .dataframe tbody tr th:only-of-type {\n",
       "        vertical-align: middle;\n",
       "    }\n",
       "\n",
       "    .dataframe tbody tr th {\n",
       "        vertical-align: top;\n",
       "    }\n",
       "\n",
       "    .dataframe thead th {\n",
       "        text-align: right;\n",
       "    }\n",
       "</style>\n",
       "<table border=\"1\" class=\"dataframe\">\n",
       "  <thead>\n",
       "    <tr style=\"text-align: right;\">\n",
       "      <th></th>\n",
       "      <th>Nome</th>\n",
       "      <th>Idade</th>\n",
       "    </tr>\n",
       "  </thead>\n",
       "  <tbody>\n",
       "    <tr>\n",
       "      <th>0</th>\n",
       "      <td>Zeca</td>\n",
       "      <td>35</td>\n",
       "    </tr>\n",
       "    <tr>\n",
       "      <th>1</th>\n",
       "      <td>Eva</td>\n",
       "      <td>29</td>\n",
       "    </tr>\n",
       "  </tbody>\n",
       "</table>\n",
       "</div>"
      ],
      "text/plain": [
       "   Nome Idade\n",
       "0  Zeca    35\n",
       "1   Eva    29"
      ]
     },
     "execution_count": 10,
     "metadata": {},
     "output_type": "execute_result"
    }
   ],
   "source": [
    "df.toPandas()\n"
   ]
  },
  {
   "cell_type": "markdown",
   "metadata": {},
   "source": [
    "## Projeto\n",
    "\n",
    "Nosso projeto consiste em ler, manipular, tratar e salvar um conjunto de dados volumosos utilizando como ferramenta o Spark."
   ]
  },
  {
   "cell_type": "code",
   "execution_count": 11,
   "metadata": {},
   "outputs": [],
   "source": [
    "import zipfile"
   ]
  },
  {
   "cell_type": "code",
   "execution_count": 12,
   "metadata": {},
   "outputs": [],
   "source": [
    "#zipfile.ZipFile('./Formacao-Spark-Python-Alura/data/download/empresas.zip','r').extractall('./Formacao-Spark-Python-Alura/data/raw/')"
   ]
  },
  {
   "cell_type": "code",
   "execution_count": 13,
   "metadata": {},
   "outputs": [],
   "source": [
    "path_empresas = 'D:/ONEDRIVE/EDUCACAO/FORMACAO_SPARK_PYTHON_ALURA/Formacao-Spark-Python-Alura/data/raw/empresas'\n",
    "empresas = spark.read.csv(path_empresas, sep=';', inferSchema=True)"
   ]
  },
  {
   "cell_type": "code",
   "execution_count": 14,
   "metadata": {},
   "outputs": [
    {
     "data": {
      "text/plain": [
       "4585679"
      ]
     },
     "execution_count": 14,
     "metadata": {},
     "output_type": "execute_result"
    }
   ],
   "source": [
    "empresas.count()"
   ]
  },
  {
   "cell_type": "code",
   "execution_count": 15,
   "metadata": {},
   "outputs": [],
   "source": [
    "#zipfile.ZipFile('./Formacao-Spark-Python-Alura/data/download/estabelecimentos.zip','r').extractall('./Formacao-Spark-Python-Alura/data/raw/')\n",
    "#zipfile.ZipFile('./Formacao-Spark-Python-Alura/data/download/socios.zip','r').extractall('./Formacao-Spark-Python-Alura/data/raw/')"
   ]
  },
  {
   "cell_type": "code",
   "execution_count": 16,
   "metadata": {},
   "outputs": [],
   "source": [
    "path_estabelecimentos = 'D:/ONEDRIVE/EDUCACAO/FORMACAO_SPARK_PYTHON_ALURA/Formacao-Spark-Python-Alura/data/raw/estabelecimentos'\n",
    "path_socios = 'D:/ONEDRIVE/EDUCACAO/FORMACAO_SPARK_PYTHON_ALURA/Formacao-Spark-Python-Alura/data/raw/socios'\n",
    "estabelecimentos = spark.read.csv(path_estabelecimentos, sep=';', inferSchema=True)\n",
    "socios = spark.read.csv(path_socios, sep=';', inferSchema=True)"
   ]
  },
  {
   "cell_type": "code",
   "execution_count": 17,
   "metadata": {},
   "outputs": [
    {
     "data": {
      "text/plain": [
       "4836219"
      ]
     },
     "execution_count": 17,
     "metadata": {},
     "output_type": "execute_result"
    }
   ],
   "source": [
    "estabelecimentos.count()"
   ]
  },
  {
   "cell_type": "code",
   "execution_count": 18,
   "metadata": {},
   "outputs": [
    {
     "data": {
      "text/plain": [
       "2046430"
      ]
     },
     "execution_count": 18,
     "metadata": {},
     "output_type": "execute_result"
    }
   ],
   "source": [
    "socios.count()"
   ]
  },
  {
   "cell_type": "code",
   "execution_count": 19,
   "metadata": {},
   "outputs": [
    {
     "data": {
      "text/plain": [
       "DataFrame[_c0: int, _c1: string, _c2: int, _c3: int, _c4: string, _c5: int, _c6: string]"
      ]
     },
     "execution_count": 19,
     "metadata": {},
     "output_type": "execute_result"
    }
   ],
   "source": [
    "empresas.limit(5)"
   ]
  },
  {
   "cell_type": "code",
   "execution_count": 20,
   "metadata": {},
   "outputs": [
    {
     "data": {
      "text/html": [
       "<div>\n",
       "<style scoped>\n",
       "    .dataframe tbody tr th:only-of-type {\n",
       "        vertical-align: middle;\n",
       "    }\n",
       "\n",
       "    .dataframe tbody tr th {\n",
       "        vertical-align: top;\n",
       "    }\n",
       "\n",
       "    .dataframe thead th {\n",
       "        text-align: right;\n",
       "    }\n",
       "</style>\n",
       "<table border=\"1\" class=\"dataframe\">\n",
       "  <thead>\n",
       "    <tr style=\"text-align: right;\">\n",
       "      <th></th>\n",
       "      <th>_c0</th>\n",
       "      <th>_c1</th>\n",
       "      <th>_c2</th>\n",
       "      <th>_c3</th>\n",
       "      <th>_c4</th>\n",
       "      <th>_c5</th>\n",
       "      <th>_c6</th>\n",
       "    </tr>\n",
       "  </thead>\n",
       "  <tbody>\n",
       "    <tr>\n",
       "      <th>0</th>\n",
       "      <td>4519</td>\n",
       "      <td>DANIELA DA SILVA CRUZ</td>\n",
       "      <td>2135</td>\n",
       "      <td>50</td>\n",
       "      <td>0,00</td>\n",
       "      <td>5</td>\n",
       "      <td>None</td>\n",
       "    </tr>\n",
       "    <tr>\n",
       "      <th>1</th>\n",
       "      <td>8638</td>\n",
       "      <td>JOAO DOS SANTOS FAGUNDES</td>\n",
       "      <td>2135</td>\n",
       "      <td>50</td>\n",
       "      <td>0,00</td>\n",
       "      <td>5</td>\n",
       "      <td>None</td>\n",
       "    </tr>\n",
       "    <tr>\n",
       "      <th>2</th>\n",
       "      <td>11748</td>\n",
       "      <td>PANIFICADORA E CONFEITARIA CONFIANCA RIO PRETO...</td>\n",
       "      <td>2062</td>\n",
       "      <td>49</td>\n",
       "      <td>0,00</td>\n",
       "      <td>1</td>\n",
       "      <td>None</td>\n",
       "    </tr>\n",
       "    <tr>\n",
       "      <th>3</th>\n",
       "      <td>12027</td>\n",
       "      <td>L G SORVETERIA LTDA</td>\n",
       "      <td>2062</td>\n",
       "      <td>49</td>\n",
       "      <td>0,00</td>\n",
       "      <td>5</td>\n",
       "      <td>None</td>\n",
       "    </tr>\n",
       "    <tr>\n",
       "      <th>4</th>\n",
       "      <td>13289</td>\n",
       "      <td>ANDREIA CRISTINA DELSIN EIRELI</td>\n",
       "      <td>2305</td>\n",
       "      <td>65</td>\n",
       "      <td>100000,00</td>\n",
       "      <td>1</td>\n",
       "      <td>None</td>\n",
       "    </tr>\n",
       "  </tbody>\n",
       "</table>\n",
       "</div>"
      ],
      "text/plain": [
       "     _c0                                                _c1   _c2  _c3  \\\n",
       "0   4519                              DANIELA DA SILVA CRUZ  2135   50   \n",
       "1   8638                           JOAO DOS SANTOS FAGUNDES  2135   50   \n",
       "2  11748  PANIFICADORA E CONFEITARIA CONFIANCA RIO PRETO...  2062   49   \n",
       "3  12027                                L G SORVETERIA LTDA  2062   49   \n",
       "4  13289                     ANDREIA CRISTINA DELSIN EIRELI  2305   65   \n",
       "\n",
       "         _c4  _c5   _c6  \n",
       "0       0,00    5  None  \n",
       "1       0,00    5  None  \n",
       "2       0,00    1  None  \n",
       "3       0,00    5  None  \n",
       "4  100000,00    1  None  "
      ]
     },
     "execution_count": 20,
     "metadata": {},
     "output_type": "execute_result"
    }
   ],
   "source": [
    "empresas.limit(5).toPandas()"
   ]
  },
  {
   "cell_type": "code",
   "execution_count": 21,
   "metadata": {},
   "outputs": [],
   "source": [
    "empresasColNames = ['cnpj_basico', 'razao_social_nome_empresarial', 'natureza_juridica', 'qualificacao_do_responsavel', 'capital_social_da_empresa', 'porte_da_empresa', 'ente_federativo_responsavel']"
   ]
  },
  {
   "cell_type": "code",
   "execution_count": 22,
   "metadata": {},
   "outputs": [
    {
     "name": "stdout",
     "output_type": "stream",
     "text": [
      "(0, 'cnpj_basico')\n",
      "(1, 'razao_social_nome_empresarial')\n",
      "(2, 'natureza_juridica')\n",
      "(3, 'qualificacao_do_responsavel')\n",
      "(4, 'capital_social_da_empresa')\n",
      "(5, 'porte_da_empresa')\n",
      "(6, 'ente_federativo_responsavel')\n"
     ]
    }
   ],
   "source": [
    "for item in enumerate(empresasColNames):\n",
    "        print(item)"
   ]
  },
  {
   "cell_type": "code",
   "execution_count": 23,
   "metadata": {},
   "outputs": [
    {
     "data": {
      "text/plain": [
       "['cnpj_basico',\n",
       " 'razao_social_nome_empresarial',\n",
       " 'natureza_juridica',\n",
       " 'qualificacao_do_responsavel',\n",
       " 'capital_social_da_empresa',\n",
       " 'porte_da_empresa',\n",
       " 'ente_federativo_responsavel']"
      ]
     },
     "execution_count": 23,
     "metadata": {},
     "output_type": "execute_result"
    }
   ],
   "source": [
    "for index, colName in enumerate(empresasColNames):\n",
    "    empresas =empresas.withColumnRenamed(f\"_c{index}\", colName)\n",
    "\n",
    "empresas.columns"
   ]
  },
  {
   "cell_type": "code",
   "execution_count": 24,
   "metadata": {},
   "outputs": [
    {
     "data": {
      "text/html": [
       "<div>\n",
       "<style scoped>\n",
       "    .dataframe tbody tr th:only-of-type {\n",
       "        vertical-align: middle;\n",
       "    }\n",
       "\n",
       "    .dataframe tbody tr th {\n",
       "        vertical-align: top;\n",
       "    }\n",
       "\n",
       "    .dataframe thead th {\n",
       "        text-align: right;\n",
       "    }\n",
       "</style>\n",
       "<table border=\"1\" class=\"dataframe\">\n",
       "  <thead>\n",
       "    <tr style=\"text-align: right;\">\n",
       "      <th></th>\n",
       "      <th>cnpj_basico</th>\n",
       "      <th>razao_social_nome_empresarial</th>\n",
       "      <th>natureza_juridica</th>\n",
       "      <th>qualificacao_do_responsavel</th>\n",
       "      <th>capital_social_da_empresa</th>\n",
       "      <th>porte_da_empresa</th>\n",
       "      <th>ente_federativo_responsavel</th>\n",
       "    </tr>\n",
       "  </thead>\n",
       "  <tbody>\n",
       "    <tr>\n",
       "      <th>0</th>\n",
       "      <td>4519</td>\n",
       "      <td>DANIELA DA SILVA CRUZ</td>\n",
       "      <td>2135</td>\n",
       "      <td>50</td>\n",
       "      <td>0,00</td>\n",
       "      <td>5</td>\n",
       "      <td>None</td>\n",
       "    </tr>\n",
       "    <tr>\n",
       "      <th>1</th>\n",
       "      <td>8638</td>\n",
       "      <td>JOAO DOS SANTOS FAGUNDES</td>\n",
       "      <td>2135</td>\n",
       "      <td>50</td>\n",
       "      <td>0,00</td>\n",
       "      <td>5</td>\n",
       "      <td>None</td>\n",
       "    </tr>\n",
       "    <tr>\n",
       "      <th>2</th>\n",
       "      <td>11748</td>\n",
       "      <td>PANIFICADORA E CONFEITARIA CONFIANCA RIO PRETO...</td>\n",
       "      <td>2062</td>\n",
       "      <td>49</td>\n",
       "      <td>0,00</td>\n",
       "      <td>1</td>\n",
       "      <td>None</td>\n",
       "    </tr>\n",
       "    <tr>\n",
       "      <th>3</th>\n",
       "      <td>12027</td>\n",
       "      <td>L G SORVETERIA LTDA</td>\n",
       "      <td>2062</td>\n",
       "      <td>49</td>\n",
       "      <td>0,00</td>\n",
       "      <td>5</td>\n",
       "      <td>None</td>\n",
       "    </tr>\n",
       "    <tr>\n",
       "      <th>4</th>\n",
       "      <td>13289</td>\n",
       "      <td>ANDREIA CRISTINA DELSIN EIRELI</td>\n",
       "      <td>2305</td>\n",
       "      <td>65</td>\n",
       "      <td>100000,00</td>\n",
       "      <td>1</td>\n",
       "      <td>None</td>\n",
       "    </tr>\n",
       "  </tbody>\n",
       "</table>\n",
       "</div>"
      ],
      "text/plain": [
       "   cnpj_basico                      razao_social_nome_empresarial  \\\n",
       "0         4519                              DANIELA DA SILVA CRUZ   \n",
       "1         8638                           JOAO DOS SANTOS FAGUNDES   \n",
       "2        11748  PANIFICADORA E CONFEITARIA CONFIANCA RIO PRETO...   \n",
       "3        12027                                L G SORVETERIA LTDA   \n",
       "4        13289                     ANDREIA CRISTINA DELSIN EIRELI   \n",
       "\n",
       "   natureza_juridica  qualificacao_do_responsavel capital_social_da_empresa  \\\n",
       "0               2135                           50                      0,00   \n",
       "1               2135                           50                      0,00   \n",
       "2               2062                           49                      0,00   \n",
       "3               2062                           49                      0,00   \n",
       "4               2305                           65                 100000,00   \n",
       "\n",
       "   porte_da_empresa ente_federativo_responsavel  \n",
       "0                 5                        None  \n",
       "1                 5                        None  \n",
       "2                 1                        None  \n",
       "3                 5                        None  \n",
       "4                 1                        None  "
      ]
     },
     "execution_count": 24,
     "metadata": {},
     "output_type": "execute_result"
    }
   ],
   "source": [
    "empresas.limit(5).toPandas()"
   ]
  },
  {
   "cell_type": "code",
   "execution_count": 25,
   "metadata": {},
   "outputs": [],
   "source": [
    "estabsColNames = ['cnpj_basico', 'cnpj_ordem', 'cnpj_dv', 'identificador_matriz_filial', 'nome_fantasia', 'situacao_cadastral', 'data_situacao_cadastral', 'motivo_situacao_cadastral', 'nome_da_cidade_no_exterior', 'pais', 'data_de_inicio_atividade', 'cnae_fiscal_principal', 'cnae_fiscal_secundaria', 'tipo_de_logradouro', 'logradouro', 'numero', 'complemento', 'bairro', 'cep', 'uf', 'municipio', 'ddd_1', 'telefone_1', 'ddd_2', 'telefone_2', 'ddd_do_fax', 'fax', 'correio_eletronico', 'situacao_especial', 'data_da_situacao_especial']\n",
    "\n",
    "sociosColNames = ['cnpj_basico', 'identificador_de_socio', 'nome_do_socio_ou_razao_social', 'cnpj_ou_cpf_do_socio', 'qualificacao_do_socio', 'data_de_entrada_sociedade', 'pais', 'representante_legal', 'nome_do_representante', 'qualificacao_do_representante_legal', 'faixa_etaria']"
   ]
  },
  {
   "cell_type": "code",
   "execution_count": 26,
   "metadata": {},
   "outputs": [
    {
     "name": "stdout",
     "output_type": "stream",
     "text": [
      "root\n",
      " |-- cnpj_basico: integer (nullable = true)\n",
      " |-- razao_social_nome_empresarial: string (nullable = true)\n",
      " |-- natureza_juridica: integer (nullable = true)\n",
      " |-- qualificacao_do_responsavel: integer (nullable = true)\n",
      " |-- capital_social_da_empresa: string (nullable = true)\n",
      " |-- porte_da_empresa: integer (nullable = true)\n",
      " |-- ente_federativo_responsavel: string (nullable = true)\n",
      "\n"
     ]
    }
   ],
   "source": [
    "empresas.printSchema()"
   ]
  },
  {
   "cell_type": "code",
   "execution_count": 27,
   "metadata": {},
   "outputs": [
    {
     "data": {
      "text/plain": [
       "['cnpj_basico',\n",
       " 'cnpj_ordem',\n",
       " 'cnpj_dv',\n",
       " 'identificador_matriz_filial',\n",
       " 'nome_fantasia',\n",
       " 'situacao_cadastral',\n",
       " 'data_situacao_cadastral',\n",
       " 'motivo_situacao_cadastral',\n",
       " 'nome_da_cidade_no_exterior',\n",
       " 'pais',\n",
       " 'data_de_inicio_atividade',\n",
       " 'cnae_fiscal_principal',\n",
       " 'cnae_fiscal_secundaria',\n",
       " 'tipo_de_logradouro',\n",
       " 'logradouro',\n",
       " 'numero',\n",
       " 'complemento',\n",
       " 'bairro',\n",
       " 'cep',\n",
       " 'uf',\n",
       " 'municipio',\n",
       " 'ddd_1',\n",
       " 'telefone_1',\n",
       " 'ddd_2',\n",
       " 'telefone_2',\n",
       " 'ddd_do_fax',\n",
       " 'fax',\n",
       " 'correio_eletronico',\n",
       " 'situacao_especial',\n",
       " 'data_da_situacao_especial']"
      ]
     },
     "execution_count": 27,
     "metadata": {},
     "output_type": "execute_result"
    }
   ],
   "source": [
    "for index, colName in enumerate(estabsColNames):\n",
    "    estabelecimentos = estabelecimentos.withColumnRenamed(\n",
    "        f\"_c{index}\", colName)\n",
    "\n",
    "estabelecimentos.columns\n"
   ]
  },
  {
   "cell_type": "code",
   "execution_count": 28,
   "metadata": {},
   "outputs": [
    {
     "data": {
      "text/plain": [
       "['cnpj_basico',\n",
       " 'identificador_de_socio',\n",
       " 'nome_do_socio_ou_razao_social',\n",
       " 'cnpj_ou_cpf_do_socio',\n",
       " 'qualificacao_do_socio',\n",
       " 'data_de_entrada_sociedade',\n",
       " 'pais',\n",
       " 'representante_legal',\n",
       " 'nome_do_representante',\n",
       " 'qualificacao_do_representante_legal',\n",
       " 'faixa_etaria']"
      ]
     },
     "execution_count": 28,
     "metadata": {},
     "output_type": "execute_result"
    }
   ],
   "source": [
    "for index, colName in enumerate(sociosColNames):\n",
    "    socios = socios.withColumnRenamed(f\"_c{index}\", colName)\n",
    "\n",
    "socios.columns\n"
   ]
  },
  {
   "cell_type": "code",
   "execution_count": 29,
   "metadata": {},
   "outputs": [
    {
     "name": "stdout",
     "output_type": "stream",
     "text": [
      "root\n",
      " |-- cnpj_basico: integer (nullable = true)\n",
      " |-- cnpj_ordem: integer (nullable = true)\n",
      " |-- cnpj_dv: integer (nullable = true)\n",
      " |-- identificador_matriz_filial: integer (nullable = true)\n",
      " |-- nome_fantasia: string (nullable = true)\n",
      " |-- situacao_cadastral: integer (nullable = true)\n",
      " |-- data_situacao_cadastral: integer (nullable = true)\n",
      " |-- motivo_situacao_cadastral: integer (nullable = true)\n",
      " |-- nome_da_cidade_no_exterior: string (nullable = true)\n",
      " |-- pais: integer (nullable = true)\n",
      " |-- data_de_inicio_atividade: integer (nullable = true)\n",
      " |-- cnae_fiscal_principal: integer (nullable = true)\n",
      " |-- cnae_fiscal_secundaria: string (nullable = true)\n",
      " |-- tipo_de_logradouro: string (nullable = true)\n",
      " |-- logradouro: string (nullable = true)\n",
      " |-- numero: string (nullable = true)\n",
      " |-- complemento: string (nullable = true)\n",
      " |-- bairro: string (nullable = true)\n",
      " |-- cep: integer (nullable = true)\n",
      " |-- uf: string (nullable = true)\n",
      " |-- municipio: integer (nullable = true)\n",
      " |-- ddd_1: string (nullable = true)\n",
      " |-- telefone_1: string (nullable = true)\n",
      " |-- ddd_2: string (nullable = true)\n",
      " |-- telefone_2: string (nullable = true)\n",
      " |-- ddd_do_fax: integer (nullable = true)\n",
      " |-- fax: string (nullable = true)\n",
      " |-- correio_eletronico: string (nullable = true)\n",
      " |-- situacao_especial: string (nullable = true)\n",
      " |-- data_da_situacao_especial: integer (nullable = true)\n",
      "\n"
     ]
    }
   ],
   "source": [
    "\n",
    "estabelecimentos.printSchema()\n"
   ]
  },
  {
   "cell_type": "code",
   "execution_count": 30,
   "metadata": {},
   "outputs": [
    {
     "name": "stdout",
     "output_type": "stream",
     "text": [
      "root\n",
      " |-- cnpj_basico: integer (nullable = true)\n",
      " |-- identificador_de_socio: integer (nullable = true)\n",
      " |-- nome_do_socio_ou_razao_social: string (nullable = true)\n",
      " |-- cnpj_ou_cpf_do_socio: string (nullable = true)\n",
      " |-- qualificacao_do_socio: integer (nullable = true)\n",
      " |-- data_de_entrada_sociedade: integer (nullable = true)\n",
      " |-- pais: integer (nullable = true)\n",
      " |-- representante_legal: string (nullable = true)\n",
      " |-- nome_do_representante: string (nullable = true)\n",
      " |-- qualificacao_do_representante_legal: integer (nullable = true)\n",
      " |-- faixa_etaria: integer (nullable = true)\n",
      "\n"
     ]
    }
   ],
   "source": [
    "socios.printSchema()"
   ]
  },
  {
   "cell_type": "code",
   "execution_count": 31,
   "metadata": {},
   "outputs": [],
   "source": [
    "from pyspark.sql.types import DoubleType, StringType\n",
    "from pyspark.sql import functions as f\n"
   ]
  },
  {
   "cell_type": "code",
   "execution_count": 32,
   "metadata": {},
   "outputs": [
    {
     "name": "stdout",
     "output_type": "stream",
     "text": [
      "root\n",
      " |-- cnpj_basico: integer (nullable = true)\n",
      " |-- razao_social_nome_empresarial: string (nullable = true)\n",
      " |-- natureza_juridica: integer (nullable = true)\n",
      " |-- qualificacao_do_responsavel: integer (nullable = true)\n",
      " |-- capital_social_da_empresa: string (nullable = true)\n",
      " |-- porte_da_empresa: integer (nullable = true)\n",
      " |-- ente_federativo_responsavel: string (nullable = true)\n",
      "\n"
     ]
    }
   ],
   "source": [
    "empresas.printSchema()"
   ]
  },
  {
   "cell_type": "code",
   "execution_count": 33,
   "metadata": {},
   "outputs": [
    {
     "data": {
      "text/html": [
       "<div>\n",
       "<style scoped>\n",
       "    .dataframe tbody tr th:only-of-type {\n",
       "        vertical-align: middle;\n",
       "    }\n",
       "\n",
       "    .dataframe tbody tr th {\n",
       "        vertical-align: top;\n",
       "    }\n",
       "\n",
       "    .dataframe thead th {\n",
       "        text-align: right;\n",
       "    }\n",
       "</style>\n",
       "<table border=\"1\" class=\"dataframe\">\n",
       "  <thead>\n",
       "    <tr style=\"text-align: right;\">\n",
       "      <th></th>\n",
       "      <th>cnpj_basico</th>\n",
       "      <th>razao_social_nome_empresarial</th>\n",
       "      <th>natureza_juridica</th>\n",
       "      <th>qualificacao_do_responsavel</th>\n",
       "      <th>capital_social_da_empresa</th>\n",
       "      <th>porte_da_empresa</th>\n",
       "      <th>ente_federativo_responsavel</th>\n",
       "    </tr>\n",
       "  </thead>\n",
       "  <tbody>\n",
       "    <tr>\n",
       "      <th>0</th>\n",
       "      <td>4519</td>\n",
       "      <td>DANIELA DA SILVA CRUZ</td>\n",
       "      <td>2135</td>\n",
       "      <td>50</td>\n",
       "      <td>0,00</td>\n",
       "      <td>5</td>\n",
       "      <td>None</td>\n",
       "    </tr>\n",
       "    <tr>\n",
       "      <th>1</th>\n",
       "      <td>8638</td>\n",
       "      <td>JOAO DOS SANTOS FAGUNDES</td>\n",
       "      <td>2135</td>\n",
       "      <td>50</td>\n",
       "      <td>0,00</td>\n",
       "      <td>5</td>\n",
       "      <td>None</td>\n",
       "    </tr>\n",
       "    <tr>\n",
       "      <th>2</th>\n",
       "      <td>11748</td>\n",
       "      <td>PANIFICADORA E CONFEITARIA CONFIANCA RIO PRETO...</td>\n",
       "      <td>2062</td>\n",
       "      <td>49</td>\n",
       "      <td>0,00</td>\n",
       "      <td>1</td>\n",
       "      <td>None</td>\n",
       "    </tr>\n",
       "    <tr>\n",
       "      <th>3</th>\n",
       "      <td>12027</td>\n",
       "      <td>L G SORVETERIA LTDA</td>\n",
       "      <td>2062</td>\n",
       "      <td>49</td>\n",
       "      <td>0,00</td>\n",
       "      <td>5</td>\n",
       "      <td>None</td>\n",
       "    </tr>\n",
       "    <tr>\n",
       "      <th>4</th>\n",
       "      <td>13289</td>\n",
       "      <td>ANDREIA CRISTINA DELSIN EIRELI</td>\n",
       "      <td>2305</td>\n",
       "      <td>65</td>\n",
       "      <td>100000,00</td>\n",
       "      <td>1</td>\n",
       "      <td>None</td>\n",
       "    </tr>\n",
       "  </tbody>\n",
       "</table>\n",
       "</div>"
      ],
      "text/plain": [
       "   cnpj_basico                      razao_social_nome_empresarial  \\\n",
       "0         4519                              DANIELA DA SILVA CRUZ   \n",
       "1         8638                           JOAO DOS SANTOS FAGUNDES   \n",
       "2        11748  PANIFICADORA E CONFEITARIA CONFIANCA RIO PRETO...   \n",
       "3        12027                                L G SORVETERIA LTDA   \n",
       "4        13289                     ANDREIA CRISTINA DELSIN EIRELI   \n",
       "\n",
       "   natureza_juridica  qualificacao_do_responsavel capital_social_da_empresa  \\\n",
       "0               2135                           50                      0,00   \n",
       "1               2135                           50                      0,00   \n",
       "2               2062                           49                      0,00   \n",
       "3               2062                           49                      0,00   \n",
       "4               2305                           65                 100000,00   \n",
       "\n",
       "   porte_da_empresa ente_federativo_responsavel  \n",
       "0                 5                        None  \n",
       "1                 5                        None  \n",
       "2                 1                        None  \n",
       "3                 5                        None  \n",
       "4                 1                        None  "
      ]
     },
     "execution_count": 33,
     "metadata": {},
     "output_type": "execute_result"
    }
   ],
   "source": [
    "empresas.limit(5).toPandas()"
   ]
  },
  {
   "cell_type": "code",
   "execution_count": 34,
   "metadata": {},
   "outputs": [
    {
     "data": {
      "text/html": [
       "<div>\n",
       "<style scoped>\n",
       "    .dataframe tbody tr th:only-of-type {\n",
       "        vertical-align: middle;\n",
       "    }\n",
       "\n",
       "    .dataframe tbody tr th {\n",
       "        vertical-align: top;\n",
       "    }\n",
       "\n",
       "    .dataframe thead th {\n",
       "        text-align: right;\n",
       "    }\n",
       "</style>\n",
       "<table border=\"1\" class=\"dataframe\">\n",
       "  <thead>\n",
       "    <tr style=\"text-align: right;\">\n",
       "      <th></th>\n",
       "      <th>cnpj_basico</th>\n",
       "      <th>razao_social_nome_empresarial</th>\n",
       "      <th>natureza_juridica</th>\n",
       "      <th>qualificacao_do_responsavel</th>\n",
       "      <th>capital_social_da_empresa</th>\n",
       "      <th>porte_da_empresa</th>\n",
       "      <th>ente_federativo_responsavel</th>\n",
       "    </tr>\n",
       "  </thead>\n",
       "  <tbody>\n",
       "    <tr>\n",
       "      <th>0</th>\n",
       "      <td>4519</td>\n",
       "      <td>DANIELA DA SILVA CRUZ</td>\n",
       "      <td>2135</td>\n",
       "      <td>50</td>\n",
       "      <td>0.00</td>\n",
       "      <td>5</td>\n",
       "      <td>None</td>\n",
       "    </tr>\n",
       "    <tr>\n",
       "      <th>1</th>\n",
       "      <td>8638</td>\n",
       "      <td>JOAO DOS SANTOS FAGUNDES</td>\n",
       "      <td>2135</td>\n",
       "      <td>50</td>\n",
       "      <td>0.00</td>\n",
       "      <td>5</td>\n",
       "      <td>None</td>\n",
       "    </tr>\n",
       "    <tr>\n",
       "      <th>2</th>\n",
       "      <td>11748</td>\n",
       "      <td>PANIFICADORA E CONFEITARIA CONFIANCA RIO PRETO...</td>\n",
       "      <td>2062</td>\n",
       "      <td>49</td>\n",
       "      <td>0.00</td>\n",
       "      <td>1</td>\n",
       "      <td>None</td>\n",
       "    </tr>\n",
       "    <tr>\n",
       "      <th>3</th>\n",
       "      <td>12027</td>\n",
       "      <td>L G SORVETERIA LTDA</td>\n",
       "      <td>2062</td>\n",
       "      <td>49</td>\n",
       "      <td>0.00</td>\n",
       "      <td>5</td>\n",
       "      <td>None</td>\n",
       "    </tr>\n",
       "    <tr>\n",
       "      <th>4</th>\n",
       "      <td>13289</td>\n",
       "      <td>ANDREIA CRISTINA DELSIN EIRELI</td>\n",
       "      <td>2305</td>\n",
       "      <td>65</td>\n",
       "      <td>100000.00</td>\n",
       "      <td>1</td>\n",
       "      <td>None</td>\n",
       "    </tr>\n",
       "  </tbody>\n",
       "</table>\n",
       "</div>"
      ],
      "text/plain": [
       "   cnpj_basico                      razao_social_nome_empresarial  \\\n",
       "0         4519                              DANIELA DA SILVA CRUZ   \n",
       "1         8638                           JOAO DOS SANTOS FAGUNDES   \n",
       "2        11748  PANIFICADORA E CONFEITARIA CONFIANCA RIO PRETO...   \n",
       "3        12027                                L G SORVETERIA LTDA   \n",
       "4        13289                     ANDREIA CRISTINA DELSIN EIRELI   \n",
       "\n",
       "   natureza_juridica  qualificacao_do_responsavel capital_social_da_empresa  \\\n",
       "0               2135                           50                      0.00   \n",
       "1               2135                           50                      0.00   \n",
       "2               2062                           49                      0.00   \n",
       "3               2062                           49                      0.00   \n",
       "4               2305                           65                 100000.00   \n",
       "\n",
       "   porte_da_empresa ente_federativo_responsavel  \n",
       "0                 5                        None  \n",
       "1                 5                        None  \n",
       "2                 1                        None  \n",
       "3                 5                        None  \n",
       "4                 1                        None  "
      ]
     },
     "execution_count": 34,
     "metadata": {},
     "output_type": "execute_result"
    }
   ],
   "source": [
    "empresas = empresas.withColumn(\n",
    "    'capital_social_da_empresa', f.regexp_replace('capital_social_da_empresa', ',', '.'))\n",
    "empresas.limit(5).toPandas()\n"
   ]
  },
  {
   "cell_type": "code",
   "execution_count": 35,
   "metadata": {},
   "outputs": [
    {
     "name": "stdout",
     "output_type": "stream",
     "text": [
      "root\n",
      " |-- cnpj_basico: integer (nullable = true)\n",
      " |-- razao_social_nome_empresarial: string (nullable = true)\n",
      " |-- natureza_juridica: integer (nullable = true)\n",
      " |-- qualificacao_do_responsavel: integer (nullable = true)\n",
      " |-- capital_social_da_empresa: string (nullable = true)\n",
      " |-- porte_da_empresa: integer (nullable = true)\n",
      " |-- ente_federativo_responsavel: string (nullable = true)\n",
      "\n"
     ]
    }
   ],
   "source": [
    "empresas.printSchema()\n"
   ]
  },
  {
   "cell_type": "code",
   "execution_count": 36,
   "metadata": {},
   "outputs": [
    {
     "data": {
      "text/html": [
       "<div>\n",
       "<style scoped>\n",
       "    .dataframe tbody tr th:only-of-type {\n",
       "        vertical-align: middle;\n",
       "    }\n",
       "\n",
       "    .dataframe tbody tr th {\n",
       "        vertical-align: top;\n",
       "    }\n",
       "\n",
       "    .dataframe thead th {\n",
       "        text-align: right;\n",
       "    }\n",
       "</style>\n",
       "<table border=\"1\" class=\"dataframe\">\n",
       "  <thead>\n",
       "    <tr style=\"text-align: right;\">\n",
       "      <th></th>\n",
       "      <th>cnpj_basico</th>\n",
       "      <th>razao_social_nome_empresarial</th>\n",
       "      <th>natureza_juridica</th>\n",
       "      <th>qualificacao_do_responsavel</th>\n",
       "      <th>capital_social_da_empresa</th>\n",
       "      <th>porte_da_empresa</th>\n",
       "      <th>ente_federativo_responsavel</th>\n",
       "    </tr>\n",
       "  </thead>\n",
       "  <tbody>\n",
       "    <tr>\n",
       "      <th>0</th>\n",
       "      <td>4519</td>\n",
       "      <td>DANIELA DA SILVA CRUZ</td>\n",
       "      <td>2135</td>\n",
       "      <td>50</td>\n",
       "      <td>0.0</td>\n",
       "      <td>5</td>\n",
       "      <td>None</td>\n",
       "    </tr>\n",
       "    <tr>\n",
       "      <th>1</th>\n",
       "      <td>8638</td>\n",
       "      <td>JOAO DOS SANTOS FAGUNDES</td>\n",
       "      <td>2135</td>\n",
       "      <td>50</td>\n",
       "      <td>0.0</td>\n",
       "      <td>5</td>\n",
       "      <td>None</td>\n",
       "    </tr>\n",
       "    <tr>\n",
       "      <th>2</th>\n",
       "      <td>11748</td>\n",
       "      <td>PANIFICADORA E CONFEITARIA CONFIANCA RIO PRETO...</td>\n",
       "      <td>2062</td>\n",
       "      <td>49</td>\n",
       "      <td>0.0</td>\n",
       "      <td>1</td>\n",
       "      <td>None</td>\n",
       "    </tr>\n",
       "    <tr>\n",
       "      <th>3</th>\n",
       "      <td>12027</td>\n",
       "      <td>L G SORVETERIA LTDA</td>\n",
       "      <td>2062</td>\n",
       "      <td>49</td>\n",
       "      <td>0.0</td>\n",
       "      <td>5</td>\n",
       "      <td>None</td>\n",
       "    </tr>\n",
       "    <tr>\n",
       "      <th>4</th>\n",
       "      <td>13289</td>\n",
       "      <td>ANDREIA CRISTINA DELSIN EIRELI</td>\n",
       "      <td>2305</td>\n",
       "      <td>65</td>\n",
       "      <td>100000.0</td>\n",
       "      <td>1</td>\n",
       "      <td>None</td>\n",
       "    </tr>\n",
       "  </tbody>\n",
       "</table>\n",
       "</div>"
      ],
      "text/plain": [
       "   cnpj_basico                      razao_social_nome_empresarial  \\\n",
       "0         4519                              DANIELA DA SILVA CRUZ   \n",
       "1         8638                           JOAO DOS SANTOS FAGUNDES   \n",
       "2        11748  PANIFICADORA E CONFEITARIA CONFIANCA RIO PRETO...   \n",
       "3        12027                                L G SORVETERIA LTDA   \n",
       "4        13289                     ANDREIA CRISTINA DELSIN EIRELI   \n",
       "\n",
       "   natureza_juridica  qualificacao_do_responsavel  capital_social_da_empresa  \\\n",
       "0               2135                           50                        0.0   \n",
       "1               2135                           50                        0.0   \n",
       "2               2062                           49                        0.0   \n",
       "3               2062                           49                        0.0   \n",
       "4               2305                           65                   100000.0   \n",
       "\n",
       "   porte_da_empresa ente_federativo_responsavel  \n",
       "0                 5                        None  \n",
       "1                 5                        None  \n",
       "2                 1                        None  \n",
       "3                 5                        None  \n",
       "4                 1                        None  "
      ]
     },
     "execution_count": 36,
     "metadata": {},
     "output_type": "execute_result"
    }
   ],
   "source": [
    "empresas = empresas.withColumn(\n",
    "    'capital_social_da_empresa', empresas['capital_social_da_empresa'].cast(DoubleType()))\n",
    "empresas.limit(5).toPandas()\n"
   ]
  },
  {
   "cell_type": "code",
   "execution_count": 37,
   "metadata": {},
   "outputs": [
    {
     "name": "stdout",
     "output_type": "stream",
     "text": [
      "root\n",
      " |-- cnpj_basico: integer (nullable = true)\n",
      " |-- razao_social_nome_empresarial: string (nullable = true)\n",
      " |-- natureza_juridica: integer (nullable = true)\n",
      " |-- qualificacao_do_responsavel: integer (nullable = true)\n",
      " |-- capital_social_da_empresa: double (nullable = true)\n",
      " |-- porte_da_empresa: integer (nullable = true)\n",
      " |-- ente_federativo_responsavel: string (nullable = true)\n",
      "\n"
     ]
    }
   ],
   "source": [
    "empresas.printSchema()\n"
   ]
  },
  {
   "cell_type": "code",
   "execution_count": 38,
   "metadata": {},
   "outputs": [
    {
     "data": {
      "text/html": [
       "<div>\n",
       "<style scoped>\n",
       "    .dataframe tbody tr th:only-of-type {\n",
       "        vertical-align: middle;\n",
       "    }\n",
       "\n",
       "    .dataframe tbody tr th {\n",
       "        vertical-align: top;\n",
       "    }\n",
       "\n",
       "    .dataframe thead th {\n",
       "        text-align: right;\n",
       "    }\n",
       "</style>\n",
       "<table border=\"1\" class=\"dataframe\">\n",
       "  <thead>\n",
       "    <tr style=\"text-align: right;\">\n",
       "      <th></th>\n",
       "      <th>cnpj_basico</th>\n",
       "      <th>cnpj_ordem</th>\n",
       "      <th>cnpj_dv</th>\n",
       "      <th>identificador_matriz_filial</th>\n",
       "      <th>nome_fantasia</th>\n",
       "      <th>situacao_cadastral</th>\n",
       "      <th>data_situacao_cadastral</th>\n",
       "      <th>motivo_situacao_cadastral</th>\n",
       "      <th>nome_da_cidade_no_exterior</th>\n",
       "      <th>pais</th>\n",
       "      <th>...</th>\n",
       "      <th>municipio</th>\n",
       "      <th>ddd_1</th>\n",
       "      <th>telefone_1</th>\n",
       "      <th>ddd_2</th>\n",
       "      <th>telefone_2</th>\n",
       "      <th>ddd_do_fax</th>\n",
       "      <th>fax</th>\n",
       "      <th>correio_eletronico</th>\n",
       "      <th>situacao_especial</th>\n",
       "      <th>data_da_situacao_especial</th>\n",
       "    </tr>\n",
       "  </thead>\n",
       "  <tbody>\n",
       "    <tr>\n",
       "      <th>0</th>\n",
       "      <td>4519</td>\n",
       "      <td>1</td>\n",
       "      <td>48</td>\n",
       "      <td>1</td>\n",
       "      <td>GIRAFFAS</td>\n",
       "      <td>8</td>\n",
       "      <td>19950331</td>\n",
       "      <td>1</td>\n",
       "      <td>None</td>\n",
       "      <td>NaN</td>\n",
       "      <td>...</td>\n",
       "      <td>6219</td>\n",
       "      <td>None</td>\n",
       "      <td>None</td>\n",
       "      <td>None</td>\n",
       "      <td>None</td>\n",
       "      <td>NaN</td>\n",
       "      <td>None</td>\n",
       "      <td>None</td>\n",
       "      <td>None</td>\n",
       "      <td>NaN</td>\n",
       "    </tr>\n",
       "    <tr>\n",
       "      <th>1</th>\n",
       "      <td>8638</td>\n",
       "      <td>1</td>\n",
       "      <td>79</td>\n",
       "      <td>1</td>\n",
       "      <td>AGROPECUARIA FAGUNDES</td>\n",
       "      <td>8</td>\n",
       "      <td>20150209</td>\n",
       "      <td>73</td>\n",
       "      <td>None</td>\n",
       "      <td>NaN</td>\n",
       "      <td>...</td>\n",
       "      <td>7255</td>\n",
       "      <td>None</td>\n",
       "      <td>None</td>\n",
       "      <td>None</td>\n",
       "      <td>None</td>\n",
       "      <td>NaN</td>\n",
       "      <td>None</td>\n",
       "      <td>None</td>\n",
       "      <td>None</td>\n",
       "      <td>NaN</td>\n",
       "    </tr>\n",
       "    <tr>\n",
       "      <th>2</th>\n",
       "      <td>11748</td>\n",
       "      <td>1</td>\n",
       "      <td>90</td>\n",
       "      <td>1</td>\n",
       "      <td>None</td>\n",
       "      <td>4</td>\n",
       "      <td>20181219</td>\n",
       "      <td>63</td>\n",
       "      <td>None</td>\n",
       "      <td>NaN</td>\n",
       "      <td>...</td>\n",
       "      <td>7097</td>\n",
       "      <td>None</td>\n",
       "      <td>None</td>\n",
       "      <td>None</td>\n",
       "      <td>None</td>\n",
       "      <td>NaN</td>\n",
       "      <td>None</td>\n",
       "      <td>None</td>\n",
       "      <td>None</td>\n",
       "      <td>NaN</td>\n",
       "    </tr>\n",
       "    <tr>\n",
       "      <th>3</th>\n",
       "      <td>12027</td>\n",
       "      <td>1</td>\n",
       "      <td>2</td>\n",
       "      <td>1</td>\n",
       "      <td>None</td>\n",
       "      <td>8</td>\n",
       "      <td>20081231</td>\n",
       "      <td>71</td>\n",
       "      <td>None</td>\n",
       "      <td>NaN</td>\n",
       "      <td>...</td>\n",
       "      <td>7107</td>\n",
       "      <td>None</td>\n",
       "      <td>None</td>\n",
       "      <td>None</td>\n",
       "      <td>None</td>\n",
       "      <td>NaN</td>\n",
       "      <td>None</td>\n",
       "      <td>None</td>\n",
       "      <td>None</td>\n",
       "      <td>NaN</td>\n",
       "    </tr>\n",
       "    <tr>\n",
       "      <th>4</th>\n",
       "      <td>13289</td>\n",
       "      <td>1</td>\n",
       "      <td>83</td>\n",
       "      <td>1</td>\n",
       "      <td>JS MATERIAIS DE CONSTRUCAO</td>\n",
       "      <td>2</td>\n",
       "      <td>20040123</td>\n",
       "      <td>0</td>\n",
       "      <td>None</td>\n",
       "      <td>NaN</td>\n",
       "      <td>...</td>\n",
       "      <td>6915</td>\n",
       "      <td>19</td>\n",
       "      <td>35811286</td>\n",
       "      <td>None</td>\n",
       "      <td>None</td>\n",
       "      <td>NaN</td>\n",
       "      <td>None</td>\n",
       "      <td>CONTATO@LEONECONTABIL.COM.BR</td>\n",
       "      <td>None</td>\n",
       "      <td>NaN</td>\n",
       "    </tr>\n",
       "  </tbody>\n",
       "</table>\n",
       "<p>5 rows × 30 columns</p>\n",
       "</div>"
      ],
      "text/plain": [
       "   cnpj_basico  cnpj_ordem  cnpj_dv  identificador_matriz_filial  \\\n",
       "0         4519           1       48                            1   \n",
       "1         8638           1       79                            1   \n",
       "2        11748           1       90                            1   \n",
       "3        12027           1        2                            1   \n",
       "4        13289           1       83                            1   \n",
       "\n",
       "                nome_fantasia  situacao_cadastral  data_situacao_cadastral  \\\n",
       "0                    GIRAFFAS                   8                 19950331   \n",
       "1       AGROPECUARIA FAGUNDES                   8                 20150209   \n",
       "2                        None                   4                 20181219   \n",
       "3                        None                   8                 20081231   \n",
       "4  JS MATERIAIS DE CONSTRUCAO                   2                 20040123   \n",
       "\n",
       "   motivo_situacao_cadastral nome_da_cidade_no_exterior  pais  ...  municipio  \\\n",
       "0                          1                       None   NaN  ...       6219   \n",
       "1                         73                       None   NaN  ...       7255   \n",
       "2                         63                       None   NaN  ...       7097   \n",
       "3                         71                       None   NaN  ...       7107   \n",
       "4                          0                       None   NaN  ...       6915   \n",
       "\n",
       "   ddd_1 telefone_1 ddd_2 telefone_2 ddd_do_fax   fax  \\\n",
       "0   None       None  None       None        NaN  None   \n",
       "1   None       None  None       None        NaN  None   \n",
       "2   None       None  None       None        NaN  None   \n",
       "3   None       None  None       None        NaN  None   \n",
       "4     19   35811286  None       None        NaN  None   \n",
       "\n",
       "             correio_eletronico  situacao_especial data_da_situacao_especial  \n",
       "0                          None               None                       NaN  \n",
       "1                          None               None                       NaN  \n",
       "2                          None               None                       NaN  \n",
       "3                          None               None                       NaN  \n",
       "4  CONTATO@LEONECONTABIL.COM.BR               None                       NaN  \n",
       "\n",
       "[5 rows x 30 columns]"
      ]
     },
     "execution_count": 38,
     "metadata": {},
     "output_type": "execute_result"
    }
   ],
   "source": [
    "estabelecimentos.limit(5).toPandas()"
   ]
  },
  {
   "cell_type": "code",
   "execution_count": 39,
   "metadata": {},
   "outputs": [
    {
     "name": "stdout",
     "output_type": "stream",
     "text": [
      "root\n",
      " |-- cnpj_basico: integer (nullable = true)\n",
      " |-- cnpj_ordem: integer (nullable = true)\n",
      " |-- cnpj_dv: integer (nullable = true)\n",
      " |-- identificador_matriz_filial: integer (nullable = true)\n",
      " |-- nome_fantasia: string (nullable = true)\n",
      " |-- situacao_cadastral: integer (nullable = true)\n",
      " |-- data_situacao_cadastral: integer (nullable = true)\n",
      " |-- motivo_situacao_cadastral: integer (nullable = true)\n",
      " |-- nome_da_cidade_no_exterior: string (nullable = true)\n",
      " |-- pais: integer (nullable = true)\n",
      " |-- data_de_inicio_atividade: integer (nullable = true)\n",
      " |-- cnae_fiscal_principal: integer (nullable = true)\n",
      " |-- cnae_fiscal_secundaria: string (nullable = true)\n",
      " |-- tipo_de_logradouro: string (nullable = true)\n",
      " |-- logradouro: string (nullable = true)\n",
      " |-- numero: string (nullable = true)\n",
      " |-- complemento: string (nullable = true)\n",
      " |-- bairro: string (nullable = true)\n",
      " |-- cep: integer (nullable = true)\n",
      " |-- uf: string (nullable = true)\n",
      " |-- municipio: integer (nullable = true)\n",
      " |-- ddd_1: string (nullable = true)\n",
      " |-- telefone_1: string (nullable = true)\n",
      " |-- ddd_2: string (nullable = true)\n",
      " |-- telefone_2: string (nullable = true)\n",
      " |-- ddd_do_fax: integer (nullable = true)\n",
      " |-- fax: string (nullable = true)\n",
      " |-- correio_eletronico: string (nullable = true)\n",
      " |-- situacao_especial: string (nullable = true)\n",
      " |-- data_da_situacao_especial: integer (nullable = true)\n",
      "\n"
     ]
    }
   ],
   "source": [
    "estabelecimentos.printSchema()"
   ]
  },
  {
   "cell_type": "code",
   "execution_count": 40,
   "metadata": {},
   "outputs": [
    {
     "name": "stdout",
     "output_type": "stream",
     "text": [
      "root\n",
      " |-- cnpj_basico: integer (nullable = true)\n",
      " |-- cnpj_ordem: integer (nullable = true)\n",
      " |-- cnpj_dv: integer (nullable = true)\n",
      " |-- identificador_matriz_filial: integer (nullable = true)\n",
      " |-- nome_fantasia: string (nullable = true)\n",
      " |-- situacao_cadastral: integer (nullable = true)\n",
      " |-- data_situacao_cadastral: date (nullable = true)\n",
      " |-- motivo_situacao_cadastral: integer (nullable = true)\n",
      " |-- nome_da_cidade_no_exterior: string (nullable = true)\n",
      " |-- pais: integer (nullable = true)\n",
      " |-- data_de_inicio_atividade: date (nullable = true)\n",
      " |-- cnae_fiscal_principal: integer (nullable = true)\n",
      " |-- cnae_fiscal_secundaria: string (nullable = true)\n",
      " |-- tipo_de_logradouro: string (nullable = true)\n",
      " |-- logradouro: string (nullable = true)\n",
      " |-- numero: string (nullable = true)\n",
      " |-- complemento: string (nullable = true)\n",
      " |-- bairro: string (nullable = true)\n",
      " |-- cep: integer (nullable = true)\n",
      " |-- uf: string (nullable = true)\n",
      " |-- municipio: integer (nullable = true)\n",
      " |-- ddd_1: string (nullable = true)\n",
      " |-- telefone_1: string (nullable = true)\n",
      " |-- ddd_2: string (nullable = true)\n",
      " |-- telefone_2: string (nullable = true)\n",
      " |-- ddd_do_fax: integer (nullable = true)\n",
      " |-- fax: string (nullable = true)\n",
      " |-- correio_eletronico: string (nullable = true)\n",
      " |-- situacao_especial: string (nullable = true)\n",
      " |-- data_da_situacao_especial: date (nullable = true)\n",
      "\n"
     ]
    }
   ],
   "source": [
    "estabelecimentos = estabelecimentos \\\n",
    "    .withColumn(\"data_situacao_cadastral\", \n",
    "                f.to_date(estabelecimentos.data_situacao_cadastral.cast(StringType()), 'yyyyMMdd')\n",
    "    ) \\\n",
    "    .withColumn(\"data_de_inicio_atividade\",\n",
    "                f.to_date(estabelecimentos.data_de_inicio_atividade.cast(StringType()), 'yyyyMMdd')\n",
    "    ) \\\n",
    "    .withColumn(\"data_da_situacao_especial\",\n",
    "                f.to_date(estabelecimentos.data_da_situacao_especial.cast(StringType()), 'yyyyMMdd')\n",
    "    )\n",
    "\n",
    "estabelecimentos.printSchema()\n"
   ]
  },
  {
   "cell_type": "code",
   "execution_count": 41,
   "metadata": {},
   "outputs": [
    {
     "data": {
      "text/html": [
       "<div>\n",
       "<style scoped>\n",
       "    .dataframe tbody tr th:only-of-type {\n",
       "        vertical-align: middle;\n",
       "    }\n",
       "\n",
       "    .dataframe tbody tr th {\n",
       "        vertical-align: top;\n",
       "    }\n",
       "\n",
       "    .dataframe thead th {\n",
       "        text-align: right;\n",
       "    }\n",
       "</style>\n",
       "<table border=\"1\" class=\"dataframe\">\n",
       "  <thead>\n",
       "    <tr style=\"text-align: right;\">\n",
       "      <th></th>\n",
       "      <th>cnpj_basico</th>\n",
       "      <th>cnpj_ordem</th>\n",
       "      <th>cnpj_dv</th>\n",
       "      <th>identificador_matriz_filial</th>\n",
       "      <th>nome_fantasia</th>\n",
       "      <th>situacao_cadastral</th>\n",
       "      <th>data_situacao_cadastral</th>\n",
       "      <th>motivo_situacao_cadastral</th>\n",
       "      <th>nome_da_cidade_no_exterior</th>\n",
       "      <th>pais</th>\n",
       "      <th>...</th>\n",
       "      <th>municipio</th>\n",
       "      <th>ddd_1</th>\n",
       "      <th>telefone_1</th>\n",
       "      <th>ddd_2</th>\n",
       "      <th>telefone_2</th>\n",
       "      <th>ddd_do_fax</th>\n",
       "      <th>fax</th>\n",
       "      <th>correio_eletronico</th>\n",
       "      <th>situacao_especial</th>\n",
       "      <th>data_da_situacao_especial</th>\n",
       "    </tr>\n",
       "  </thead>\n",
       "  <tbody>\n",
       "    <tr>\n",
       "      <th>0</th>\n",
       "      <td>4519</td>\n",
       "      <td>1</td>\n",
       "      <td>48</td>\n",
       "      <td>1</td>\n",
       "      <td>GIRAFFAS</td>\n",
       "      <td>8</td>\n",
       "      <td>1995-03-31</td>\n",
       "      <td>1</td>\n",
       "      <td>None</td>\n",
       "      <td>NaN</td>\n",
       "      <td>...</td>\n",
       "      <td>6219</td>\n",
       "      <td>None</td>\n",
       "      <td>None</td>\n",
       "      <td>None</td>\n",
       "      <td>None</td>\n",
       "      <td>NaN</td>\n",
       "      <td>None</td>\n",
       "      <td>None</td>\n",
       "      <td>None</td>\n",
       "      <td>None</td>\n",
       "    </tr>\n",
       "    <tr>\n",
       "      <th>1</th>\n",
       "      <td>8638</td>\n",
       "      <td>1</td>\n",
       "      <td>79</td>\n",
       "      <td>1</td>\n",
       "      <td>AGROPECUARIA FAGUNDES</td>\n",
       "      <td>8</td>\n",
       "      <td>2015-02-09</td>\n",
       "      <td>73</td>\n",
       "      <td>None</td>\n",
       "      <td>NaN</td>\n",
       "      <td>...</td>\n",
       "      <td>7255</td>\n",
       "      <td>None</td>\n",
       "      <td>None</td>\n",
       "      <td>None</td>\n",
       "      <td>None</td>\n",
       "      <td>NaN</td>\n",
       "      <td>None</td>\n",
       "      <td>None</td>\n",
       "      <td>None</td>\n",
       "      <td>None</td>\n",
       "    </tr>\n",
       "    <tr>\n",
       "      <th>2</th>\n",
       "      <td>11748</td>\n",
       "      <td>1</td>\n",
       "      <td>90</td>\n",
       "      <td>1</td>\n",
       "      <td>None</td>\n",
       "      <td>4</td>\n",
       "      <td>2018-12-19</td>\n",
       "      <td>63</td>\n",
       "      <td>None</td>\n",
       "      <td>NaN</td>\n",
       "      <td>...</td>\n",
       "      <td>7097</td>\n",
       "      <td>None</td>\n",
       "      <td>None</td>\n",
       "      <td>None</td>\n",
       "      <td>None</td>\n",
       "      <td>NaN</td>\n",
       "      <td>None</td>\n",
       "      <td>None</td>\n",
       "      <td>None</td>\n",
       "      <td>None</td>\n",
       "    </tr>\n",
       "    <tr>\n",
       "      <th>3</th>\n",
       "      <td>12027</td>\n",
       "      <td>1</td>\n",
       "      <td>2</td>\n",
       "      <td>1</td>\n",
       "      <td>None</td>\n",
       "      <td>8</td>\n",
       "      <td>2008-12-31</td>\n",
       "      <td>71</td>\n",
       "      <td>None</td>\n",
       "      <td>NaN</td>\n",
       "      <td>...</td>\n",
       "      <td>7107</td>\n",
       "      <td>None</td>\n",
       "      <td>None</td>\n",
       "      <td>None</td>\n",
       "      <td>None</td>\n",
       "      <td>NaN</td>\n",
       "      <td>None</td>\n",
       "      <td>None</td>\n",
       "      <td>None</td>\n",
       "      <td>None</td>\n",
       "    </tr>\n",
       "    <tr>\n",
       "      <th>4</th>\n",
       "      <td>13289</td>\n",
       "      <td>1</td>\n",
       "      <td>83</td>\n",
       "      <td>1</td>\n",
       "      <td>JS MATERIAIS DE CONSTRUCAO</td>\n",
       "      <td>2</td>\n",
       "      <td>2004-01-23</td>\n",
       "      <td>0</td>\n",
       "      <td>None</td>\n",
       "      <td>NaN</td>\n",
       "      <td>...</td>\n",
       "      <td>6915</td>\n",
       "      <td>19</td>\n",
       "      <td>35811286</td>\n",
       "      <td>None</td>\n",
       "      <td>None</td>\n",
       "      <td>NaN</td>\n",
       "      <td>None</td>\n",
       "      <td>CONTATO@LEONECONTABIL.COM.BR</td>\n",
       "      <td>None</td>\n",
       "      <td>None</td>\n",
       "    </tr>\n",
       "  </tbody>\n",
       "</table>\n",
       "<p>5 rows × 30 columns</p>\n",
       "</div>"
      ],
      "text/plain": [
       "   cnpj_basico  cnpj_ordem  cnpj_dv  identificador_matriz_filial  \\\n",
       "0         4519           1       48                            1   \n",
       "1         8638           1       79                            1   \n",
       "2        11748           1       90                            1   \n",
       "3        12027           1        2                            1   \n",
       "4        13289           1       83                            1   \n",
       "\n",
       "                nome_fantasia  situacao_cadastral data_situacao_cadastral  \\\n",
       "0                    GIRAFFAS                   8              1995-03-31   \n",
       "1       AGROPECUARIA FAGUNDES                   8              2015-02-09   \n",
       "2                        None                   4              2018-12-19   \n",
       "3                        None                   8              2008-12-31   \n",
       "4  JS MATERIAIS DE CONSTRUCAO                   2              2004-01-23   \n",
       "\n",
       "   motivo_situacao_cadastral nome_da_cidade_no_exterior  pais  ... municipio  \\\n",
       "0                          1                       None   NaN  ...      6219   \n",
       "1                         73                       None   NaN  ...      7255   \n",
       "2                         63                       None   NaN  ...      7097   \n",
       "3                         71                       None   NaN  ...      7107   \n",
       "4                          0                       None   NaN  ...      6915   \n",
       "\n",
       "   ddd_1 telefone_1 ddd_2 telefone_2 ddd_do_fax   fax  \\\n",
       "0   None       None  None       None        NaN  None   \n",
       "1   None       None  None       None        NaN  None   \n",
       "2   None       None  None       None        NaN  None   \n",
       "3   None       None  None       None        NaN  None   \n",
       "4     19   35811286  None       None        NaN  None   \n",
       "\n",
       "             correio_eletronico  situacao_especial data_da_situacao_especial  \n",
       "0                          None               None                      None  \n",
       "1                          None               None                      None  \n",
       "2                          None               None                      None  \n",
       "3                          None               None                      None  \n",
       "4  CONTATO@LEONECONTABIL.COM.BR               None                      None  \n",
       "\n",
       "[5 rows x 30 columns]"
      ]
     },
     "execution_count": 41,
     "metadata": {},
     "output_type": "execute_result"
    }
   ],
   "source": [
    "estabelecimentos.limit(5).toPandas()\n"
   ]
  },
  {
   "cell_type": "code",
   "execution_count": 42,
   "metadata": {},
   "outputs": [
    {
     "data": {
      "text/html": [
       "<div>\n",
       "<style scoped>\n",
       "    .dataframe tbody tr th:only-of-type {\n",
       "        vertical-align: middle;\n",
       "    }\n",
       "\n",
       "    .dataframe tbody tr th {\n",
       "        vertical-align: top;\n",
       "    }\n",
       "\n",
       "    .dataframe thead th {\n",
       "        text-align: right;\n",
       "    }\n",
       "</style>\n",
       "<table border=\"1\" class=\"dataframe\">\n",
       "  <thead>\n",
       "    <tr style=\"text-align: right;\">\n",
       "      <th></th>\n",
       "      <th>cnpj_basico</th>\n",
       "      <th>identificador_de_socio</th>\n",
       "      <th>nome_do_socio_ou_razao_social</th>\n",
       "      <th>cnpj_ou_cpf_do_socio</th>\n",
       "      <th>qualificacao_do_socio</th>\n",
       "      <th>data_de_entrada_sociedade</th>\n",
       "      <th>pais</th>\n",
       "      <th>representante_legal</th>\n",
       "      <th>nome_do_representante</th>\n",
       "      <th>qualificacao_do_representante_legal</th>\n",
       "      <th>faixa_etaria</th>\n",
       "    </tr>\n",
       "  </thead>\n",
       "  <tbody>\n",
       "    <tr>\n",
       "      <th>0</th>\n",
       "      <td>411</td>\n",
       "      <td>2</td>\n",
       "      <td>LILIANA PATRICIA GUASTAVINO</td>\n",
       "      <td>***678188**</td>\n",
       "      <td>22</td>\n",
       "      <td>19940725</td>\n",
       "      <td>NaN</td>\n",
       "      <td>***000000**</td>\n",
       "      <td>None</td>\n",
       "      <td>0</td>\n",
       "      <td>7</td>\n",
       "    </tr>\n",
       "    <tr>\n",
       "      <th>1</th>\n",
       "      <td>411</td>\n",
       "      <td>2</td>\n",
       "      <td>CRISTINA HUNDERTMARK</td>\n",
       "      <td>***637848**</td>\n",
       "      <td>28</td>\n",
       "      <td>19940725</td>\n",
       "      <td>NaN</td>\n",
       "      <td>***000000**</td>\n",
       "      <td>None</td>\n",
       "      <td>0</td>\n",
       "      <td>7</td>\n",
       "    </tr>\n",
       "    <tr>\n",
       "      <th>2</th>\n",
       "      <td>5813</td>\n",
       "      <td>2</td>\n",
       "      <td>CELSO EDUARDO DE CASTRO STEPHAN</td>\n",
       "      <td>***786068**</td>\n",
       "      <td>49</td>\n",
       "      <td>19940516</td>\n",
       "      <td>NaN</td>\n",
       "      <td>***000000**</td>\n",
       "      <td>None</td>\n",
       "      <td>0</td>\n",
       "      <td>8</td>\n",
       "    </tr>\n",
       "    <tr>\n",
       "      <th>3</th>\n",
       "      <td>5813</td>\n",
       "      <td>2</td>\n",
       "      <td>EDUARDO BERRINGER STEPHAN</td>\n",
       "      <td>***442348**</td>\n",
       "      <td>49</td>\n",
       "      <td>19940516</td>\n",
       "      <td>NaN</td>\n",
       "      <td>***000000**</td>\n",
       "      <td>None</td>\n",
       "      <td>0</td>\n",
       "      <td>5</td>\n",
       "    </tr>\n",
       "    <tr>\n",
       "      <th>4</th>\n",
       "      <td>14798</td>\n",
       "      <td>2</td>\n",
       "      <td>HANNE MAHFOUD FADEL</td>\n",
       "      <td>***760388**</td>\n",
       "      <td>49</td>\n",
       "      <td>19940609</td>\n",
       "      <td>NaN</td>\n",
       "      <td>***000000**</td>\n",
       "      <td>None</td>\n",
       "      <td>0</td>\n",
       "      <td>8</td>\n",
       "    </tr>\n",
       "  </tbody>\n",
       "</table>\n",
       "</div>"
      ],
      "text/plain": [
       "   cnpj_basico  identificador_de_socio    nome_do_socio_ou_razao_social  \\\n",
       "0          411                       2      LILIANA PATRICIA GUASTAVINO   \n",
       "1          411                       2             CRISTINA HUNDERTMARK   \n",
       "2         5813                       2  CELSO EDUARDO DE CASTRO STEPHAN   \n",
       "3         5813                       2        EDUARDO BERRINGER STEPHAN   \n",
       "4        14798                       2              HANNE MAHFOUD FADEL   \n",
       "\n",
       "  cnpj_ou_cpf_do_socio  qualificacao_do_socio  data_de_entrada_sociedade  \\\n",
       "0          ***678188**                     22                   19940725   \n",
       "1          ***637848**                     28                   19940725   \n",
       "2          ***786068**                     49                   19940516   \n",
       "3          ***442348**                     49                   19940516   \n",
       "4          ***760388**                     49                   19940609   \n",
       "\n",
       "   pais representante_legal nome_do_representante  \\\n",
       "0   NaN         ***000000**                  None   \n",
       "1   NaN         ***000000**                  None   \n",
       "2   NaN         ***000000**                  None   \n",
       "3   NaN         ***000000**                  None   \n",
       "4   NaN         ***000000**                  None   \n",
       "\n",
       "   qualificacao_do_representante_legal  faixa_etaria  \n",
       "0                                    0             7  \n",
       "1                                    0             7  \n",
       "2                                    0             8  \n",
       "3                                    0             5  \n",
       "4                                    0             8  "
      ]
     },
     "execution_count": 42,
     "metadata": {},
     "output_type": "execute_result"
    }
   ],
   "source": [
    "socios.limit(5).toPandas()\n"
   ]
  },
  {
   "cell_type": "code",
   "execution_count": 43,
   "metadata": {},
   "outputs": [
    {
     "name": "stdout",
     "output_type": "stream",
     "text": [
      "root\n",
      " |-- cnpj_basico: integer (nullable = true)\n",
      " |-- identificador_de_socio: integer (nullable = true)\n",
      " |-- nome_do_socio_ou_razao_social: string (nullable = true)\n",
      " |-- cnpj_ou_cpf_do_socio: string (nullable = true)\n",
      " |-- qualificacao_do_socio: integer (nullable = true)\n",
      " |-- data_de_entrada_sociedade: integer (nullable = true)\n",
      " |-- pais: integer (nullable = true)\n",
      " |-- representante_legal: string (nullable = true)\n",
      " |-- nome_do_representante: string (nullable = true)\n",
      " |-- qualificacao_do_representante_legal: integer (nullable = true)\n",
      " |-- faixa_etaria: integer (nullable = true)\n",
      "\n"
     ]
    }
   ],
   "source": [
    "socios.printSchema()"
   ]
  },
  {
   "cell_type": "code",
   "execution_count": 44,
   "metadata": {},
   "outputs": [
    {
     "name": "stdout",
     "output_type": "stream",
     "text": [
      "root\n",
      " |-- cnpj_basico: integer (nullable = true)\n",
      " |-- identificador_de_socio: integer (nullable = true)\n",
      " |-- nome_do_socio_ou_razao_social: string (nullable = true)\n",
      " |-- cnpj_ou_cpf_do_socio: string (nullable = true)\n",
      " |-- qualificacao_do_socio: integer (nullable = true)\n",
      " |-- data_de_entrada_sociedade: date (nullable = true)\n",
      " |-- pais: integer (nullable = true)\n",
      " |-- representante_legal: string (nullable = true)\n",
      " |-- nome_do_representante: string (nullable = true)\n",
      " |-- qualificacao_do_representante_legal: integer (nullable = true)\n",
      " |-- faixa_etaria: integer (nullable = true)\n",
      "\n"
     ]
    }
   ],
   "source": [
    "socios = socios.withColumn(\"data_de_entrada_sociedade\", f.to_date(socios.data_de_entrada_sociedade.cast(StringType()), 'yyyyMMdd'))\n",
    "\n",
    "\n",
    "socios.printSchema()\n"
   ]
  },
  {
   "cell_type": "code",
   "execution_count": 45,
   "metadata": {},
   "outputs": [
    {
     "data": {
      "text/html": [
       "<div>\n",
       "<style scoped>\n",
       "    .dataframe tbody tr th:only-of-type {\n",
       "        vertical-align: middle;\n",
       "    }\n",
       "\n",
       "    .dataframe tbody tr th {\n",
       "        vertical-align: top;\n",
       "    }\n",
       "\n",
       "    .dataframe thead th {\n",
       "        text-align: right;\n",
       "    }\n",
       "</style>\n",
       "<table border=\"1\" class=\"dataframe\">\n",
       "  <thead>\n",
       "    <tr style=\"text-align: right;\">\n",
       "      <th></th>\n",
       "      <th>cnpj_basico</th>\n",
       "      <th>identificador_de_socio</th>\n",
       "      <th>nome_do_socio_ou_razao_social</th>\n",
       "      <th>cnpj_ou_cpf_do_socio</th>\n",
       "      <th>qualificacao_do_socio</th>\n",
       "      <th>data_de_entrada_sociedade</th>\n",
       "      <th>pais</th>\n",
       "      <th>representante_legal</th>\n",
       "      <th>nome_do_representante</th>\n",
       "      <th>qualificacao_do_representante_legal</th>\n",
       "      <th>faixa_etaria</th>\n",
       "    </tr>\n",
       "  </thead>\n",
       "  <tbody>\n",
       "    <tr>\n",
       "      <th>0</th>\n",
       "      <td>411</td>\n",
       "      <td>2</td>\n",
       "      <td>LILIANA PATRICIA GUASTAVINO</td>\n",
       "      <td>***678188**</td>\n",
       "      <td>22</td>\n",
       "      <td>1994-07-25</td>\n",
       "      <td>NaN</td>\n",
       "      <td>***000000**</td>\n",
       "      <td>None</td>\n",
       "      <td>0</td>\n",
       "      <td>7</td>\n",
       "    </tr>\n",
       "    <tr>\n",
       "      <th>1</th>\n",
       "      <td>411</td>\n",
       "      <td>2</td>\n",
       "      <td>CRISTINA HUNDERTMARK</td>\n",
       "      <td>***637848**</td>\n",
       "      <td>28</td>\n",
       "      <td>1994-07-25</td>\n",
       "      <td>NaN</td>\n",
       "      <td>***000000**</td>\n",
       "      <td>None</td>\n",
       "      <td>0</td>\n",
       "      <td>7</td>\n",
       "    </tr>\n",
       "    <tr>\n",
       "      <th>2</th>\n",
       "      <td>5813</td>\n",
       "      <td>2</td>\n",
       "      <td>CELSO EDUARDO DE CASTRO STEPHAN</td>\n",
       "      <td>***786068**</td>\n",
       "      <td>49</td>\n",
       "      <td>1994-05-16</td>\n",
       "      <td>NaN</td>\n",
       "      <td>***000000**</td>\n",
       "      <td>None</td>\n",
       "      <td>0</td>\n",
       "      <td>8</td>\n",
       "    </tr>\n",
       "    <tr>\n",
       "      <th>3</th>\n",
       "      <td>5813</td>\n",
       "      <td>2</td>\n",
       "      <td>EDUARDO BERRINGER STEPHAN</td>\n",
       "      <td>***442348**</td>\n",
       "      <td>49</td>\n",
       "      <td>1994-05-16</td>\n",
       "      <td>NaN</td>\n",
       "      <td>***000000**</td>\n",
       "      <td>None</td>\n",
       "      <td>0</td>\n",
       "      <td>5</td>\n",
       "    </tr>\n",
       "    <tr>\n",
       "      <th>4</th>\n",
       "      <td>14798</td>\n",
       "      <td>2</td>\n",
       "      <td>HANNE MAHFOUD FADEL</td>\n",
       "      <td>***760388**</td>\n",
       "      <td>49</td>\n",
       "      <td>1994-06-09</td>\n",
       "      <td>NaN</td>\n",
       "      <td>***000000**</td>\n",
       "      <td>None</td>\n",
       "      <td>0</td>\n",
       "      <td>8</td>\n",
       "    </tr>\n",
       "  </tbody>\n",
       "</table>\n",
       "</div>"
      ],
      "text/plain": [
       "   cnpj_basico  identificador_de_socio    nome_do_socio_ou_razao_social  \\\n",
       "0          411                       2      LILIANA PATRICIA GUASTAVINO   \n",
       "1          411                       2             CRISTINA HUNDERTMARK   \n",
       "2         5813                       2  CELSO EDUARDO DE CASTRO STEPHAN   \n",
       "3         5813                       2        EDUARDO BERRINGER STEPHAN   \n",
       "4        14798                       2              HANNE MAHFOUD FADEL   \n",
       "\n",
       "  cnpj_ou_cpf_do_socio  qualificacao_do_socio data_de_entrada_sociedade  pais  \\\n",
       "0          ***678188**                     22                1994-07-25   NaN   \n",
       "1          ***637848**                     28                1994-07-25   NaN   \n",
       "2          ***786068**                     49                1994-05-16   NaN   \n",
       "3          ***442348**                     49                1994-05-16   NaN   \n",
       "4          ***760388**                     49                1994-06-09   NaN   \n",
       "\n",
       "  representante_legal nome_do_representante  \\\n",
       "0         ***000000**                  None   \n",
       "1         ***000000**                  None   \n",
       "2         ***000000**                  None   \n",
       "3         ***000000**                  None   \n",
       "4         ***000000**                  None   \n",
       "\n",
       "   qualificacao_do_representante_legal  faixa_etaria  \n",
       "0                                    0             7  \n",
       "1                                    0             7  \n",
       "2                                    0             8  \n",
       "3                                    0             5  \n",
       "4                                    0             8  "
      ]
     },
     "execution_count": 45,
     "metadata": {},
     "output_type": "execute_result"
    }
   ],
   "source": [
    "socios.limit(5).toPandas()\n"
   ]
  },
  {
   "cell_type": "code",
   "execution_count": 46,
   "metadata": {},
   "outputs": [
    {
     "name": "stdout",
     "output_type": "stream",
     "text": [
      "+-----------+-----------------------------+-----------------+---------------------------+-------------------------+----------------+---------------------------+\n",
      "|cnpj_basico|razao_social_nome_empresarial|natureza_juridica|qualificacao_do_responsavel|capital_social_da_empresa|porte_da_empresa|ente_federativo_responsavel|\n",
      "+-----------+-----------------------------+-----------------+---------------------------+-------------------------+----------------+---------------------------+\n",
      "|       4519|         DANIELA DA SILVA ...|             2135|                         50|                      0.0|               5|                       null|\n",
      "|       8638|         JOAO DOS SANTOS F...|             2135|                         50|                      0.0|               5|                       null|\n",
      "|      11748|         PANIFICADORA E CO...|             2062|                         49|                      0.0|               1|                       null|\n",
      "|      12027|          L G SORVETERIA LTDA|             2062|                         49|                      0.0|               5|                       null|\n",
      "|      13289|         ANDREIA CRISTINA ...|             2305|                         65|                 100000.0|               1|                       null|\n",
      "+-----------+-----------------------------+-----------------+---------------------------+-------------------------+----------------+---------------------------+\n",
      "only showing top 5 rows\n",
      "\n"
     ]
    }
   ],
   "source": [
    "empresas\\\n",
    "    .select('*')\\\n",
    "    .show(5)"
   ]
  },
  {
   "cell_type": "code",
   "execution_count": 47,
   "metadata": {},
   "outputs": [
    {
     "name": "stdout",
     "output_type": "stream",
     "text": [
      "+-----------+---------------------------------------------------+-----------------+---------------------------+-------------------------+----------------+---------------------------+\n",
      "|cnpj_basico|razao_social_nome_empresarial                      |natureza_juridica|qualificacao_do_responsavel|capital_social_da_empresa|porte_da_empresa|ente_federativo_responsavel|\n",
      "+-----------+---------------------------------------------------+-----------------+---------------------------+-------------------------+----------------+---------------------------+\n",
      "|4519       |DANIELA DA SILVA CRUZ                              |2135             |50                         |0.0                      |5               |null                       |\n",
      "|8638       |JOAO DOS SANTOS FAGUNDES                           |2135             |50                         |0.0                      |5               |null                       |\n",
      "|11748      |PANIFICADORA E CONFEITARIA CONFIANCA RIO PRETO LTDA|2062             |49                         |0.0                      |1               |null                       |\n",
      "|12027      |L G SORVETERIA LTDA                                |2062             |49                         |0.0                      |5               |null                       |\n",
      "|13289      |ANDREIA CRISTINA DELSIN EIRELI                     |2305             |65                         |100000.0                 |1               |null                       |\n",
      "+-----------+---------------------------------------------------+-----------------+---------------------------+-------------------------+----------------+---------------------------+\n",
      "only showing top 5 rows\n",
      "\n"
     ]
    }
   ],
   "source": [
    "empresas\\\n",
    "    .select('*')\\\n",
    "    .show(5,False)\n"
   ]
  },
  {
   "cell_type": "code",
   "execution_count": 48,
   "metadata": {},
   "outputs": [
    {
     "name": "stdout",
     "output_type": "stream",
     "text": [
      "+-----------------+----------------+-------------------------+\n",
      "|natureza_juridica|porte_da_empresa|capital_social_da_empresa|\n",
      "+-----------------+----------------+-------------------------+\n",
      "|2135             |5               |0.0                      |\n",
      "|2135             |5               |0.0                      |\n",
      "|2062             |1               |0.0                      |\n",
      "|2062             |5               |0.0                      |\n",
      "|2305             |1               |100000.0                 |\n",
      "+-----------------+----------------+-------------------------+\n",
      "only showing top 5 rows\n",
      "\n"
     ]
    }
   ],
   "source": [
    "empresas\\\n",
    "    .select('natureza_juridica', 'porte_da_empresa', 'capital_social_da_empresa')\\\n",
    "    .show(5,False)"
   ]
  },
  {
   "cell_type": "code",
   "execution_count": 49,
   "metadata": {},
   "outputs": [
    {
     "name": "stdout",
     "output_type": "stream",
     "text": [
      "+-------------------------------+------------+--------------+\n",
      "|nome_do_socio_ou_razao_social  |faixa_etaria|ano_de_entrada|\n",
      "+-------------------------------+------------+--------------+\n",
      "|LILIANA PATRICIA GUASTAVINO    |7           |1994          |\n",
      "|CRISTINA HUNDERTMARK           |7           |1994          |\n",
      "|CELSO EDUARDO DE CASTRO STEPHAN|8           |1994          |\n",
      "|EDUARDO BERRINGER STEPHAN      |5           |1994          |\n",
      "|HANNE MAHFOUD FADEL            |8           |1994          |\n",
      "+-------------------------------+------------+--------------+\n",
      "only showing top 5 rows\n",
      "\n"
     ]
    }
   ],
   "source": [
    "socios\\\n",
    "    .select('nome_do_socio_ou_razao_social', 'faixa_etaria', f.year('data_de_entrada_sociedade').alias('ano_de_entrada'))\\\n",
    "    .show(5, False)\n"
   ]
  },
  {
   "cell_type": "code",
   "execution_count": 50,
   "metadata": {},
   "outputs": [
    {
     "name": "stdout",
     "output_type": "stream",
     "text": [
      "root\n",
      " |-- cnpj_basico: integer (nullable = true)\n",
      " |-- cnpj_ordem: integer (nullable = true)\n",
      " |-- cnpj_dv: integer (nullable = true)\n",
      " |-- identificador_matriz_filial: integer (nullable = true)\n",
      " |-- nome_fantasia: string (nullable = true)\n",
      " |-- situacao_cadastral: integer (nullable = true)\n",
      " |-- data_situacao_cadastral: date (nullable = true)\n",
      " |-- motivo_situacao_cadastral: integer (nullable = true)\n",
      " |-- nome_da_cidade_no_exterior: string (nullable = true)\n",
      " |-- pais: integer (nullable = true)\n",
      " |-- data_de_inicio_atividade: date (nullable = true)\n",
      " |-- cnae_fiscal_principal: integer (nullable = true)\n",
      " |-- cnae_fiscal_secundaria: string (nullable = true)\n",
      " |-- tipo_de_logradouro: string (nullable = true)\n",
      " |-- logradouro: string (nullable = true)\n",
      " |-- numero: string (nullable = true)\n",
      " |-- complemento: string (nullable = true)\n",
      " |-- bairro: string (nullable = true)\n",
      " |-- cep: integer (nullable = true)\n",
      " |-- uf: string (nullable = true)\n",
      " |-- municipio: integer (nullable = true)\n",
      " |-- ddd_1: string (nullable = true)\n",
      " |-- telefone_1: string (nullable = true)\n",
      " |-- ddd_2: string (nullable = true)\n",
      " |-- telefone_2: string (nullable = true)\n",
      " |-- ddd_do_fax: integer (nullable = true)\n",
      " |-- fax: string (nullable = true)\n",
      " |-- correio_eletronico: string (nullable = true)\n",
      " |-- situacao_especial: string (nullable = true)\n",
      " |-- data_da_situacao_especial: date (nullable = true)\n",
      "\n"
     ]
    }
   ],
   "source": [
    "estabelecimentos.printSchema()\n"
   ]
  },
  {
   "cell_type": "code",
   "execution_count": 51,
   "metadata": {},
   "outputs": [
    {
     "name": "stdout",
     "output_type": "stream",
     "text": [
      "+--------------------+---------+-----------------------+-----------------------+\n",
      "|       nome_fantasia|municipio|ano_de_inicio_atividade|mes_de_inicio_atividade|\n",
      "+--------------------+---------+-----------------------+-----------------------+\n",
      "|            GIRAFFAS|     6219|                   1994|                      5|\n",
      "|AGROPECUARIA FAGU...|     7255|                   1994|                      5|\n",
      "|                null|     7097|                   1994|                      5|\n",
      "|                null|     7107|                   1994|                      6|\n",
      "|JS MATERIAIS DE C...|     6915|                   1994|                      6|\n",
      "+--------------------+---------+-----------------------+-----------------------+\n",
      "only showing top 5 rows\n",
      "\n"
     ]
    }
   ],
   "source": [
    "estabelecimentos\\\n",
    "    .select('nome_fantasia', 'municipio', f.year('data_de_inicio_atividade').alias('ano_de_inicio_atividade'), \n",
    "    f.month('data_de_inicio_atividade').alias('mes_de_inicio_atividade'))\\\n",
    "    .show(5)\n"
   ]
  },
  {
   "cell_type": "code",
   "execution_count": 52,
   "metadata": {},
   "outputs": [
    {
     "name": "stdout",
     "output_type": "stream",
     "text": [
      "+------------------------------+-----+\n",
      "|nome                          |idade|\n",
      "+------------------------------+-----+\n",
      "|GISELLE PAULA GUIMARAES CASTRO|15   |\n",
      "|ELAINE GARCIA DE OLIVEIRA     |22   |\n",
      "|JOAO CARLOS ABNER DE LOURDES  |43   |\n",
      "|MARTA ZELI FERREIRA           |24   |\n",
      "|LAUDENETE WIGGERS ROEDER      |51   |\n",
      "+------------------------------+-----+\n",
      "\n"
     ]
    }
   ],
   "source": [
    "data1 = [\n",
    "    ('GISELLE PAULA GUIMARAES CASTRO', 15),\n",
    "    ('ELAINE GARCIA DE OLIVEIRA', 22),\n",
    "    ('JOAO CARLOS ABNER DE LOURDES', 43),\n",
    "    ('MARTA ZELI FERREIRA', 24),\n",
    "    ('LAUDENETE WIGGERS ROEDER', 51)\n",
    "]\n",
    "colNames1 = ['nome', 'idade']\n",
    "df1 = spark.createDataFrame(data1, colNames1)\n",
    "df1.show(truncate=False)\n"
   ]
  },
  {
   "cell_type": "code",
   "execution_count": 53,
   "metadata": {},
   "outputs": [
    {
     "name": "stdout",
     "output_type": "stream",
     "text": [
      "+-----------------+-----+\n",
      "|ident            |idade|\n",
      "+-----------------+-----+\n",
      "|CASTRO, GISELLE  |15   |\n",
      "|OLIVEIRA, ELAINE |22   |\n",
      "|LOURDES, JOAO    |43   |\n",
      "|FERREIRA, MARTA  |24   |\n",
      "|ROEDER, LAUDENETE|51   |\n",
      "+-----------------+-----+\n",
      "\n"
     ]
    }
   ],
   "source": [
    "df1 \\\n",
    "    .select(\n",
    "        f.concat_ws(\n",
    "            ', ',\n",
    "            f.substring_index('nome', ' ', -1),\n",
    "            f.substring_index('nome', ' ', 1)\n",
    "        ).alias('ident'),\n",
    "        'idade') \\\n",
    "    .show(truncate=False)\n"
   ]
  },
  {
   "cell_type": "code",
   "execution_count": 54,
   "metadata": {},
   "outputs": [
    {
     "name": "stdout",
     "output_type": "stream",
     "text": [
      "+-----------+----------------------+-----------------------------+--------------------+---------------------+-------------------------+-------+-------------------+---------------------+-----------------------------------+------------+\n",
      "|cnpj_basico|identificador_de_socio|nome_do_socio_ou_razao_social|cnpj_ou_cpf_do_socio|qualificacao_do_socio|data_de_entrada_sociedade|   pais|representante_legal|nome_do_representante|qualificacao_do_representante_legal|faixa_etaria|\n",
      "+-----------+----------------------+-----------------------------+--------------------+---------------------+-------------------------+-------+-------------------+---------------------+-----------------------------------+------------+\n",
      "|          0|                     0|                          208|                1234|                    0|                        1|2038255|                  0|              1995432|                                  0|           0|\n",
      "+-----------+----------------------+-----------------------------+--------------------+---------------------+-------------------------+-------+-------------------+---------------------+-----------------------------------+------------+\n",
      "\n"
     ]
    }
   ],
   "source": [
    "socios.select([f.count(f.when(f.isnull(c), 1)).alias(c) for c in socios.columns]).show()\n"
   ]
  },
  {
   "cell_type": "markdown",
   "metadata": {},
   "source": []
  },
  {
   "cell_type": "code",
   "execution_count": 55,
   "metadata": {},
   "outputs": [
    {
     "data": {
      "text/html": [
       "<div>\n",
       "<style scoped>\n",
       "    .dataframe tbody tr th:only-of-type {\n",
       "        vertical-align: middle;\n",
       "    }\n",
       "\n",
       "    .dataframe tbody tr th {\n",
       "        vertical-align: top;\n",
       "    }\n",
       "\n",
       "    .dataframe thead th {\n",
       "        text-align: right;\n",
       "    }\n",
       "</style>\n",
       "<table border=\"1\" class=\"dataframe\">\n",
       "  <thead>\n",
       "    <tr style=\"text-align: right;\">\n",
       "      <th></th>\n",
       "      <th>cnpj_basico</th>\n",
       "      <th>identificador_de_socio</th>\n",
       "      <th>nome_do_socio_ou_razao_social</th>\n",
       "      <th>cnpj_ou_cpf_do_socio</th>\n",
       "      <th>qualificacao_do_socio</th>\n",
       "      <th>data_de_entrada_sociedade</th>\n",
       "      <th>pais</th>\n",
       "      <th>representante_legal</th>\n",
       "      <th>nome_do_representante</th>\n",
       "      <th>qualificacao_do_representante_legal</th>\n",
       "      <th>faixa_etaria</th>\n",
       "    </tr>\n",
       "  </thead>\n",
       "  <tbody>\n",
       "    <tr>\n",
       "      <th>0</th>\n",
       "      <td>411</td>\n",
       "      <td>2</td>\n",
       "      <td>LILIANA PATRICIA GUASTAVINO</td>\n",
       "      <td>***678188**</td>\n",
       "      <td>22</td>\n",
       "      <td>1994-07-25</td>\n",
       "      <td>0</td>\n",
       "      <td>***000000**</td>\n",
       "      <td>None</td>\n",
       "      <td>0</td>\n",
       "      <td>7</td>\n",
       "    </tr>\n",
       "    <tr>\n",
       "      <th>1</th>\n",
       "      <td>411</td>\n",
       "      <td>2</td>\n",
       "      <td>CRISTINA HUNDERTMARK</td>\n",
       "      <td>***637848**</td>\n",
       "      <td>28</td>\n",
       "      <td>1994-07-25</td>\n",
       "      <td>0</td>\n",
       "      <td>***000000**</td>\n",
       "      <td>None</td>\n",
       "      <td>0</td>\n",
       "      <td>7</td>\n",
       "    </tr>\n",
       "    <tr>\n",
       "      <th>2</th>\n",
       "      <td>5813</td>\n",
       "      <td>2</td>\n",
       "      <td>CELSO EDUARDO DE CASTRO STEPHAN</td>\n",
       "      <td>***786068**</td>\n",
       "      <td>49</td>\n",
       "      <td>1994-05-16</td>\n",
       "      <td>0</td>\n",
       "      <td>***000000**</td>\n",
       "      <td>None</td>\n",
       "      <td>0</td>\n",
       "      <td>8</td>\n",
       "    </tr>\n",
       "    <tr>\n",
       "      <th>3</th>\n",
       "      <td>5813</td>\n",
       "      <td>2</td>\n",
       "      <td>EDUARDO BERRINGER STEPHAN</td>\n",
       "      <td>***442348**</td>\n",
       "      <td>49</td>\n",
       "      <td>1994-05-16</td>\n",
       "      <td>0</td>\n",
       "      <td>***000000**</td>\n",
       "      <td>None</td>\n",
       "      <td>0</td>\n",
       "      <td>5</td>\n",
       "    </tr>\n",
       "    <tr>\n",
       "      <th>4</th>\n",
       "      <td>14798</td>\n",
       "      <td>2</td>\n",
       "      <td>HANNE MAHFOUD FADEL</td>\n",
       "      <td>***760388**</td>\n",
       "      <td>49</td>\n",
       "      <td>1994-06-09</td>\n",
       "      <td>0</td>\n",
       "      <td>***000000**</td>\n",
       "      <td>None</td>\n",
       "      <td>0</td>\n",
       "      <td>8</td>\n",
       "    </tr>\n",
       "  </tbody>\n",
       "</table>\n",
       "</div>"
      ],
      "text/plain": [
       "   cnpj_basico  identificador_de_socio    nome_do_socio_ou_razao_social  \\\n",
       "0          411                       2      LILIANA PATRICIA GUASTAVINO   \n",
       "1          411                       2             CRISTINA HUNDERTMARK   \n",
       "2         5813                       2  CELSO EDUARDO DE CASTRO STEPHAN   \n",
       "3         5813                       2        EDUARDO BERRINGER STEPHAN   \n",
       "4        14798                       2              HANNE MAHFOUD FADEL   \n",
       "\n",
       "  cnpj_ou_cpf_do_socio  qualificacao_do_socio data_de_entrada_sociedade  pais  \\\n",
       "0          ***678188**                     22                1994-07-25     0   \n",
       "1          ***637848**                     28                1994-07-25     0   \n",
       "2          ***786068**                     49                1994-05-16     0   \n",
       "3          ***442348**                     49                1994-05-16     0   \n",
       "4          ***760388**                     49                1994-06-09     0   \n",
       "\n",
       "  representante_legal nome_do_representante  \\\n",
       "0         ***000000**                  None   \n",
       "1         ***000000**                  None   \n",
       "2         ***000000**                  None   \n",
       "3         ***000000**                  None   \n",
       "4         ***000000**                  None   \n",
       "\n",
       "   qualificacao_do_representante_legal  faixa_etaria  \n",
       "0                                    0             7  \n",
       "1                                    0             7  \n",
       "2                                    0             8  \n",
       "3                                    0             5  \n",
       "4                                    0             8  "
      ]
     },
     "execution_count": 55,
     "metadata": {},
     "output_type": "execute_result"
    }
   ],
   "source": [
    "socios.na.fill(0).limit(5).toPandas()"
   ]
  },
  {
   "cell_type": "code",
   "execution_count": 56,
   "metadata": {},
   "outputs": [
    {
     "data": {
      "text/html": [
       "<div>\n",
       "<style scoped>\n",
       "    .dataframe tbody tr th:only-of-type {\n",
       "        vertical-align: middle;\n",
       "    }\n",
       "\n",
       "    .dataframe tbody tr th {\n",
       "        vertical-align: top;\n",
       "    }\n",
       "\n",
       "    .dataframe thead th {\n",
       "        text-align: right;\n",
       "    }\n",
       "</style>\n",
       "<table border=\"1\" class=\"dataframe\">\n",
       "  <thead>\n",
       "    <tr style=\"text-align: right;\">\n",
       "      <th></th>\n",
       "      <th>cnpj_basico</th>\n",
       "      <th>identificador_de_socio</th>\n",
       "      <th>nome_do_socio_ou_razao_social</th>\n",
       "      <th>cnpj_ou_cpf_do_socio</th>\n",
       "      <th>qualificacao_do_socio</th>\n",
       "      <th>data_de_entrada_sociedade</th>\n",
       "      <th>pais</th>\n",
       "      <th>representante_legal</th>\n",
       "      <th>nome_do_representante</th>\n",
       "      <th>qualificacao_do_representante_legal</th>\n",
       "      <th>faixa_etaria</th>\n",
       "    </tr>\n",
       "  </thead>\n",
       "  <tbody>\n",
       "    <tr>\n",
       "      <th>0</th>\n",
       "      <td>411</td>\n",
       "      <td>2</td>\n",
       "      <td>LILIANA PATRICIA GUASTAVINO</td>\n",
       "      <td>***678188**</td>\n",
       "      <td>22</td>\n",
       "      <td>1994-07-25</td>\n",
       "      <td>NaN</td>\n",
       "      <td>***000000**</td>\n",
       "      <td>-</td>\n",
       "      <td>0</td>\n",
       "      <td>7</td>\n",
       "    </tr>\n",
       "    <tr>\n",
       "      <th>1</th>\n",
       "      <td>411</td>\n",
       "      <td>2</td>\n",
       "      <td>CRISTINA HUNDERTMARK</td>\n",
       "      <td>***637848**</td>\n",
       "      <td>28</td>\n",
       "      <td>1994-07-25</td>\n",
       "      <td>NaN</td>\n",
       "      <td>***000000**</td>\n",
       "      <td>-</td>\n",
       "      <td>0</td>\n",
       "      <td>7</td>\n",
       "    </tr>\n",
       "    <tr>\n",
       "      <th>2</th>\n",
       "      <td>5813</td>\n",
       "      <td>2</td>\n",
       "      <td>CELSO EDUARDO DE CASTRO STEPHAN</td>\n",
       "      <td>***786068**</td>\n",
       "      <td>49</td>\n",
       "      <td>1994-05-16</td>\n",
       "      <td>NaN</td>\n",
       "      <td>***000000**</td>\n",
       "      <td>-</td>\n",
       "      <td>0</td>\n",
       "      <td>8</td>\n",
       "    </tr>\n",
       "    <tr>\n",
       "      <th>3</th>\n",
       "      <td>5813</td>\n",
       "      <td>2</td>\n",
       "      <td>EDUARDO BERRINGER STEPHAN</td>\n",
       "      <td>***442348**</td>\n",
       "      <td>49</td>\n",
       "      <td>1994-05-16</td>\n",
       "      <td>NaN</td>\n",
       "      <td>***000000**</td>\n",
       "      <td>-</td>\n",
       "      <td>0</td>\n",
       "      <td>5</td>\n",
       "    </tr>\n",
       "    <tr>\n",
       "      <th>4</th>\n",
       "      <td>14798</td>\n",
       "      <td>2</td>\n",
       "      <td>HANNE MAHFOUD FADEL</td>\n",
       "      <td>***760388**</td>\n",
       "      <td>49</td>\n",
       "      <td>1994-06-09</td>\n",
       "      <td>NaN</td>\n",
       "      <td>***000000**</td>\n",
       "      <td>-</td>\n",
       "      <td>0</td>\n",
       "      <td>8</td>\n",
       "    </tr>\n",
       "  </tbody>\n",
       "</table>\n",
       "</div>"
      ],
      "text/plain": [
       "   cnpj_basico  identificador_de_socio    nome_do_socio_ou_razao_social  \\\n",
       "0          411                       2      LILIANA PATRICIA GUASTAVINO   \n",
       "1          411                       2             CRISTINA HUNDERTMARK   \n",
       "2         5813                       2  CELSO EDUARDO DE CASTRO STEPHAN   \n",
       "3         5813                       2        EDUARDO BERRINGER STEPHAN   \n",
       "4        14798                       2              HANNE MAHFOUD FADEL   \n",
       "\n",
       "  cnpj_ou_cpf_do_socio  qualificacao_do_socio data_de_entrada_sociedade  pais  \\\n",
       "0          ***678188**                     22                1994-07-25   NaN   \n",
       "1          ***637848**                     28                1994-07-25   NaN   \n",
       "2          ***786068**                     49                1994-05-16   NaN   \n",
       "3          ***442348**                     49                1994-05-16   NaN   \n",
       "4          ***760388**                     49                1994-06-09   NaN   \n",
       "\n",
       "  representante_legal nome_do_representante  \\\n",
       "0         ***000000**                     -   \n",
       "1         ***000000**                     -   \n",
       "2         ***000000**                     -   \n",
       "3         ***000000**                     -   \n",
       "4         ***000000**                     -   \n",
       "\n",
       "   qualificacao_do_representante_legal  faixa_etaria  \n",
       "0                                    0             7  \n",
       "1                                    0             7  \n",
       "2                                    0             8  \n",
       "3                                    0             5  \n",
       "4                                    0             8  "
      ]
     },
     "execution_count": 56,
     "metadata": {},
     "output_type": "execute_result"
    }
   ],
   "source": [
    "socios.na.fill('-').limit(5).toPandas()\n"
   ]
  },
  {
   "cell_type": "code",
   "execution_count": 57,
   "metadata": {},
   "outputs": [
    {
     "name": "stdout",
     "output_type": "stream",
     "text": [
      "+-----------------------------+------------+--------------+\n",
      "|nome_do_socio_ou_razao_social|faixa_etaria|ano_de_entrada|\n",
      "+-----------------------------+------------+--------------+\n",
      "|ANGELICA FLORENCIO DA SILVA  |5           |2021          |\n",
      "|IVANOR ROZZA                 |6           |2021          |\n",
      "|LUARA CABRAL DE CARVALHO     |4           |2021          |\n",
      "|FERNANDO ALIPRANDINI         |6           |2021          |\n",
      "|TALLES GONCALVES MOURA       |4           |2021          |\n",
      "+-----------------------------+------------+--------------+\n",
      "only showing top 5 rows\n",
      "\n"
     ]
    }
   ],
   "source": [
    "socios\\\n",
    "    .select('nome_do_socio_ou_razao_social', 'faixa_etaria', f.year('data_de_entrada_sociedade').alias('ano_de_entrada'))\\\n",
    "    .orderBy('ano_de_entrada', ascending=False)\\\n",
    "    .show(5, False)"
   ]
  },
  {
   "cell_type": "code",
   "execution_count": 58,
   "metadata": {},
   "outputs": [
    {
     "name": "stdout",
     "output_type": "stream",
     "text": [
      "+-------------------------------------+------------+--------------+\n",
      "|nome_do_socio_ou_razao_social        |faixa_etaria|ano_de_entrada|\n",
      "+-------------------------------------+------------+--------------+\n",
      "|YARA CABRAL PINTO                    |9           |2021          |\n",
      "|JOSE LUIZ DE AMORIM CARRAO           |9           |2021          |\n",
      "|LUZINETE DANTAS DE OLIVEIRA RODRIGUES|9           |2021          |\n",
      "|JOSE CURADO ADORNO                   |9           |2021          |\n",
      "|ROSA NEMER RIBEIRO                   |9           |2021          |\n",
      "+-------------------------------------+------------+--------------+\n",
      "only showing top 5 rows\n",
      "\n"
     ]
    }
   ],
   "source": [
    "socios\\\n",
    "    .select('nome_do_socio_ou_razao_social', 'faixa_etaria', f.year('data_de_entrada_sociedade').alias('ano_de_entrada'))\\\n",
    "    .orderBy(['ano_de_entrada', 'faixa_etaria'], ascending=[False, False])\\\n",
    "    .show(5, False)\n"
   ]
  },
  {
   "cell_type": "code",
   "execution_count": 59,
   "metadata": {},
   "outputs": [
    {
     "name": "stdout",
     "output_type": "stream",
     "text": [
      "+---------------------+---+----+\n",
      "|nome                 |mes|ano |\n",
      "+---------------------+---+----+\n",
      "|CARMINA RABELO       |4  |2010|\n",
      "|HERONDINA PEREIRA    |6  |2009|\n",
      "|IRANI DOS SANTOS     |12 |2010|\n",
      "|JOAO BOSCO DA FONSECA|3  |2009|\n",
      "|CARLITO SOUZA        |1  |2010|\n",
      "|WALTER DIAS          |9  |2009|\n",
      "|BRENO VENTUROSO      |1  |2009|\n",
      "|ADELINA TEIXEIRA     |5  |2009|\n",
      "|ELIO SILVA           |7  |2010|\n",
      "|DENIS FONSECA        |6  |2010|\n",
      "+---------------------+---+----+\n",
      "\n"
     ]
    }
   ],
   "source": [
    "data = [\n",
    "    ('CARMINA RABELO', 4, 2010),\n",
    "    ('HERONDINA PEREIRA', 6, 2009),\n",
    "    ('IRANI DOS SANTOS', 12, 2010),\n",
    "    ('JOAO BOSCO DA FONSECA', 3, 2009),\n",
    "    ('CARLITO SOUZA', 1, 2010),\n",
    "    ('WALTER DIAS', 9, 2009),\n",
    "    ('BRENO VENTUROSO', 1, 2009),\n",
    "    ('ADELINA TEIXEIRA', 5, 2009),\n",
    "    ('ELIO SILVA', 7, 2010),\n",
    "    ('DENIS FONSECA', 6, 2010)\n",
    "]\n",
    "colNames = ['nome', 'mes', 'ano']\n",
    "df = spark.createDataFrame(data, colNames)\n",
    "df.show(truncate=False)\n"
   ]
  },
  {
   "cell_type": "code",
   "execution_count": 60,
   "metadata": {},
   "outputs": [
    {
     "name": "stdout",
     "output_type": "stream",
     "text": [
      "+---------------------+---+----+\n",
      "|nome                 |mes|ano |\n",
      "+---------------------+---+----+\n",
      "|IRANI DOS SANTOS     |12 |2010|\n",
      "|ELIO SILVA           |7  |2010|\n",
      "|DENIS FONSECA        |6  |2010|\n",
      "|CARMINA RABELO       |4  |2010|\n",
      "|CARLITO SOUZA        |1  |2010|\n",
      "|WALTER DIAS          |9  |2009|\n",
      "|HERONDINA PEREIRA    |6  |2009|\n",
      "|ADELINA TEIXEIRA     |5  |2009|\n",
      "|JOAO BOSCO DA FONSECA|3  |2009|\n",
      "|BRENO VENTUROSO      |1  |2009|\n",
      "+---------------------+---+----+\n",
      "\n"
     ]
    }
   ],
   "source": [
    "df\\\n",
    "    .select('*')\\\n",
    "    .orderBy(['ano', 'mes'], ascending=[False, False])\\\n",
    "    .show(truncate=False)\n"
   ]
  },
  {
   "cell_type": "code",
   "execution_count": 61,
   "metadata": {},
   "outputs": [
    {
     "name": "stdout",
     "output_type": "stream",
     "text": [
      "+-----------+--------------------------------------------+-----------------+---------------------------+-------------------------+----------------+---------------------------+\n",
      "|cnpj_basico|razao_social_nome_empresarial               |natureza_juridica|qualificacao_do_responsavel|capital_social_da_empresa|porte_da_empresa|ente_federativo_responsavel|\n",
      "+-----------+--------------------------------------------+-----------------+---------------------------+-------------------------+----------------+---------------------------+\n",
      "|14715041   |LIDIANE MARIA DO NASCIMENTO 14542418707     |2135             |50                         |50.0                     |1               |null                       |\n",
      "|20601885   |CRISTIANO AKIHITO BORDIN 04370949955        |2135             |50                         |50.0                     |1               |null                       |\n",
      "|23661983   |VITOR ALOISIO DO NASCIMENTO GUIA 12663882739|2135             |50                         |50.0                     |1               |null                       |\n",
      "|23714726   |JOSELINA PANSINI CORREIA 05265948708        |2135             |50                         |50.0                     |1               |null                       |\n",
      "|26022246   |SUZANE SILVA DE OLIVEIRA 06850709992        |2135             |50                         |50.0                     |1               |null                       |\n",
      "+-----------+--------------------------------------------+-----------------+---------------------------+-------------------------+----------------+---------------------------+\n",
      "only showing top 5 rows\n",
      "\n"
     ]
    }
   ],
   "source": [
    "empresas\\\n",
    "            .where(\"capital_social_da_empresa==50\")\\\n",
    "            .show(5, False)"
   ]
  },
  {
   "cell_type": "code",
   "execution_count": 62,
   "metadata": {},
   "outputs": [
    {
     "data": {
      "text/html": [
       "<div>\n",
       "<style scoped>\n",
       "    .dataframe tbody tr th:only-of-type {\n",
       "        vertical-align: middle;\n",
       "    }\n",
       "\n",
       "    .dataframe tbody tr th {\n",
       "        vertical-align: top;\n",
       "    }\n",
       "\n",
       "    .dataframe thead th {\n",
       "        text-align: right;\n",
       "    }\n",
       "</style>\n",
       "<table border=\"1\" class=\"dataframe\">\n",
       "  <thead>\n",
       "    <tr style=\"text-align: right;\">\n",
       "      <th></th>\n",
       "      <th>nome_do_socio_ou_razao_social</th>\n",
       "    </tr>\n",
       "  </thead>\n",
       "  <tbody>\n",
       "    <tr>\n",
       "      <th>0</th>\n",
       "      <td>RODRIGO BENASSI DIAS</td>\n",
       "    </tr>\n",
       "    <tr>\n",
       "      <th>1</th>\n",
       "      <td>RODRIGO RUDIBERTO DIAS</td>\n",
       "    </tr>\n",
       "    <tr>\n",
       "      <th>2</th>\n",
       "      <td>RODRIGO AURELIANO DIAS</td>\n",
       "    </tr>\n",
       "    <tr>\n",
       "      <th>3</th>\n",
       "      <td>RODRIGO SIMOES LEMOS DIAS</td>\n",
       "    </tr>\n",
       "    <tr>\n",
       "      <th>4</th>\n",
       "      <td>RODRIGO GEORGE DIAS</td>\n",
       "    </tr>\n",
       "    <tr>\n",
       "      <th>5</th>\n",
       "      <td>RODRIGO AUGUSTO FELICIO DIAS</td>\n",
       "    </tr>\n",
       "    <tr>\n",
       "      <th>6</th>\n",
       "      <td>RODRIGO FERNANDES DIAS</td>\n",
       "    </tr>\n",
       "    <tr>\n",
       "      <th>7</th>\n",
       "      <td>RODRIGO GARRIDO DIAS</td>\n",
       "    </tr>\n",
       "    <tr>\n",
       "      <th>8</th>\n",
       "      <td>RODRIGO OLIVEIRA DIAS</td>\n",
       "    </tr>\n",
       "    <tr>\n",
       "      <th>9</th>\n",
       "      <td>RODRIGO GONCALVES DIAS</td>\n",
       "    </tr>\n",
       "  </tbody>\n",
       "</table>\n",
       "</div>"
      ],
      "text/plain": [
       "  nome_do_socio_ou_razao_social\n",
       "0          RODRIGO BENASSI DIAS\n",
       "1        RODRIGO RUDIBERTO DIAS\n",
       "2        RODRIGO AURELIANO DIAS\n",
       "3     RODRIGO SIMOES LEMOS DIAS\n",
       "4           RODRIGO GEORGE DIAS\n",
       "5  RODRIGO AUGUSTO FELICIO DIAS\n",
       "6        RODRIGO FERNANDES DIAS\n",
       "7          RODRIGO GARRIDO DIAS\n",
       "8         RODRIGO OLIVEIRA DIAS\n",
       "9        RODRIGO GONCALVES DIAS"
      ]
     },
     "execution_count": 62,
     "metadata": {},
     "output_type": "execute_result"
    }
   ],
   "source": [
    "socios\\\n",
    "    .select(\"nome_do_socio_ou_razao_social\")\\\n",
    "    .filter(socios.nome_do_socio_ou_razao_social.startswith(\"RODRIGO\"))\\\n",
    "    .filter(socios.nome_do_socio_ou_razao_social.endswith(\"DIAS\"))\\\n",
    "    .limit(10)\\\n",
    "    .toPandas()\n"
   ]
  },
  {
   "cell_type": "code",
   "execution_count": 63,
   "metadata": {},
   "outputs": [
    {
     "data": {
      "text/html": [
       "<div>\n",
       "<style scoped>\n",
       "    .dataframe tbody tr th:only-of-type {\n",
       "        vertical-align: middle;\n",
       "    }\n",
       "\n",
       "    .dataframe tbody tr th {\n",
       "        vertical-align: top;\n",
       "    }\n",
       "\n",
       "    .dataframe thead th {\n",
       "        text-align: right;\n",
       "    }\n",
       "</style>\n",
       "<table border=\"1\" class=\"dataframe\">\n",
       "  <thead>\n",
       "    <tr style=\"text-align: right;\">\n",
       "      <th></th>\n",
       "      <th>nome_do_socio_ou_razao_social</th>\n",
       "    </tr>\n",
       "  </thead>\n",
       "  <tbody>\n",
       "    <tr>\n",
       "      <th>0</th>\n",
       "      <td>VAGNER NOBRE</td>\n",
       "    </tr>\n",
       "    <tr>\n",
       "      <th>1</th>\n",
       "      <td>VALDIR NOBRE</td>\n",
       "    </tr>\n",
       "    <tr>\n",
       "      <th>2</th>\n",
       "      <td>CLAUDERLEY SANTANA NOBRE</td>\n",
       "    </tr>\n",
       "    <tr>\n",
       "      <th>3</th>\n",
       "      <td>JOAO CARLOS DE OLIVEIRA NOBRE</td>\n",
       "    </tr>\n",
       "    <tr>\n",
       "      <th>4</th>\n",
       "      <td>ARLEIDE DE CARVALHO NOBRE</td>\n",
       "    </tr>\n",
       "    <tr>\n",
       "      <th>5</th>\n",
       "      <td>LUCAS POTI NOBRE</td>\n",
       "    </tr>\n",
       "    <tr>\n",
       "      <th>6</th>\n",
       "      <td>FRANCISCO DE CARVALHO NOBRE</td>\n",
       "    </tr>\n",
       "    <tr>\n",
       "      <th>7</th>\n",
       "      <td>LUCAS BERTHOLDO NOBRE</td>\n",
       "    </tr>\n",
       "    <tr>\n",
       "      <th>8</th>\n",
       "      <td>MARCELO BASTOS NOBRE</td>\n",
       "    </tr>\n",
       "    <tr>\n",
       "      <th>9</th>\n",
       "      <td>JEZALIA SISARA NOBRE</td>\n",
       "    </tr>\n",
       "  </tbody>\n",
       "</table>\n",
       "</div>"
      ],
      "text/plain": [
       "   nome_do_socio_ou_razao_social\n",
       "0                   VAGNER NOBRE\n",
       "1                   VALDIR NOBRE\n",
       "2       CLAUDERLEY SANTANA NOBRE\n",
       "3  JOAO CARLOS DE OLIVEIRA NOBRE\n",
       "4      ARLEIDE DE CARVALHO NOBRE\n",
       "5               LUCAS POTI NOBRE\n",
       "6    FRANCISCO DE CARVALHO NOBRE\n",
       "7          LUCAS BERTHOLDO NOBRE\n",
       "8           MARCELO BASTOS NOBRE\n",
       "9           JEZALIA SISARA NOBRE"
      ]
     },
     "execution_count": 63,
     "metadata": {},
     "output_type": "execute_result"
    }
   ],
   "source": [
    "socios\\\n",
    "    .select(\"nome_do_socio_ou_razao_social\")\\\n",
    "    .filter(socios.nome_do_socio_ou_razao_social.endswith(\"NOBRE\"))\\\n",
    "    .limit(10)\\\n",
    "    .toPandas()\n"
   ]
  },
  {
   "cell_type": "code",
   "execution_count": 64,
   "metadata": {},
   "outputs": [
    {
     "data": {
      "text/html": [
       "<div>\n",
       "<style scoped>\n",
       "    .dataframe tbody tr th:only-of-type {\n",
       "        vertical-align: middle;\n",
       "    }\n",
       "\n",
       "    .dataframe tbody tr th {\n",
       "        vertical-align: top;\n",
       "    }\n",
       "\n",
       "    .dataframe thead th {\n",
       "        text-align: right;\n",
       "    }\n",
       "</style>\n",
       "<table border=\"1\" class=\"dataframe\">\n",
       "  <thead>\n",
       "    <tr style=\"text-align: right;\">\n",
       "      <th></th>\n",
       "      <th>nome_do_socio_ou_razao_social</th>\n",
       "    </tr>\n",
       "  </thead>\n",
       "  <tbody>\n",
       "    <tr>\n",
       "      <th>0</th>\n",
       "      <td>CARLOS ALBERTO NOBREGA</td>\n",
       "    </tr>\n",
       "    <tr>\n",
       "      <th>1</th>\n",
       "      <td>HELIO SERGIO NOBREGA NELSON</td>\n",
       "    </tr>\n",
       "    <tr>\n",
       "      <th>2</th>\n",
       "      <td>VANESSA SILVERIO NOBREGA</td>\n",
       "    </tr>\n",
       "    <tr>\n",
       "      <th>3</th>\n",
       "      <td>LUIZ ANTONIO DA COSTA NOBREGA</td>\n",
       "    </tr>\n",
       "    <tr>\n",
       "      <th>4</th>\n",
       "      <td>ADEMAR NOBREGA MATHIAS</td>\n",
       "    </tr>\n",
       "    <tr>\n",
       "      <th>5</th>\n",
       "      <td>OSNI NOBRE DA SILVA</td>\n",
       "    </tr>\n",
       "    <tr>\n",
       "      <th>6</th>\n",
       "      <td>VAGNER NOBRE</td>\n",
       "    </tr>\n",
       "    <tr>\n",
       "      <th>7</th>\n",
       "      <td>VALDIR NOBRE</td>\n",
       "    </tr>\n",
       "    <tr>\n",
       "      <th>8</th>\n",
       "      <td>CHARLES PATRICIO NOBREGA DE ANDRADE</td>\n",
       "    </tr>\n",
       "    <tr>\n",
       "      <th>9</th>\n",
       "      <td>MARCIO JEAN NOBRE DE OLIVEIRA</td>\n",
       "    </tr>\n",
       "  </tbody>\n",
       "</table>\n",
       "</div>"
      ],
      "text/plain": [
       "         nome_do_socio_ou_razao_social\n",
       "0               CARLOS ALBERTO NOBREGA\n",
       "1          HELIO SERGIO NOBREGA NELSON\n",
       "2             VANESSA SILVERIO NOBREGA\n",
       "3        LUIZ ANTONIO DA COSTA NOBREGA\n",
       "4               ADEMAR NOBREGA MATHIAS\n",
       "5                  OSNI NOBRE DA SILVA\n",
       "6                         VAGNER NOBRE\n",
       "7                         VALDIR NOBRE\n",
       "8  CHARLES PATRICIO NOBREGA DE ANDRADE\n",
       "9        MARCIO JEAN NOBRE DE OLIVEIRA"
      ]
     },
     "execution_count": 64,
     "metadata": {},
     "output_type": "execute_result"
    }
   ],
   "source": [
    "socios\\\n",
    "    .select(\"nome_do_socio_ou_razao_social\")\\\n",
    "    .filter(socios.nome_do_socio_ou_razao_social.contains(\"NOBRE\"))\\\n",
    "    .limit(10)\\\n",
    "    .toPandas()\n"
   ]
  },
  {
   "cell_type": "code",
   "execution_count": 65,
   "metadata": {},
   "outputs": [
    {
     "name": "stdout",
     "output_type": "stream",
     "text": [
      "+---------------------+---+----+\n",
      "|nome                 |mes|ano |\n",
      "+---------------------+---+----+\n",
      "|CARMINA RABELO       |4  |2010|\n",
      "|HERONDINA PEREIRA    |6  |2009|\n",
      "|IRANI DOS SANTOS     |12 |2010|\n",
      "|JOAO BOSCO DA FONSECA|3  |2009|\n",
      "|CARLITO SOUZA        |1  |2010|\n",
      "|WALTER DIAS          |9  |2009|\n",
      "|BRENO VENTUROSO      |1  |2009|\n",
      "|ADELINA TEIXEIRA     |5  |2009|\n",
      "|ELIO SILVA           |7  |2010|\n",
      "|DENIS FONSECA        |6  |2010|\n",
      "+---------------------+---+----+\n",
      "\n"
     ]
    }
   ],
   "source": [
    "data = [\n",
    "    ('CARMINA RABELO', 4, 2010),\n",
    "    ('HERONDINA PEREIRA', 6, 2009),\n",
    "    ('IRANI DOS SANTOS', 12, 2010),\n",
    "    ('JOAO BOSCO DA FONSECA', 3, 2009),\n",
    "    ('CARLITO SOUZA', 1, 2010),\n",
    "    ('WALTER DIAS', 9, 2009),\n",
    "    ('BRENO VENTUROSO', 1, 2009),\n",
    "    ('ADELINA TEIXEIRA', 5, 2009),\n",
    "    ('ELIO SILVA', 7, 2010),\n",
    "    ('DENIS FONSECA', 6, 2010)\n",
    "]\n",
    "colNames = ['nome', 'mes', 'ano']\n",
    "df = spark.createDataFrame(data, colNames)\n",
    "df.show(truncate=False)\n"
   ]
  },
  {
   "cell_type": "code",
   "execution_count": 66,
   "metadata": {},
   "outputs": [
    {
     "ename": "SyntaxError",
     "evalue": "expression cannot contain assignment, perhaps you meant \"==\"? (4085509072.py, line 3)",
     "output_type": "error",
     "traceback": [
      "\u001b[1;36m  Cell \u001b[1;32mIn [66], line 3\u001b[1;36m\u001b[0m\n\u001b[1;33m    .filter(df.ano = 2009)\\\u001b[0m\n\u001b[1;37m            ^\u001b[0m\n\u001b[1;31mSyntaxError\u001b[0m\u001b[1;31m:\u001b[0m expression cannot contain assignment, perhaps you meant \"==\"?\n"
     ]
    }
   ],
   "source": [
    "df\\\n",
    "    .filter(df.mes <= 6)\\\n",
    "    .filter(df.ano = 2009)\\\n",
    "    .show(truncate=False)"
   ]
  },
  {
   "cell_type": "code",
   "execution_count": 67,
   "metadata": {},
   "outputs": [
    {
     "name": "stdout",
     "output_type": "stream",
     "text": [
      "+---------------------+---+----+\n",
      "|nome                 |mes|ano |\n",
      "+---------------------+---+----+\n",
      "|HERONDINA PEREIRA    |6  |2009|\n",
      "|JOAO BOSCO DA FONSECA|3  |2009|\n",
      "|BRENO VENTUROSO      |1  |2009|\n",
      "|ADELINA TEIXEIRA     |5  |2009|\n",
      "+---------------------+---+----+\n",
      "\n"
     ]
    }
   ],
   "source": [
    "df\\\n",
    "    .filter(\"mes<=6\")\\\n",
    "    .filter(\"ano=2009\")\\\n",
    "    .show(truncate=False)\n"
   ]
  },
  {
   "cell_type": "code",
   "execution_count": 68,
   "metadata": {},
   "outputs": [
    {
     "name": "stdout",
     "output_type": "stream",
     "text": [
      "+---------------------+---+----+\n",
      "|nome                 |mes|ano |\n",
      "+---------------------+---+----+\n",
      "|HERONDINA PEREIRA    |6  |2009|\n",
      "|JOAO BOSCO DA FONSECA|3  |2009|\n",
      "|BRENO VENTUROSO      |1  |2009|\n",
      "|ADELINA TEIXEIRA     |5  |2009|\n",
      "+---------------------+---+----+\n",
      "\n"
     ]
    }
   ],
   "source": [
    "df\\\n",
    "    .filter((df.mes <= 6) & (df.ano == 2009))\\\n",
    "    .show(truncate=False)\n"
   ]
  },
  {
   "cell_type": "code",
   "execution_count": 69,
   "metadata": {},
   "outputs": [
    {
     "name": "stdout",
     "output_type": "stream",
     "text": [
      "+---------------------+---+----+\n",
      "|nome                 |mes|ano |\n",
      "+---------------------+---+----+\n",
      "|HERONDINA PEREIRA    |6  |2009|\n",
      "|JOAO BOSCO DA FONSECA|3  |2009|\n",
      "|BRENO VENTUROSO      |1  |2009|\n",
      "|ADELINA TEIXEIRA     |5  |2009|\n",
      "+---------------------+---+----+\n",
      "\n"
     ]
    }
   ],
   "source": [
    "df\\\n",
    "    .filter(df.mes <= 6)\\\n",
    "    .filter(df.ano==2009)\\\n",
    "    .show(truncate=False)\n"
   ]
  },
  {
   "cell_type": "code",
   "execution_count": 70,
   "metadata": {},
   "outputs": [
    {
     "data": {
      "text/html": [
       "<div>\n",
       "<style scoped>\n",
       "    .dataframe tbody tr th:only-of-type {\n",
       "        vertical-align: middle;\n",
       "    }\n",
       "\n",
       "    .dataframe tbody tr th {\n",
       "        vertical-align: top;\n",
       "    }\n",
       "\n",
       "    .dataframe thead th {\n",
       "        text-align: right;\n",
       "    }\n",
       "</style>\n",
       "<table border=\"1\" class=\"dataframe\">\n",
       "  <thead>\n",
       "    <tr style=\"text-align: right;\">\n",
       "      <th></th>\n",
       "      <th>data</th>\n",
       "    </tr>\n",
       "  </thead>\n",
       "  <tbody>\n",
       "    <tr>\n",
       "      <th>0</th>\n",
       "      <td>RESTAURANTE DO RUI</td>\n",
       "    </tr>\n",
       "    <tr>\n",
       "      <th>1</th>\n",
       "      <td>Juca restaurantes ltda</td>\n",
       "    </tr>\n",
       "    <tr>\n",
       "      <th>2</th>\n",
       "      <td>Joca Restaurante</td>\n",
       "    </tr>\n",
       "  </tbody>\n",
       "</table>\n",
       "</div>"
      ],
      "text/plain": [
       "                     data\n",
       "0      RESTAURANTE DO RUI\n",
       "1  Juca restaurantes ltda\n",
       "2        Joca Restaurante"
      ]
     },
     "execution_count": 70,
     "metadata": {},
     "output_type": "execute_result"
    }
   ],
   "source": [
    "df = spark.createDataFrame(\n",
    "    [('RESTAURANTE DO RUI',), ('Juca restaurantes ltda',), ('Joca Restaurante',)], ['data'])\n",
    "df.toPandas()\n"
   ]
  },
  {
   "cell_type": "code",
   "execution_count": 71,
   "metadata": {},
   "outputs": [
    {
     "name": "stdout",
     "output_type": "stream",
     "text": [
      "+----------------------+\n",
      "|data                  |\n",
      "+----------------------+\n",
      "|RESTAURANTE DO RUI    |\n",
      "|Juca restaurantes ltda|\n",
      "|Joca Restaurante      |\n",
      "+----------------------+\n",
      "\n"
     ]
    }
   ],
   "source": [
    "df\\\n",
    "    .where(f.upper(df.data).like('%RESTAURANTE%'))\\\n",
    "    .show(truncate=False)\n"
   ]
  },
  {
   "cell_type": "code",
   "execution_count": 72,
   "metadata": {},
   "outputs": [
    {
     "name": "stdout",
     "output_type": "stream",
     "text": [
      "+------------------+\n",
      "|data              |\n",
      "+------------------+\n",
      "|RESTAURANTE DO RUI|\n",
      "+------------------+\n",
      "\n"
     ]
    }
   ],
   "source": [
    "df\\\n",
    "    .where(f.upper(df.data).like('RESTAURANTE%'))\\\n",
    "    .show(truncate=False)\n"
   ]
  },
  {
   "cell_type": "code",
   "execution_count": 73,
   "metadata": {},
   "outputs": [
    {
     "name": "stdout",
     "output_type": "stream",
     "text": [
      "+-----------------------------------------------------+-----------------+----------------+-------------------------+\n",
      "|razao_social_nome_empresarial                        |natureza_juridica|porte_da_empresa|capital_social_da_empresa|\n",
      "+-----------------------------------------------------+-----------------+----------------+-------------------------+\n",
      "|PRAIA MAR RESTAURANTE LTDA                           |2062             |5               |20000.0                  |\n",
      "|MORENO'S RESTAURANTE E LANCHONETE LTDA               |2062             |1               |0.0                      |\n",
      "|RESTAURANTE E PETISQUERIA MANE CANTO LTDA            |2062             |5               |0.0                      |\n",
      "|J.C.DE OLIVEIRA RESTAURANTE                          |2135             |5               |0.0                      |\n",
      "|RESTAURANTE E LANCHONETE NOVAES LTDA                 |2062             |1               |0.0                      |\n",
      "|RESTAURANTE GALEAO 2420 LTDA                         |2062             |1               |0.0                      |\n",
      "|R.C. GAINO RESTAURANTE E PIZZARIA                    |2135             |1               |10000.0                  |\n",
      "|TBM MULTI SERVICOS E RESTAURANTE LTDA                |2062             |1               |60000.0                  |\n",
      "|NIR-RESTAURANTE INDUSTRIAL E REFEICOES COLETIVAS LTDA|2062             |5               |0.0                      |\n",
      "|RESTAURANTE DIVINO SABOR LTDA                        |2062             |1               |0.0                      |\n",
      "|NE RESTAURANTE E COMERCIO LTDA                       |2062             |1               |0.0                      |\n",
      "|E. R. GUERRA RESTAURANTE                             |2135             |1               |0.0                      |\n",
      "|BAR E RESTAURANTE SABOR ESPECIAL LTDA                |2062             |5               |0.0                      |\n",
      "|RESTAURANTE E PIZZARIA LUIS GOES LTDA                |2062             |1               |0.0                      |\n",
      "|ILHA BELA TATUAPE BAR E RESTAURANTE LTDA             |2062             |1               |0.0                      |\n",
      "+-----------------------------------------------------+-----------------+----------------+-------------------------+\n",
      "only showing top 15 rows\n",
      "\n"
     ]
    }
   ],
   "source": [
    "empresas\\\n",
    "    .select('razao_social_nome_empresarial', 'natureza_juridica', 'porte_da_empresa', 'capital_social_da_empresa')\\\n",
    "    .filter(f.upper(empresas['razao_social_nome_empresarial']).like('%RESTAURANTE%'))\\\n",
    "    .show(15, False)\n"
   ]
  },
  {
   "cell_type": "code",
   "execution_count": 74,
   "metadata": {},
   "outputs": [
    {
     "name": "stdout",
     "output_type": "stream",
     "text": [
      "+-----------------------------------------------+-----------------+----------------+-------------------------+\n",
      "|razao_social_nome_empresarial                  |natureza_juridica|porte_da_empresa|capital_social_da_empresa|\n",
      "+-----------------------------------------------+-----------------+----------------+-------------------------+\n",
      "|JURISDATA JURISPRUDENCIA E INFORMATICA LTDA M E|2062             |5               |0.0                      |\n",
      "+-----------------------------------------------+-----------------+----------------+-------------------------+\n",
      "\n"
     ]
    }
   ],
   "source": [
    "empresas\\\n",
    "    .select('razao_social_nome_empresarial', 'natureza_juridica', 'porte_da_empresa', 'capital_social_da_empresa')\\\n",
    "    .filter(f.upper(empresas['razao_social_nome_empresarial']).like('%JURISDATA%'))\\\n",
    "    .show(15, False)\n"
   ]
  },
  {
   "cell_type": "code",
   "execution_count": 75,
   "metadata": {},
   "outputs": [
    {
     "data": {
      "text/html": [
       "<div>\n",
       "<style scoped>\n",
       "    .dataframe tbody tr th:only-of-type {\n",
       "        vertical-align: middle;\n",
       "    }\n",
       "\n",
       "    .dataframe tbody tr th {\n",
       "        vertical-align: top;\n",
       "    }\n",
       "\n",
       "    .dataframe thead th {\n",
       "        text-align: right;\n",
       "    }\n",
       "</style>\n",
       "<table border=\"1\" class=\"dataframe\">\n",
       "  <thead>\n",
       "    <tr style=\"text-align: right;\">\n",
       "      <th></th>\n",
       "      <th>cnpj_basico</th>\n",
       "      <th>razao_social_nome_empresarial</th>\n",
       "      <th>natureza_juridica</th>\n",
       "      <th>qualificacao_do_responsavel</th>\n",
       "      <th>capital_social_da_empresa</th>\n",
       "      <th>porte_da_empresa</th>\n",
       "      <th>ente_federativo_responsavel</th>\n",
       "    </tr>\n",
       "  </thead>\n",
       "  <tbody>\n",
       "    <tr>\n",
       "      <th>0</th>\n",
       "      <td>31911381</td>\n",
       "      <td>JURISDATA JURISPRUDENCIA E INFORMATICA LTDA M E</td>\n",
       "      <td>2062</td>\n",
       "      <td>49</td>\n",
       "      <td>0.0</td>\n",
       "      <td>5</td>\n",
       "      <td>None</td>\n",
       "    </tr>\n",
       "  </tbody>\n",
       "</table>\n",
       "</div>"
      ],
      "text/plain": [
       "   cnpj_basico                    razao_social_nome_empresarial  \\\n",
       "0     31911381  JURISDATA JURISPRUDENCIA E INFORMATICA LTDA M E   \n",
       "\n",
       "   natureza_juridica  qualificacao_do_responsavel  capital_social_da_empresa  \\\n",
       "0               2062                           49                        0.0   \n",
       "\n",
       "   porte_da_empresa ente_federativo_responsavel  \n",
       "0                 5                        None  "
      ]
     },
     "execution_count": 75,
     "metadata": {},
     "output_type": "execute_result"
    }
   ],
   "source": [
    "empresas\\\n",
    "    .select('*')\\\n",
    "    .filter(f.upper(empresas['razao_social_nome_empresarial']).like('%JURISDATA%'))\\\n",
    "    .limit(10).toPandas()\n"
   ]
  },
  {
   "cell_type": "code",
   "execution_count": 76,
   "metadata": {},
   "outputs": [
    {
     "name": "stdout",
     "output_type": "stream",
     "text": [
      "+---------------------+---+----+\n",
      "|nome                 |mes|ano |\n",
      "+---------------------+---+----+\n",
      "|CARMINA RABELO       |4  |2010|\n",
      "|HERONDINA PEREIRA    |6  |2009|\n",
      "|IRANI DOS SANTOS     |12 |2010|\n",
      "|JOAO BOSCO DA FONSECA|3  |2009|\n",
      "|CARLITO SOUZA        |1  |2010|\n",
      "|WALTER DIAS          |9  |2009|\n",
      "|BRENO VENTUROSO      |1  |2009|\n",
      "|ADELINA TEIXEIRA     |5  |2009|\n",
      "|ELIO SILVA           |7  |2010|\n",
      "|DENIS FONSECA        |6  |2010|\n",
      "+---------------------+---+----+\n",
      "\n"
     ]
    }
   ],
   "source": [
    "data = [\n",
    "    ('CARMINA RABELO', 4, 2010),\n",
    "    ('HERONDINA PEREIRA', 6, 2009),\n",
    "    ('IRANI DOS SANTOS', 12, 2010),\n",
    "    ('JOAO BOSCO DA FONSECA', 3, 2009),\n",
    "    ('CARLITO SOUZA', 1, 2010),\n",
    "    ('WALTER DIAS', 9, 2009),\n",
    "    ('BRENO VENTUROSO', 1, 2009),\n",
    "    ('ADELINA TEIXEIRA', 5, 2009),\n",
    "    ('ELIO SILVA', 7, 2010),\n",
    "    ('DENIS FONSECA', 6, 2010)\n",
    "]\n",
    "colNames = ['nome', 'mes', 'ano']\n",
    "df = spark.createDataFrame(data, colNames)\n",
    "df.show(truncate=False)\n"
   ]
  },
  {
   "cell_type": "code",
   "execution_count": 77,
   "metadata": {},
   "outputs": [
    {
     "name": "stdout",
     "output_type": "stream",
     "text": [
      "+--------------+------+\n",
      "|ano_de_entrada| count|\n",
      "+--------------+------+\n",
      "|          2010| 79337|\n",
      "|          2011| 83906|\n",
      "|          2012| 80101|\n",
      "|          2013| 83919|\n",
      "|          2014| 80590|\n",
      "|          2015| 80906|\n",
      "|          2016| 81587|\n",
      "|          2017| 90221|\n",
      "|          2018| 99935|\n",
      "|          2019|118248|\n",
      "|          2020|125927|\n",
      "|          2021| 56316|\n",
      "+--------------+------+\n",
      "\n"
     ]
    }
   ],
   "source": [
    "socios\\\n",
    "    .select(f.year('data_de_entrada_sociedade').alias('ano_de_entrada'))\\\n",
    "    .where('ano_de_entrada >= 2010')\\\n",
    "    .groupBy('ano_de_entrada')\\\n",
    "    .count()\\\n",
    "    .orderBy('ano_de_entrada', ascending=True)\\\n",
    "    .show()\n"
   ]
  },
  {
   "cell_type": "code",
   "execution_count": 78,
   "metadata": {},
   "outputs": [
    {
     "name": "stdout",
     "output_type": "stream",
     "text": [
      "+----------------+--------------------+----------+\n",
      "|porte_da_empresa|capital_social_medio|frequencia|\n",
      "+----------------+--------------------+----------+\n",
      "|            null|    8.35421888053467|      5985|\n",
      "|               1|   339994.5331350705|   3129043|\n",
      "|               3|  2601001.7677092687|    115151|\n",
      "|               5|   708660.4208249793|   1335500|\n",
      "+----------------+--------------------+----------+\n",
      "\n"
     ]
    }
   ],
   "source": [
    "empresas\\\n",
    "    .select('cnpj_basico', 'porte_da_empresa', 'capital_social_da_empresa')\\\n",
    "    .groupBy('porte_da_empresa')\\\n",
    "    .agg(\n",
    "        f.avg(\"capital_social_da_empresa\").alias(\"capital_social_medio\"),\n",
    "        f.count(\"cnpj_basico\").alias(\"frequencia\")\n",
    "    )\\\n",
    "    .orderBy('porte_da_empresa', ascending=True)\\\n",
    "    .show()\n"
   ]
  },
  {
   "cell_type": "code",
   "execution_count": 79,
   "metadata": {},
   "outputs": [
    {
     "name": "stdout",
     "output_type": "stream",
     "text": [
      "+-------+-------------------------+\n",
      "|summary|capital_social_da_empresa|\n",
      "+-------+-------------------------+\n",
      "|  count|                  4585679|\n",
      "|   mean|        503694.5478542674|\n",
      "| stddev|     2.1118691490537742E8|\n",
      "|    min|                      0.0|\n",
      "|    25%|                      0.0|\n",
      "|    50%|                   1000.0|\n",
      "|    75%|                   7000.0|\n",
      "|    max|         3.22014670262E11|\n",
      "+-------+-------------------------+\n",
      "\n"
     ]
    }
   ],
   "source": [
    "empresas\\\n",
    "    .select(\"capital_social_da_empresa\")\\\n",
    "    .summary()\\\n",
    "    .show()\n",
    "# .summary(\"count\",\"mean\",\"stddev\",\"min\",\"25%\",\"50%\",\"75%\",\"max\")\n"
   ]
  },
  {
   "cell_type": "code",
   "execution_count": 80,
   "metadata": {},
   "outputs": [
    {
     "name": "stdout",
     "output_type": "stream",
     "text": [
      "+-------+----------+----+\n",
      "|   nome|   materia|nota|\n",
      "+-------+----------+----+\n",
      "| CARLOS|MATEMÁTICA|   7|\n",
      "|    IVO|MATEMÁTICA|   9|\n",
      "| MÁRCIA|MATEMÁTICA|   8|\n",
      "|  LEILA|MATEMÁTICA|   9|\n",
      "|  BRENO|MATEMÁTICA|   7|\n",
      "|LETÍCIA|MATEMÁTICA|   8|\n",
      "| CARLOS|    FÍSICA|   2|\n",
      "|    IVO|    FÍSICA|   8|\n",
      "| MÁRCIA|    FÍSICA|  10|\n",
      "|  LEILA|    FÍSICA|   9|\n",
      "|  BRENO|    FÍSICA|   1|\n",
      "|LETÍCIA|    FÍSICA|   6|\n",
      "| CARLOS|   QUÍMICA|  10|\n",
      "|    IVO|   QUÍMICA|   8|\n",
      "| MÁRCIA|   QUÍMICA|   1|\n",
      "|  LEILA|   QUÍMICA|  10|\n",
      "|  BRENO|   QUÍMICA|   7|\n",
      "|LETÍCIA|   QUÍMICA|   9|\n",
      "+-------+----------+----+\n",
      "\n"
     ]
    }
   ],
   "source": [
    "data = [\n",
    "    ('CARLOS', 'MATEMÁTICA', 7),\n",
    "    ('IVO', 'MATEMÁTICA', 9),\n",
    "    ('MÁRCIA', 'MATEMÁTICA', 8),\n",
    "    ('LEILA', 'MATEMÁTICA', 9),\n",
    "    ('BRENO', 'MATEMÁTICA', 7),\n",
    "    ('LETÍCIA', 'MATEMÁTICA', 8),\n",
    "    ('CARLOS', 'FÍSICA', 2),\n",
    "    ('IVO', 'FÍSICA', 8),\n",
    "    ('MÁRCIA', 'FÍSICA', 10),\n",
    "    ('LEILA', 'FÍSICA', 9),\n",
    "    ('BRENO', 'FÍSICA', 1),\n",
    "    ('LETÍCIA', 'FÍSICA', 6),\n",
    "    ('CARLOS', 'QUÍMICA', 10),\n",
    "    ('IVO', 'QUÍMICA', 8),\n",
    "    ('MÁRCIA', 'QUÍMICA', 1),\n",
    "    ('LEILA', 'QUÍMICA', 10),\n",
    "    ('BRENO', 'QUÍMICA', 7),\n",
    "    ('LETÍCIA', 'QUÍMICA', 9)\n",
    "]\n",
    "colNames = ['nome', 'materia', 'nota']\n",
    "df = spark.createDataFrame(data, colNames)\n",
    "df.show()\n"
   ]
  },
  {
   "cell_type": "code",
   "execution_count": 81,
   "metadata": {},
   "outputs": [
    {
     "name": "stdout",
     "output_type": "stream",
     "text": [
      "+-------+----------+----+---------+\n",
      "|   nome|   materia|nota|   status|\n",
      "+-------+----------+----+---------+\n",
      "| CARLOS|MATEMÁTICA|   7| APROVADO|\n",
      "|    IVO|MATEMÁTICA|   9| APROVADO|\n",
      "| MÁRCIA|MATEMÁTICA|   8| APROVADO|\n",
      "|  LEILA|MATEMÁTICA|   9| APROVADO|\n",
      "|  BRENO|MATEMÁTICA|   7| APROVADO|\n",
      "|LETÍCIA|MATEMÁTICA|   8| APROVADO|\n",
      "| CARLOS|    FÍSICA|   2|REPROVADO|\n",
      "|    IVO|    FÍSICA|   8| APROVADO|\n",
      "| MÁRCIA|    FÍSICA|  10| APROVADO|\n",
      "|  LEILA|    FÍSICA|   9| APROVADO|\n",
      "|  BRENO|    FÍSICA|   1|REPROVADO|\n",
      "|LETÍCIA|    FÍSICA|   6|REPROVADO|\n",
      "| CARLOS|   QUÍMICA|  10| APROVADO|\n",
      "|    IVO|   QUÍMICA|   8| APROVADO|\n",
      "| MÁRCIA|   QUÍMICA|   1|REPROVADO|\n",
      "|  LEILA|   QUÍMICA|  10| APROVADO|\n",
      "|  BRENO|   QUÍMICA|   7| APROVADO|\n",
      "|LETÍCIA|   QUÍMICA|   9| APROVADO|\n",
      "+-------+----------+----+---------+\n",
      "\n"
     ]
    }
   ],
   "source": [
    "df = df.withColumn('status', f.when(\n",
    "    df.nota >= 7, \"APROVADO\").otherwise(\"REPROVADO\"))\n",
    "df.show()\n"
   ]
  },
  {
   "cell_type": "code",
   "execution_count": 82,
   "metadata": {},
   "outputs": [
    {
     "name": "stdout",
     "output_type": "stream",
     "text": [
      "+-------+----------+----+---------+\n",
      "|   nome|   materia|nota|   status|\n",
      "+-------+----------+----+---------+\n",
      "| CARLOS|MATEMÁTICA|   7| APROVADO|\n",
      "|    IVO|MATEMÁTICA|   9| APROVADO|\n",
      "| MÁRCIA|MATEMÁTICA|   8| APROVADO|\n",
      "|  LEILA|MATEMÁTICA|   9| APROVADO|\n",
      "|  BRENO|MATEMÁTICA|   7| APROVADO|\n",
      "|LETÍCIA|MATEMÁTICA|   8| APROVADO|\n",
      "| CARLOS|    FÍSICA|   2|REPROVADO|\n",
      "|    IVO|    FÍSICA|   8| APROVADO|\n",
      "| MÁRCIA|    FÍSICA|  10| APROVADO|\n",
      "|  LEILA|    FÍSICA|   9| APROVADO|\n",
      "|  BRENO|    FÍSICA|   1|REPROVADO|\n",
      "|LETÍCIA|    FÍSICA|   6|REPROVADO|\n",
      "| CARLOS|   QUÍMICA|  10| APROVADO|\n",
      "|    IVO|   QUÍMICA|   8| APROVADO|\n",
      "| MÁRCIA|   QUÍMICA|   1|REPROVADO|\n",
      "|  LEILA|   QUÍMICA|  10| APROVADO|\n",
      "|  BRENO|   QUÍMICA|   7| APROVADO|\n",
      "|LETÍCIA|   QUÍMICA|   9| APROVADO|\n",
      "+-------+----------+----+---------+\n",
      "\n"
     ]
    }
   ],
   "source": [
    "data = [\n",
    "    ('CARLOS', 'MATEMÁTICA', 7),\n",
    "    ('IVO', 'MATEMÁTICA', 9),\n",
    "    ('MÁRCIA', 'MATEMÁTICA', 8),\n",
    "    ('LEILA', 'MATEMÁTICA', 9),\n",
    "    ('BRENO', 'MATEMÁTICA', 7),\n",
    "    ('LETÍCIA', 'MATEMÁTICA', 8),\n",
    "    ('CARLOS', 'FÍSICA', 2),\n",
    "    ('IVO', 'FÍSICA', 8),\n",
    "    ('MÁRCIA', 'FÍSICA', 10),\n",
    "    ('LEILA', 'FÍSICA', 9),\n",
    "    ('BRENO', 'FÍSICA', 1),\n",
    "    ('LETÍCIA', 'FÍSICA', 6),\n",
    "    ('CARLOS', 'QUÍMICA', 10),\n",
    "    ('IVO', 'QUÍMICA', 8),\n",
    "    ('MÁRCIA', 'QUÍMICA', 1),\n",
    "    ('LEILA', 'QUÍMICA', 10),\n",
    "    ('BRENO', 'QUÍMICA', 7),\n",
    "    ('LETÍCIA', 'QUÍMICA', 9)\n",
    "]\n",
    "colNames = ['nome', 'materia', 'nota']\n",
    "df = spark.createDataFrame(data, colNames)\n",
    "df = df.withColumn('status', f.when(\n",
    "    df.nota >= 7, \"APROVADO\").otherwise(\"REPROVADO\"))\n",
    "df.show()\n"
   ]
  },
  {
   "cell_type": "code",
   "execution_count": 83,
   "metadata": {},
   "outputs": [
    {
     "name": "stdout",
     "output_type": "stream",
     "text": [
      "+-------+------------------+\n",
      "|summary|              nota|\n",
      "+-------+------------------+\n",
      "|  count|                18|\n",
      "|   mean| 7.166666666666667|\n",
      "| stddev|2.9154759474226504|\n",
      "|    min|                 1|\n",
      "|    25%|                 7|\n",
      "|    50%|                 8|\n",
      "|    75%|                 9|\n",
      "|    max|                10|\n",
      "+-------+------------------+\n",
      "\n"
     ]
    }
   ],
   "source": [
    "df\\\n",
    "    .select('nota')\\\n",
    "    .summary()\\\n",
    "    .show()\n"
   ]
  },
  {
   "cell_type": "code",
   "execution_count": 84,
   "metadata": {},
   "outputs": [
    {
     "name": "stdout",
     "output_type": "stream",
     "text": [
      "+---------+-----+\n",
      "|   status|count|\n",
      "+---------+-----+\n",
      "| APROVADO|   14|\n",
      "|REPROVADO|    4|\n",
      "+---------+-----+\n",
      "\n"
     ]
    }
   ],
   "source": [
    "df\\\n",
    "    .groupBy('status')\\\n",
    "    .count()\\\n",
    "    .orderBy('status', ascending=True)\\\n",
    "    .show()\n"
   ]
  },
  {
   "cell_type": "code",
   "execution_count": 85,
   "metadata": {},
   "outputs": [
    {
     "name": "stdout",
     "output_type": "stream",
     "text": [
      "+-------+------------------+\n",
      "|summary|              nota|\n",
      "+-------+------------------+\n",
      "|  count|                18|\n",
      "|   mean| 7.166666666666667|\n",
      "| stddev|2.9154759474226504|\n",
      "|    min|                 1|\n",
      "|    max|                10|\n",
      "+-------+------------------+\n",
      "\n"
     ]
    }
   ],
   "source": [
    "df\\\n",
    "    .select('nota')\\\n",
    "    .describe()\\\n",
    "    .show()\n"
   ]
  },
  {
   "cell_type": "code",
   "execution_count": 86,
   "metadata": {},
   "outputs": [],
   "source": [
    "produtos = spark.createDataFrame(\n",
    "    [\n",
    "        ('1', 'Bebidas', 'Água mineral'),\n",
    "        ('2', 'Limpeza', 'Sabão em pó'),\n",
    "        ('3', 'Frios', 'Queijo'),\n",
    "        ('4', 'Bebidas', 'Refrigerante'),\n",
    "        ('5', 'Pet', 'Ração para cães')\n",
    "    ],\n",
    "    ['id', 'cat', 'prod']\n",
    ")\n",
    "\n",
    "impostos = spark.createDataFrame(\n",
    "    [\n",
    "        ('Bebidas', 0.15),\n",
    "        ('Limpeza', 0.05),\n",
    "        ('Frios', 0.065),\n",
    "        ('Carnes', 0.08)\n",
    "    ],\n",
    "    ['cat', 'tax']\n",
    ")\n"
   ]
  },
  {
   "cell_type": "code",
   "execution_count": 87,
   "metadata": {},
   "outputs": [
    {
     "data": {
      "text/html": [
       "<div>\n",
       "<style scoped>\n",
       "    .dataframe tbody tr th:only-of-type {\n",
       "        vertical-align: middle;\n",
       "    }\n",
       "\n",
       "    .dataframe tbody tr th {\n",
       "        vertical-align: top;\n",
       "    }\n",
       "\n",
       "    .dataframe thead th {\n",
       "        text-align: right;\n",
       "    }\n",
       "</style>\n",
       "<table border=\"1\" class=\"dataframe\">\n",
       "  <thead>\n",
       "    <tr style=\"text-align: right;\">\n",
       "      <th></th>\n",
       "      <th>id</th>\n",
       "      <th>cat</th>\n",
       "      <th>prod</th>\n",
       "    </tr>\n",
       "  </thead>\n",
       "  <tbody>\n",
       "    <tr>\n",
       "      <th>0</th>\n",
       "      <td>1</td>\n",
       "      <td>Bebidas</td>\n",
       "      <td>Água mineral</td>\n",
       "    </tr>\n",
       "    <tr>\n",
       "      <th>1</th>\n",
       "      <td>2</td>\n",
       "      <td>Limpeza</td>\n",
       "      <td>Sabão em pó</td>\n",
       "    </tr>\n",
       "    <tr>\n",
       "      <th>2</th>\n",
       "      <td>3</td>\n",
       "      <td>Frios</td>\n",
       "      <td>Queijo</td>\n",
       "    </tr>\n",
       "    <tr>\n",
       "      <th>3</th>\n",
       "      <td>4</td>\n",
       "      <td>Bebidas</td>\n",
       "      <td>Refrigerante</td>\n",
       "    </tr>\n",
       "    <tr>\n",
       "      <th>4</th>\n",
       "      <td>5</td>\n",
       "      <td>Pet</td>\n",
       "      <td>Ração para cães</td>\n",
       "    </tr>\n",
       "  </tbody>\n",
       "</table>\n",
       "</div>"
      ],
      "text/plain": [
       "  id      cat             prod\n",
       "0  1  Bebidas     Água mineral\n",
       "1  2  Limpeza      Sabão em pó\n",
       "2  3    Frios           Queijo\n",
       "3  4  Bebidas     Refrigerante\n",
       "4  5      Pet  Ração para cães"
      ]
     },
     "execution_count": 87,
     "metadata": {},
     "output_type": "execute_result"
    }
   ],
   "source": [
    "produtos.toPandas()\n"
   ]
  },
  {
   "cell_type": "code",
   "execution_count": 88,
   "metadata": {},
   "outputs": [
    {
     "data": {
      "text/html": [
       "<div>\n",
       "<style scoped>\n",
       "    .dataframe tbody tr th:only-of-type {\n",
       "        vertical-align: middle;\n",
       "    }\n",
       "\n",
       "    .dataframe tbody tr th {\n",
       "        vertical-align: top;\n",
       "    }\n",
       "\n",
       "    .dataframe thead th {\n",
       "        text-align: right;\n",
       "    }\n",
       "</style>\n",
       "<table border=\"1\" class=\"dataframe\">\n",
       "  <thead>\n",
       "    <tr style=\"text-align: right;\">\n",
       "      <th></th>\n",
       "      <th>cat</th>\n",
       "      <th>tax</th>\n",
       "    </tr>\n",
       "  </thead>\n",
       "  <tbody>\n",
       "    <tr>\n",
       "      <th>0</th>\n",
       "      <td>Bebidas</td>\n",
       "      <td>0.150</td>\n",
       "    </tr>\n",
       "    <tr>\n",
       "      <th>1</th>\n",
       "      <td>Limpeza</td>\n",
       "      <td>0.050</td>\n",
       "    </tr>\n",
       "    <tr>\n",
       "      <th>2</th>\n",
       "      <td>Frios</td>\n",
       "      <td>0.065</td>\n",
       "    </tr>\n",
       "    <tr>\n",
       "      <th>3</th>\n",
       "      <td>Carnes</td>\n",
       "      <td>0.080</td>\n",
       "    </tr>\n",
       "  </tbody>\n",
       "</table>\n",
       "</div>"
      ],
      "text/plain": [
       "       cat    tax\n",
       "0  Bebidas  0.150\n",
       "1  Limpeza  0.050\n",
       "2    Frios  0.065\n",
       "3   Carnes  0.080"
      ]
     },
     "execution_count": 88,
     "metadata": {},
     "output_type": "execute_result"
    }
   ],
   "source": [
    "impostos.toPandas()\n"
   ]
  },
  {
   "cell_type": "code",
   "execution_count": 89,
   "metadata": {},
   "outputs": [
    {
     "name": "stdout",
     "output_type": "stream",
     "text": [
      "+-------+---+------------+-----+\n",
      "|    cat| id|        prod|  tax|\n",
      "+-------+---+------------+-----+\n",
      "|Bebidas|  1|Água mineral| 0.15|\n",
      "|Limpeza|  2| Sabão em pó| 0.05|\n",
      "|  Frios|  3|      Queijo|0.065|\n",
      "|Bebidas|  4|Refrigerante| 0.15|\n",
      "+-------+---+------------+-----+\n",
      "\n"
     ]
    }
   ],
   "source": [
    "produtos.join(impostos, 'cat', how='inner')\\\n",
    "    .sort('id')\\\n",
    "    .show()\n"
   ]
  },
  {
   "cell_type": "code",
   "execution_count": 90,
   "metadata": {},
   "outputs": [
    {
     "name": "stdout",
     "output_type": "stream",
     "text": [
      "+-------+---+---------------+-----+\n",
      "|    cat| id|           prod|  tax|\n",
      "+-------+---+---------------+-----+\n",
      "|Bebidas|  1|   Água mineral| 0.15|\n",
      "|Limpeza|  2|    Sabão em pó| 0.05|\n",
      "|  Frios|  3|         Queijo|0.065|\n",
      "|Bebidas|  4|   Refrigerante| 0.15|\n",
      "|    Pet|  5|Ração para cães| null|\n",
      "+-------+---+---------------+-----+\n",
      "\n"
     ]
    }
   ],
   "source": [
    "produtos.join(impostos, 'cat', how='left')\\\n",
    "    .sort('id')\\\n",
    "    .show()\n"
   ]
  },
  {
   "cell_type": "code",
   "execution_count": 91,
   "metadata": {},
   "outputs": [
    {
     "name": "stdout",
     "output_type": "stream",
     "text": [
      "+-------+----+------------+-----+\n",
      "|    cat|  id|        prod|  tax|\n",
      "+-------+----+------------+-----+\n",
      "| Carnes|null|        null| 0.08|\n",
      "|Bebidas|   1|Água mineral| 0.15|\n",
      "|Limpeza|   2| Sabão em pó| 0.05|\n",
      "|  Frios|   3|      Queijo|0.065|\n",
      "|Bebidas|   4|Refrigerante| 0.15|\n",
      "+-------+----+------------+-----+\n",
      "\n"
     ]
    }
   ],
   "source": [
    "produtos.join(impostos, 'cat', how='right')\\\n",
    "    .sort('id')\\\n",
    "    .show()\n"
   ]
  },
  {
   "cell_type": "code",
   "execution_count": 92,
   "metadata": {},
   "outputs": [
    {
     "name": "stdout",
     "output_type": "stream",
     "text": [
      "+-------+----+---------------+-----+\n",
      "|    cat|  id|           prod|  tax|\n",
      "+-------+----+---------------+-----+\n",
      "| Carnes|null|           null| 0.08|\n",
      "|Bebidas|   1|   Água mineral| 0.15|\n",
      "|Limpeza|   2|    Sabão em pó| 0.05|\n",
      "|  Frios|   3|         Queijo|0.065|\n",
      "|Bebidas|   4|   Refrigerante| 0.15|\n",
      "|    Pet|   5|Ração para cães| null|\n",
      "+-------+----+---------------+-----+\n",
      "\n"
     ]
    }
   ],
   "source": [
    "produtos.join(impostos, 'cat', how='outer')\\\n",
    "    .sort('id')\\\n",
    "    .show()\n"
   ]
  },
  {
   "cell_type": "code",
   "execution_count": 93,
   "metadata": {},
   "outputs": [
    {
     "name": "stdout",
     "output_type": "stream",
     "text": [
      "root\n",
      " |-- cnpj_basico: integer (nullable = true)\n",
      " |-- razao_social_nome_empresarial: string (nullable = true)\n",
      " |-- natureza_juridica: integer (nullable = true)\n",
      " |-- qualificacao_do_responsavel: integer (nullable = true)\n",
      " |-- capital_social_da_empresa: double (nullable = true)\n",
      " |-- porte_da_empresa: integer (nullable = true)\n",
      " |-- ente_federativo_responsavel: string (nullable = true)\n",
      "\n"
     ]
    }
   ],
   "source": [
    "empresas.printSchema()\n"
   ]
  },
  {
   "cell_type": "code",
   "execution_count": 94,
   "metadata": {},
   "outputs": [
    {
     "name": "stdout",
     "output_type": "stream",
     "text": [
      "root\n",
      " |-- cnpj_basico: integer (nullable = true)\n",
      " |-- identificador_de_socio: integer (nullable = true)\n",
      " |-- nome_do_socio_ou_razao_social: string (nullable = true)\n",
      " |-- cnpj_ou_cpf_do_socio: string (nullable = true)\n",
      " |-- qualificacao_do_socio: integer (nullable = true)\n",
      " |-- data_de_entrada_sociedade: date (nullable = true)\n",
      " |-- pais: integer (nullable = true)\n",
      " |-- representante_legal: string (nullable = true)\n",
      " |-- nome_do_representante: string (nullable = true)\n",
      " |-- qualificacao_do_representante_legal: integer (nullable = true)\n",
      " |-- faixa_etaria: integer (nullable = true)\n",
      "\n"
     ]
    }
   ],
   "source": [
    "socios.printSchema()\n"
   ]
  },
  {
   "cell_type": "code",
   "execution_count": 95,
   "metadata": {},
   "outputs": [
    {
     "name": "stdout",
     "output_type": "stream",
     "text": [
      "root\n",
      " |-- cnpj_basico: integer (nullable = true)\n",
      " |-- cnpj_ordem: integer (nullable = true)\n",
      " |-- cnpj_dv: integer (nullable = true)\n",
      " |-- identificador_matriz_filial: integer (nullable = true)\n",
      " |-- nome_fantasia: string (nullable = true)\n",
      " |-- situacao_cadastral: integer (nullable = true)\n",
      " |-- data_situacao_cadastral: date (nullable = true)\n",
      " |-- motivo_situacao_cadastral: integer (nullable = true)\n",
      " |-- nome_da_cidade_no_exterior: string (nullable = true)\n",
      " |-- pais: integer (nullable = true)\n",
      " |-- data_de_inicio_atividade: date (nullable = true)\n",
      " |-- cnae_fiscal_principal: integer (nullable = true)\n",
      " |-- cnae_fiscal_secundaria: string (nullable = true)\n",
      " |-- tipo_de_logradouro: string (nullable = true)\n",
      " |-- logradouro: string (nullable = true)\n",
      " |-- numero: string (nullable = true)\n",
      " |-- complemento: string (nullable = true)\n",
      " |-- bairro: string (nullable = true)\n",
      " |-- cep: integer (nullable = true)\n",
      " |-- uf: string (nullable = true)\n",
      " |-- municipio: integer (nullable = true)\n",
      " |-- ddd_1: string (nullable = true)\n",
      " |-- telefone_1: string (nullable = true)\n",
      " |-- ddd_2: string (nullable = true)\n",
      " |-- telefone_2: string (nullable = true)\n",
      " |-- ddd_do_fax: integer (nullable = true)\n",
      " |-- fax: string (nullable = true)\n",
      " |-- correio_eletronico: string (nullable = true)\n",
      " |-- situacao_especial: string (nullable = true)\n",
      " |-- data_da_situacao_especial: date (nullable = true)\n",
      "\n"
     ]
    }
   ],
   "source": [
    "estabelecimentos.printSchema()\n"
   ]
  },
  {
   "cell_type": "code",
   "execution_count": 96,
   "metadata": {},
   "outputs": [
    {
     "name": "stdout",
     "output_type": "stream",
     "text": [
      "root\n",
      " |-- cnpj_basico: integer (nullable = true)\n",
      " |-- cnpj_ordem: integer (nullable = true)\n",
      " |-- cnpj_dv: integer (nullable = true)\n",
      " |-- identificador_matriz_filial: integer (nullable = true)\n",
      " |-- nome_fantasia: string (nullable = true)\n",
      " |-- situacao_cadastral: integer (nullable = true)\n",
      " |-- data_situacao_cadastral: date (nullable = true)\n",
      " |-- motivo_situacao_cadastral: integer (nullable = true)\n",
      " |-- nome_da_cidade_no_exterior: string (nullable = true)\n",
      " |-- pais: integer (nullable = true)\n",
      " |-- data_de_inicio_atividade: date (nullable = true)\n",
      " |-- cnae_fiscal_principal: integer (nullable = true)\n",
      " |-- cnae_fiscal_secundaria: string (nullable = true)\n",
      " |-- tipo_de_logradouro: string (nullable = true)\n",
      " |-- logradouro: string (nullable = true)\n",
      " |-- numero: string (nullable = true)\n",
      " |-- complemento: string (nullable = true)\n",
      " |-- bairro: string (nullable = true)\n",
      " |-- cep: integer (nullable = true)\n",
      " |-- uf: string (nullable = true)\n",
      " |-- municipio: integer (nullable = true)\n",
      " |-- ddd_1: string (nullable = true)\n",
      " |-- telefone_1: string (nullable = true)\n",
      " |-- ddd_2: string (nullable = true)\n",
      " |-- telefone_2: string (nullable = true)\n",
      " |-- ddd_do_fax: integer (nullable = true)\n",
      " |-- fax: string (nullable = true)\n",
      " |-- correio_eletronico: string (nullable = true)\n",
      " |-- situacao_especial: string (nullable = true)\n",
      " |-- data_da_situacao_especial: date (nullable = true)\n",
      " |-- razao_social_nome_empresarial: string (nullable = true)\n",
      " |-- natureza_juridica: integer (nullable = true)\n",
      " |-- qualificacao_do_responsavel: integer (nullable = true)\n",
      " |-- capital_social_da_empresa: double (nullable = true)\n",
      " |-- porte_da_empresa: integer (nullable = true)\n",
      " |-- ente_federativo_responsavel: string (nullable = true)\n",
      "\n"
     ]
    }
   ],
   "source": [
    "empresas_join = estabelecimentos.join(empresas, 'cnpj_basico', how='inner')\n",
    "empresas_join.printSchema()\n"
   ]
  },
  {
   "cell_type": "code",
   "execution_count": 97,
   "metadata": {},
   "outputs": [],
   "source": [
    "freq = empresas_join\\\n",
    "    .select(\n",
    "        'cnpj_basico',\n",
    "        f.year('data_de_inicio_atividade').alias('data_de_inicio')\n",
    "    )\\\n",
    "    .where('data_de_inicio >= 2010')\\\n",
    "    .groupBy('data_de_inicio')\\\n",
    "    .agg(f.count(\"cnpj_basico\").alias(\"frequencia\"))\\\n",
    "    .orderBy('data_de_inicio', ascending=True)\n"
   ]
  },
  {
   "cell_type": "code",
   "execution_count": 98,
   "metadata": {},
   "outputs": [
    {
     "data": {
      "text/html": [
       "<div>\n",
       "<style scoped>\n",
       "    .dataframe tbody tr th:only-of-type {\n",
       "        vertical-align: middle;\n",
       "    }\n",
       "\n",
       "    .dataframe tbody tr th {\n",
       "        vertical-align: top;\n",
       "    }\n",
       "\n",
       "    .dataframe thead th {\n",
       "        text-align: right;\n",
       "    }\n",
       "</style>\n",
       "<table border=\"1\" class=\"dataframe\">\n",
       "  <thead>\n",
       "    <tr style=\"text-align: right;\">\n",
       "      <th></th>\n",
       "      <th>data_de_inicio</th>\n",
       "      <th>frequencia</th>\n",
       "    </tr>\n",
       "  </thead>\n",
       "  <tbody>\n",
       "    <tr>\n",
       "      <th>0</th>\n",
       "      <td>2010</td>\n",
       "      <td>154159</td>\n",
       "    </tr>\n",
       "    <tr>\n",
       "      <th>1</th>\n",
       "      <td>2011</td>\n",
       "      <td>172677</td>\n",
       "    </tr>\n",
       "    <tr>\n",
       "      <th>2</th>\n",
       "      <td>2012</td>\n",
       "      <td>232480</td>\n",
       "    </tr>\n",
       "    <tr>\n",
       "      <th>3</th>\n",
       "      <td>2013</td>\n",
       "      <td>198424</td>\n",
       "    </tr>\n",
       "    <tr>\n",
       "      <th>4</th>\n",
       "      <td>2014</td>\n",
       "      <td>202276</td>\n",
       "    </tr>\n",
       "    <tr>\n",
       "      <th>5</th>\n",
       "      <td>2015</td>\n",
       "      <td>212523</td>\n",
       "    </tr>\n",
       "    <tr>\n",
       "      <th>6</th>\n",
       "      <td>2016</td>\n",
       "      <td>265417</td>\n",
       "    </tr>\n",
       "    <tr>\n",
       "      <th>7</th>\n",
       "      <td>2017</td>\n",
       "      <td>237292</td>\n",
       "    </tr>\n",
       "    <tr>\n",
       "      <th>8</th>\n",
       "      <td>2018</td>\n",
       "      <td>275435</td>\n",
       "    </tr>\n",
       "    <tr>\n",
       "      <th>9</th>\n",
       "      <td>2019</td>\n",
       "      <td>325922</td>\n",
       "    </tr>\n",
       "    <tr>\n",
       "      <th>10</th>\n",
       "      <td>2020</td>\n",
       "      <td>400654</td>\n",
       "    </tr>\n",
       "    <tr>\n",
       "      <th>11</th>\n",
       "      <td>2021</td>\n",
       "      <td>153275</td>\n",
       "    </tr>\n",
       "  </tbody>\n",
       "</table>\n",
       "</div>"
      ],
      "text/plain": [
       "    data_de_inicio  frequencia\n",
       "0             2010      154159\n",
       "1             2011      172677\n",
       "2             2012      232480\n",
       "3             2013      198424\n",
       "4             2014      202276\n",
       "5             2015      212523\n",
       "6             2016      265417\n",
       "7             2017      237292\n",
       "8             2018      275435\n",
       "9             2019      325922\n",
       "10            2020      400654\n",
       "11            2021      153275"
      ]
     },
     "execution_count": 98,
     "metadata": {},
     "output_type": "execute_result"
    }
   ],
   "source": [
    "freq.toPandas()"
   ]
  },
  {
   "cell_type": "code",
   "execution_count": 99,
   "metadata": {},
   "outputs": [
    {
     "name": "stdout",
     "output_type": "stream",
     "text": [
      "+--------------+----------+\n",
      "|data_de_inicio|frequencia|\n",
      "+--------------+----------+\n",
      "|          2010|    154159|\n",
      "|          2011|    172677|\n",
      "|          2012|    232480|\n",
      "|          2013|    198424|\n",
      "|          2014|    202276|\n",
      "|          2015|    212523|\n",
      "|          2016|    265417|\n",
      "|          2017|    237292|\n",
      "|          2018|    275435|\n",
      "|          2019|    325922|\n",
      "|          2020|    400654|\n",
      "|          2021|    153275|\n",
      "|         Total|   2830534|\n",
      "+--------------+----------+\n",
      "\n"
     ]
    }
   ],
   "source": [
    "freq.union(\n",
    "    freq.select(\n",
    "        f.lit('Total').alias('data_de_inicio'),\n",
    "        f.sum(freq.frequencia).alias('frequencia')\n",
    "    )\n",
    ").show()\n"
   ]
  },
  {
   "cell_type": "code",
   "execution_count": 100,
   "metadata": {},
   "outputs": [],
   "source": [
    "idades = spark.createDataFrame(\n",
    "    [\n",
    "        ('CARLOS', 15),\n",
    "        ('IVO', 14),\n",
    "        ('MÁRCIA', 16),\n",
    "        ('LEILA', 17),\n",
    "        ('LETÍCIA', 14)\n",
    "    ],\n",
    "    ['nomes', 'idades']\n",
    ")\n",
    "\n",
    "notas = spark.createDataFrame(\n",
    "    [\n",
    "        ('CARLOS', 10),\n",
    "        ('MÁRCIA', 1),\n",
    "        ('LEILA', 10),\n",
    "        ('BRENO', 7),\n",
    "        ('LETÍCIA', 9)\n",
    "    ],\n",
    "    ['nomes', 'notas']\n",
    ")\n"
   ]
  },
  {
   "cell_type": "code",
   "execution_count": 101,
   "metadata": {},
   "outputs": [
    {
     "data": {
      "text/html": [
       "<div>\n",
       "<style scoped>\n",
       "    .dataframe tbody tr th:only-of-type {\n",
       "        vertical-align: middle;\n",
       "    }\n",
       "\n",
       "    .dataframe tbody tr th {\n",
       "        vertical-align: top;\n",
       "    }\n",
       "\n",
       "    .dataframe thead th {\n",
       "        text-align: right;\n",
       "    }\n",
       "</style>\n",
       "<table border=\"1\" class=\"dataframe\">\n",
       "  <thead>\n",
       "    <tr style=\"text-align: right;\">\n",
       "      <th></th>\n",
       "      <th>nomes</th>\n",
       "      <th>idades</th>\n",
       "    </tr>\n",
       "  </thead>\n",
       "  <tbody>\n",
       "    <tr>\n",
       "      <th>0</th>\n",
       "      <td>CARLOS</td>\n",
       "      <td>15</td>\n",
       "    </tr>\n",
       "    <tr>\n",
       "      <th>1</th>\n",
       "      <td>IVO</td>\n",
       "      <td>14</td>\n",
       "    </tr>\n",
       "    <tr>\n",
       "      <th>2</th>\n",
       "      <td>MÁRCIA</td>\n",
       "      <td>16</td>\n",
       "    </tr>\n",
       "    <tr>\n",
       "      <th>3</th>\n",
       "      <td>LEILA</td>\n",
       "      <td>17</td>\n",
       "    </tr>\n",
       "    <tr>\n",
       "      <th>4</th>\n",
       "      <td>LETÍCIA</td>\n",
       "      <td>14</td>\n",
       "    </tr>\n",
       "  </tbody>\n",
       "</table>\n",
       "</div>"
      ],
      "text/plain": [
       "     nomes  idades\n",
       "0   CARLOS      15\n",
       "1      IVO      14\n",
       "2   MÁRCIA      16\n",
       "3    LEILA      17\n",
       "4  LETÍCIA      14"
      ]
     },
     "execution_count": 101,
     "metadata": {},
     "output_type": "execute_result"
    }
   ],
   "source": [
    "idades.toPandas()"
   ]
  },
  {
   "cell_type": "code",
   "execution_count": 102,
   "metadata": {},
   "outputs": [
    {
     "data": {
      "text/html": [
       "<div>\n",
       "<style scoped>\n",
       "    .dataframe tbody tr th:only-of-type {\n",
       "        vertical-align: middle;\n",
       "    }\n",
       "\n",
       "    .dataframe tbody tr th {\n",
       "        vertical-align: top;\n",
       "    }\n",
       "\n",
       "    .dataframe thead th {\n",
       "        text-align: right;\n",
       "    }\n",
       "</style>\n",
       "<table border=\"1\" class=\"dataframe\">\n",
       "  <thead>\n",
       "    <tr style=\"text-align: right;\">\n",
       "      <th></th>\n",
       "      <th>nomes</th>\n",
       "      <th>notas</th>\n",
       "    </tr>\n",
       "  </thead>\n",
       "  <tbody>\n",
       "    <tr>\n",
       "      <th>0</th>\n",
       "      <td>CARLOS</td>\n",
       "      <td>10</td>\n",
       "    </tr>\n",
       "    <tr>\n",
       "      <th>1</th>\n",
       "      <td>MÁRCIA</td>\n",
       "      <td>1</td>\n",
       "    </tr>\n",
       "    <tr>\n",
       "      <th>2</th>\n",
       "      <td>LEILA</td>\n",
       "      <td>10</td>\n",
       "    </tr>\n",
       "    <tr>\n",
       "      <th>3</th>\n",
       "      <td>BRENO</td>\n",
       "      <td>7</td>\n",
       "    </tr>\n",
       "    <tr>\n",
       "      <th>4</th>\n",
       "      <td>LETÍCIA</td>\n",
       "      <td>9</td>\n",
       "    </tr>\n",
       "  </tbody>\n",
       "</table>\n",
       "</div>"
      ],
      "text/plain": [
       "     nomes  notas\n",
       "0   CARLOS     10\n",
       "1   MÁRCIA      1\n",
       "2    LEILA     10\n",
       "3    BRENO      7\n",
       "4  LETÍCIA      9"
      ]
     },
     "execution_count": 102,
     "metadata": {},
     "output_type": "execute_result"
    }
   ],
   "source": [
    "notas.toPandas()"
   ]
  },
  {
   "cell_type": "code",
   "execution_count": 103,
   "metadata": {},
   "outputs": [
    {
     "name": "stdout",
     "output_type": "stream",
     "text": [
      "+-------+------+-----+\n",
      "|  nomes|idades|notas|\n",
      "+-------+------+-----+\n",
      "|  BRENO|  null|    7|\n",
      "| CARLOS|    15|   10|\n",
      "|    IVO|    14| null|\n",
      "|  LEILA|    17|   10|\n",
      "|LETÍCIA|    14|    9|\n",
      "| MÁRCIA|    16|    1|\n",
      "+-------+------+-----+\n",
      "\n"
     ]
    }
   ],
   "source": [
    "idades.join(notas, 'nomes', how=\"outer\")\\\n",
    "    .sort('nomes')\\\n",
    "    .show()\n"
   ]
  },
  {
   "cell_type": "code",
   "execution_count": 104,
   "metadata": {},
   "outputs": [],
   "source": [
    "empresas.createOrReplaceTempView(\"empresasView\")\n"
   ]
  },
  {
   "cell_type": "code",
   "execution_count": 105,
   "metadata": {},
   "outputs": [
    {
     "name": "stdout",
     "output_type": "stream",
     "text": [
      "+-----------+-----------------------------+-----------------+---------------------------+-------------------------+----------------+---------------------------+\n",
      "|cnpj_basico|razao_social_nome_empresarial|natureza_juridica|qualificacao_do_responsavel|capital_social_da_empresa|porte_da_empresa|ente_federativo_responsavel|\n",
      "+-----------+-----------------------------+-----------------+---------------------------+-------------------------+----------------+---------------------------+\n",
      "|       4519|         DANIELA DA SILVA ...|             2135|                         50|                      0.0|               5|                       null|\n",
      "|       8638|         JOAO DOS SANTOS F...|             2135|                         50|                      0.0|               5|                       null|\n",
      "|      11748|         PANIFICADORA E CO...|             2062|                         49|                      0.0|               1|                       null|\n",
      "|      12027|          L G SORVETERIA LTDA|             2062|                         49|                      0.0|               5|                       null|\n",
      "|      13289|         ANDREIA CRISTINA ...|             2305|                         65|                 100000.0|               1|                       null|\n",
      "+-----------+-----------------------------+-----------------+---------------------------+-------------------------+----------------+---------------------------+\n",
      "only showing top 5 rows\n",
      "\n"
     ]
    }
   ],
   "source": [
    "spark.sql(\"SELECT * FROM empresasView\").show(5)\n"
   ]
  },
  {
   "cell_type": "code",
   "execution_count": 106,
   "metadata": {},
   "outputs": [
    {
     "name": "stdout",
     "output_type": "stream",
     "text": [
      "+-----------+-----------------------------+-----------------+---------------------------+-------------------------+----------------+---------------------------+\n",
      "|cnpj_basico|razao_social_nome_empresarial|natureza_juridica|qualificacao_do_responsavel|capital_social_da_empresa|porte_da_empresa|ente_federativo_responsavel|\n",
      "+-----------+-----------------------------+-----------------+---------------------------+-------------------------+----------------+---------------------------+\n",
      "|   14715041|         LIDIANE MARIA DO ...|             2135|                         50|                     50.0|               1|                       null|\n",
      "|   20601885|         CRISTIANO AKIHITO...|             2135|                         50|                     50.0|               1|                       null|\n",
      "|   23661983|         VITOR ALOISIO DO ...|             2135|                         50|                     50.0|               1|                       null|\n",
      "|   23714726|         JOSELINA PANSINI ...|             2135|                         50|                     50.0|               1|                       null|\n",
      "|   26022246|         SUZANE SILVA DE O...|             2135|                         50|                     50.0|               1|                       null|\n",
      "+-----------+-----------------------------+-----------------+---------------------------+-------------------------+----------------+---------------------------+\n",
      "only showing top 5 rows\n",
      "\n"
     ]
    }
   ],
   "source": [
    "spark\\\n",
    "    .sql(\"\"\"\n",
    "        SELECT * \n",
    "            FROM empresasView \n",
    "            WHERE capital_social_da_empresa = 50\n",
    "    \"\"\")\\\n",
    "    .show(5)\n"
   ]
  },
  {
   "cell_type": "code",
   "execution_count": 107,
   "metadata": {},
   "outputs": [
    {
     "name": "stdout",
     "output_type": "stream",
     "text": [
      "+----------------+------------------+\n",
      "|porte_da_empresa|             Media|\n",
      "+----------------+------------------+\n",
      "|            null|  8.35421888053467|\n",
      "|               1| 339994.5331350705|\n",
      "|               3|2601001.7677092687|\n",
      "|               5| 708660.4208249793|\n",
      "+----------------+------------------+\n",
      "\n"
     ]
    }
   ],
   "source": [
    "spark\\\n",
    "    .sql(\"\"\"\n",
    "        SELECT porte_da_empresa, MEAN(capital_social_da_empresa) AS Media \n",
    "            FROM empresasView \n",
    "            GROUP BY porte_da_empresa\n",
    "    \"\"\")\\\n",
    "    .show(5)\n"
   ]
  },
  {
   "cell_type": "code",
   "execution_count": 108,
   "metadata": {},
   "outputs": [],
   "source": [
    "empresas_join.createOrReplaceTempView(\"empresasJoinView\")\n"
   ]
  },
  {
   "cell_type": "code",
   "execution_count": 109,
   "metadata": {},
   "outputs": [
    {
     "name": "stdout",
     "output_type": "stream",
     "text": [
      "+--------------+------+\n",
      "|data_de_inicio| count|\n",
      "+--------------+------+\n",
      "|          2010|154159|\n",
      "|          2011|172677|\n",
      "|          2012|232480|\n",
      "|          2013|198424|\n",
      "|          2014|202276|\n",
      "|          2015|212523|\n",
      "|          2016|265417|\n",
      "|          2017|237292|\n",
      "|          2018|275435|\n",
      "|          2019|325922|\n",
      "|          2020|400654|\n",
      "|          2021|153275|\n",
      "+--------------+------+\n",
      "\n"
     ]
    }
   ],
   "source": [
    "freq = spark\\\n",
    "    .sql(\"\"\"\n",
    "        SELECT YEAR(data_de_inicio_atividade) AS data_de_inicio, COUNT(cnpj_basico) AS count\n",
    "            FROM empresasJoinView \n",
    "            WHERE YEAR(data_de_inicio_atividade) >= 2010\n",
    "            GROUP BY data_de_inicio\n",
    "            ORDER BY data_de_inicio\n",
    "    \"\"\")\n",
    "\n",
    "freq\\\n",
    "    .show()\n"
   ]
  },
  {
   "cell_type": "code",
   "execution_count": 110,
   "metadata": {},
   "outputs": [],
   "source": [
    "freq.createOrReplaceTempView(\"freqView\")\n"
   ]
  },
  {
   "cell_type": "code",
   "execution_count": 111,
   "metadata": {},
   "outputs": [
    {
     "name": "stdout",
     "output_type": "stream",
     "text": [
      "+--------------+-------+\n",
      "|data_de_inicio|  count|\n",
      "+--------------+-------+\n",
      "|          2010| 154159|\n",
      "|          2011| 172677|\n",
      "|          2012| 232480|\n",
      "|          2013| 198424|\n",
      "|          2014| 202276|\n",
      "|          2015| 212523|\n",
      "|          2016| 265417|\n",
      "|          2017| 237292|\n",
      "|          2018| 275435|\n",
      "|          2019| 325922|\n",
      "|          2020| 400654|\n",
      "|          2021| 153275|\n",
      "|         Total|2830534|\n",
      "+--------------+-------+\n",
      "\n"
     ]
    }
   ],
   "source": [
    "spark\\\n",
    "    .sql(\"\"\"\n",
    "        SELECT *\n",
    "            FROM freqView\n",
    "        UNION ALL\n",
    "        SELECT 'Total' AS data_de_inicio, SUM(count) AS count\n",
    "            FROM freqView\n",
    "    \"\"\")\\\n",
    "    .show()\n"
   ]
  },
  {
   "cell_type": "code",
   "execution_count": 112,
   "metadata": {},
   "outputs": [
    {
     "name": "stdout",
     "output_type": "stream",
     "text": [
      "+--------------+------+\n",
      "|data_de_inicio| count|\n",
      "+--------------+------+\n",
      "|          2010|154159|\n",
      "|          2011|172677|\n",
      "|          2012|232480|\n",
      "|          2013|198424|\n",
      "|          2014|202276|\n",
      "|          2015|212523|\n",
      "|          2016|265417|\n",
      "|          2017|237292|\n",
      "|          2018|275435|\n",
      "|          2019|325922|\n",
      "|          2020|400654|\n",
      "|          2021|153275|\n",
      "+--------------+------+\n",
      "\n"
     ]
    }
   ],
   "source": [
    "empresas_join.createOrReplaceTempView(\"empresasJoinView\")\n",
    "\n",
    "freq = spark\\\n",
    "    .sql(\"\"\"\n",
    "        SELECT YEAR(data_de_inicio_atividade) AS data_de_inicio, COUNT(cnpj_basico) AS count\n",
    "            FROM empresasJoinView \n",
    "            WHERE YEAR(data_de_inicio_atividade) >= 2010\n",
    "            GROUP BY data_de_inicio\n",
    "            ORDER BY data_de_inicio\n",
    "    \"\"\")\n",
    "\n",
    "freq\\\n",
    "    .show()\n"
   ]
  },
  {
   "cell_type": "code",
   "execution_count": 113,
   "metadata": {},
   "outputs": [
    {
     "name": "stdout",
     "output_type": "stream",
     "text": [
      "+--------------+------+\n",
      "|data_de_inicio| count|\n",
      "+--------------+------+\n",
      "|          2010|154159|\n",
      "|          2011|172677|\n",
      "|          2012|232480|\n",
      "|          2013|198424|\n",
      "|          2014|202276|\n",
      "|          2015|212523|\n",
      "|          2016|265417|\n",
      "|          2017|237292|\n",
      "|          2018|275435|\n",
      "|          2019|325922|\n",
      "|          2020|400654|\n",
      "|          2021|153275|\n",
      "+--------------+------+\n",
      "\n"
     ]
    }
   ],
   "source": [
    "empresas_join\\\n",
    "    .select(f.year(empresas_join.data_de_inicio_atividade).alias('data_de_inicio'))\\\n",
    "    .where(\"data_de_inicio >= 2010\")\\\n",
    "    .groupBy('data_de_inicio')\\\n",
    "    .count()\\\n",
    "    .orderBy('data_de_inicio')\\\n",
    "    .show()\n"
   ]
  },
  {
   "cell_type": "code",
   "execution_count": 116,
   "metadata": {},
   "outputs": [],
   "source": [
    "empresas.write.csv(\n",
    "    path='D:/ONEDRIVE/EDUCACAO/FORMACAO_SPARK_PYTHON_ALURA/Formacao-Spark-Python-Alura/data/processed/empresa/csv',\n",
    "    mode='overwrite',\n",
    "    sep=';',\n",
    "    header=True\n",
    ")\n"
   ]
  },
  {
   "cell_type": "code",
   "execution_count": null,
   "metadata": {},
   "outputs": [
    {
     "data": {
      "text/plain": [
       "'3.3.0'"
      ]
     },
     "execution_count": 122,
     "metadata": {},
     "output_type": "execute_result"
    }
   ],
   "source": [
    "spark.version"
   ]
  },
  {
   "cell_type": "code",
   "execution_count": 119,
   "metadata": {},
   "outputs": [],
   "source": [
    "empresas2 = spark.read.csv(\n",
    "    'D:/ONEDRIVE/EDUCACAO/FORMACAO_SPARK_PYTHON_ALURA/Formacao-Spark-Python-Alura/data/processed/empresa/csv',\n",
    "    sep=';',\n",
    "    inferSchema=True,\n",
    "    header=True\n",
    ")\n"
   ]
  },
  {
   "cell_type": "code",
   "execution_count": 120,
   "metadata": {},
   "outputs": [
    {
     "name": "stdout",
     "output_type": "stream",
     "text": [
      "root\n",
      " |-- cnpj_basico: integer (nullable = true)\n",
      " |-- razao_social_nome_empresarial: string (nullable = true)\n",
      " |-- natureza_juridica: integer (nullable = true)\n",
      " |-- qualificacao_do_responsavel: integer (nullable = true)\n",
      " |-- capital_social_da_empresa: double (nullable = true)\n",
      " |-- porte_da_empresa: integer (nullable = true)\n",
      " |-- ente_federativo_responsavel: string (nullable = true)\n",
      "\n"
     ]
    }
   ],
   "source": [
    "empresas2.printSchema()"
   ]
  },
  {
   "cell_type": "code",
   "execution_count": 121,
   "metadata": {},
   "outputs": [],
   "source": [
    "estabelecimentos.write.csv(\n",
    "    path='D:/ONEDRIVE/EDUCACAO/FORMACAO_SPARK_PYTHON_ALURA/Formacao-Spark-Python-Alura/data/processed/estabelecimentos/csv',\n",
    "    mode='overwrite',\n",
    "    sep=';',\n",
    "    header=True\n",
    ")\n"
   ]
  },
  {
   "cell_type": "code",
   "execution_count": 122,
   "metadata": {},
   "outputs": [],
   "source": [
    "socios.write.csv(\n",
    "    path='D:/ONEDRIVE/EDUCACAO/FORMACAO_SPARK_PYTHON_ALURA/Formacao-Spark-Python-Alura/data/processed/socios/csv',\n",
    "    mode='overwrite',\n",
    "    sep=';',\n",
    "    header=True\n",
    ")\n"
   ]
  },
  {
   "cell_type": "code",
   "execution_count": 123,
   "metadata": {},
   "outputs": [],
   "source": [
    "empresas.write.parquet(\n",
    "    path='D:/ONEDRIVE/EDUCACAO/FORMACAO_SPARK_PYTHON_ALURA/Formacao-Spark-Python-Alura/data/processed/empresa/parquet',\n",
    "    mode='overwrite'\n",
    ")\n"
   ]
  },
  {
   "cell_type": "code",
   "execution_count": 124,
   "metadata": {},
   "outputs": [],
   "source": [
    "empresas_parquet = spark.read.parquet(\n",
    "    'D:/ONEDRIVE/EDUCACAO/FORMACAO_SPARK_PYTHON_ALURA/Formacao-Spark-Python-Alura/data/processed/empresa/parquet'\n",
    ")\n"
   ]
  },
  {
   "cell_type": "code",
   "execution_count": 125,
   "metadata": {},
   "outputs": [
    {
     "name": "stdout",
     "output_type": "stream",
     "text": [
      "root\n",
      " |-- cnpj_basico: integer (nullable = true)\n",
      " |-- razao_social_nome_empresarial: string (nullable = true)\n",
      " |-- natureza_juridica: integer (nullable = true)\n",
      " |-- qualificacao_do_responsavel: integer (nullable = true)\n",
      " |-- capital_social_da_empresa: double (nullable = true)\n",
      " |-- porte_da_empresa: integer (nullable = true)\n",
      " |-- ente_federativo_responsavel: string (nullable = true)\n",
      "\n"
     ]
    }
   ],
   "source": [
    "empresas_parquet.printSchema()\n"
   ]
  },
  {
   "cell_type": "code",
   "execution_count": 130,
   "metadata": {},
   "outputs": [],
   "source": [
    "# F = f\n",
    "date_cols = [item[0]\n",
    "             for item in estabelecimentos.dtypes if item[1].startswith('date')]\n",
    "for date_col in date_cols:\n",
    "    estabelecimentos = estabelecimentos.withColumn(date_col,\n",
    "                                                   f.when(\n",
    "                                                       f.col(\n",
    "                                                           date_col) <= '1900-01-01',\n",
    "                                                       f.to_date(f.lit('1900-01-01'), 'yyyy-MM-dd'))\n",
    "                                                   .otherwise(f.col(date_col)))\n"
   ]
  },
  {
   "cell_type": "code",
   "execution_count": 131,
   "metadata": {},
   "outputs": [],
   "source": [
    "spark.conf.set(\n",
    "    'spark.sql.legacy.parquet.datetimeRebaseModeInRead', 'CORRECTED')\n"
   ]
  },
  {
   "cell_type": "code",
   "execution_count": 132,
   "metadata": {},
   "outputs": [],
   "source": [
    "estabelecimentos.write.parquet(\n",
    "    path='D:/ONEDRIVE/EDUCACAO/FORMACAO_SPARK_PYTHON_ALURA/Formacao-Spark-Python-Alura/data/processed/estabelecimentos/parquet',\n",
    "    mode='overwrite'\n",
    ")\n"
   ]
  },
  {
   "cell_type": "code",
   "execution_count": 129,
   "metadata": {},
   "outputs": [],
   "source": [
    "socios.write.parquet(\n",
    "    path='D:/ONEDRIVE/EDUCACAO/FORMACAO_SPARK_PYTHON_ALURA/Formacao-Spark-Python-Alura/data/processed/socios/parquet',\n",
    "    mode='overwrite'\n",
    ")\n"
   ]
  },
  {
   "cell_type": "code",
   "execution_count": 134,
   "metadata": {},
   "outputs": [],
   "source": [
    "empresas.coalesce(1).write.csv(\n",
    "    path='D:/ONEDRIVE/EDUCACAO/FORMACAO_SPARK_PYTHON_ALURA/Formacao-Spark-Python-Alura/data/processed/empresas/csv-unico',\n",
    "    mode='overwrite',\n",
    "    sep=';',\n",
    "    header=True\n",
    ")\n"
   ]
  },
  {
   "cell_type": "code",
   "execution_count": 136,
   "metadata": {},
   "outputs": [],
   "source": [
    "empresas.write.parquet(\n",
    "    path='D:/ONEDRIVE/EDUCACAO/FORMACAO_SPARK_PYTHON_ALURA/Formacao-Spark-Python-Alura/data/processed/empresas/parquet-partitionBy',\n",
    "    mode='overwrite',\n",
    "    partitionBy='porte_da_empresa'\n",
    ")\n"
   ]
  },
  {
   "cell_type": "code",
   "execution_count": 137,
   "metadata": {},
   "outputs": [],
   "source": [
    "spark.stop()"
   ]
  },
  {
   "cell_type": "code",
   "execution_count": null,
   "metadata": {},
   "outputs": [],
   "source": []
  }
 ],
 "metadata": {
  "kernelspec": {
   "display_name": "Python 3.10.8 ('.venv': venv)",
   "language": "python",
   "name": "python3"
  },
  "language_info": {
   "codemirror_mode": {
    "name": "ipython",
    "version": 3
   },
   "file_extension": ".py",
   "mimetype": "text/x-python",
   "name": "python",
   "nbconvert_exporter": "python",
   "pygments_lexer": "ipython3",
   "version": "3.10.8"
  },
  "orig_nbformat": 4,
  "vscode": {
   "interpreter": {
    "hash": "6af8d532bb98f02d4d0753ddbab036b6c903d81516e09fb87fa1a14625c36c97"
   }
  }
 },
 "nbformat": 4,
 "nbformat_minor": 2
}
