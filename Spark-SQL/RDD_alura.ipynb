{
  "cells": [
    {
      "cell_type": "markdown",
      "metadata": {
        "id": "FfzkzwyMlAU_"
      },
      "source": [
        "#Instalando pyspark no Colab"
      ]
    },
    {
      "cell_type": "code",
      "execution_count": null,
      "metadata": {
        "id": "zbSZ2osggKG6"
      },
      "outputs": [],
      "source": [
        "!pip install pyspark"
      ]
    },
    {
      "cell_type": "markdown",
      "metadata": {
        "id": "w60Q8n6blFIb"
      },
      "source": [
        "#Importando o SparkContext"
      ]
    },
    {
      "cell_type": "code",
      "execution_count": null,
      "metadata": {
        "id": "u8-H64jKf_b_"
      },
      "outputs": [],
      "source": [
        "from pyspark import SparkContext"
      ]
    },
    {
      "cell_type": "markdown",
      "metadata": {
        "id": "g91gMlYflJIg"
      },
      "source": [
        "#Criando um contexto para o Spark e colocando na variavel **sc**"
      ]
    },
    {
      "cell_type": "code",
      "execution_count": null,
      "metadata": {
        "id": "2cxj1K2zfwK1"
      },
      "outputs": [],
      "source": [
        "sc = SparkContext()"
      ]
    },
    {
      "cell_type": "markdown",
      "metadata": {
        "id": "pmoo8yMclU2m"
      },
      "source": [
        "#Criando uma variavel com nossos dados fictícios "
      ]
    },
    {
      "cell_type": "code",
      "execution_count": null,
      "metadata": {
        "id": "F1saBPdUlcf2"
      },
      "outputs": [],
      "source": [
        "data = [1, 2, 3, 4, 5]"
      ]
    },
    {
      "cell_type": "markdown",
      "metadata": {
        "id": "sx1KllIDldyA"
      },
      "source": [
        "#Criando nosso RDD\n",
        "com o a função **parallelize** onde passamos por parametro os nossos dados que podem ser uma lista como no exemplo, mas podem vir de várias fontes como arquivos"
      ]
    },
    {
      "cell_type": "code",
      "execution_count": null,
      "metadata": {
        "id": "d5OtFLkBfkI6"
      },
      "outputs": [],
      "source": [
        "rdd = sc.parallelize(data)"
      ]
    },
    {
      "cell_type": "markdown",
      "metadata": {
        "id": "6coyKZOrmKNY"
      },
      "source": [
        "#Operações de RDD podem ser do tipo ação ou do tipo transformação"
      ]
    },
    {
      "cell_type": "markdown",
      "metadata": {
        "id": "8a0bhM7wm3QG"
      },
      "source": [
        "#Ação"
      ]
    },
    {
      "cell_type": "markdown",
      "metadata": {
        "id": "7DYkZS7jm86u"
      },
      "source": [
        "##collect "
      ]
    },
    {
      "cell_type": "markdown",
      "metadata": {
        "id": "j_Imv6XPoyzS"
      },
      "source": [
        "Equivalente ao **head** ou **display** no pandas"
      ]
    },
    {
      "cell_type": "code",
      "execution_count": null,
      "metadata": {
        "colab": {
          "base_uri": "https://localhost:8080/"
        },
        "id": "DDgrZbeQoqmi",
        "outputId": "fb55dad7-2751-4134-b378-2fee668e1df5"
      },
      "outputs": [
        {
          "data": {
            "text/plain": [
              "[1, 2, 3, 4, 5]"
            ]
          },
          "execution_count": 43,
          "metadata": {},
          "output_type": "execute_result"
        }
      ],
      "source": [
        "rdd.collect()"
      ]
    },
    {
      "cell_type": "markdown",
      "metadata": {
        "id": "c6BqYvadm4tY"
      },
      "source": [
        "##reduce"
      ]
    },
    {
      "cell_type": "markdown",
      "metadata": {
        "id": "9p_bpneKpE9J"
      },
      "source": [
        "Equivalente ao **apply** do Pandas"
      ]
    },
    {
      "cell_type": "code",
      "execution_count": null,
      "metadata": {
        "colab": {
          "base_uri": "https://localhost:8080/"
        },
        "id": "w1QgUh77oCbz",
        "outputId": "05350556-e33a-4567-cd27-71c660010eb1"
      },
      "outputs": [
        {
          "data": {
            "text/plain": [
              "15"
            ]
          },
          "execution_count": 45,
          "metadata": {},
          "output_type": "execute_result"
        }
      ],
      "source": [
        "rdd.reduce(lambda x, y : x + y)"
      ]
    },
    {
      "cell_type": "markdown",
      "metadata": {
        "id": "Y-ZUBuemnKle"
      },
      "source": [
        "##count"
      ]
    },
    {
      "cell_type": "markdown",
      "metadata": {
        "id": "Nsg4dtonr1O2"
      },
      "source": [
        "Equivalente ao count ou size no Pandas"
      ]
    },
    {
      "cell_type": "code",
      "execution_count": null,
      "metadata": {
        "colab": {
          "base_uri": "https://localhost:8080/"
        },
        "id": "afXHLJ-5rzQa",
        "outputId": "1cc30971-607c-48dc-fdba-a8860b4ea57c"
      },
      "outputs": [
        {
          "data": {
            "text/plain": [
              "5"
            ]
          },
          "execution_count": 33,
          "metadata": {},
          "output_type": "execute_result"
        }
      ],
      "source": [
        "rdd.count()"
      ]
    },
    {
      "cell_type": "markdown",
      "metadata": {
        "id": "r3AKtrEPnS05"
      },
      "source": [
        "#Transformação"
      ]
    },
    {
      "cell_type": "markdown",
      "metadata": {
        "id": "aRNe6zr3nZEO"
      },
      "source": [
        "##map"
      ]
    },
    {
      "cell_type": "markdown",
      "metadata": {
        "id": "AVoLq-KLv9sr"
      },
      "source": [
        "INPLACE= False"
      ]
    },
    {
      "cell_type": "code",
      "execution_count": null,
      "metadata": {
        "id": "InG-zK_5rPgb"
      },
      "outputs": [],
      "source": [
        "rdd_2 = rdd.map(lambda x: x + 10)"
      ]
    },
    {
      "cell_type": "code",
      "execution_count": null,
      "metadata": {
        "colab": {
          "base_uri": "https://localhost:8080/"
        },
        "id": "4cTbhGccrd96",
        "outputId": "1c74403e-b388-4e74-9016-af63b9c419ea"
      },
      "outputs": [
        {
          "data": {
            "text/plain": [
              "[11, 12, 13, 14, 15]"
            ]
          },
          "execution_count": 29,
          "metadata": {},
          "output_type": "execute_result"
        }
      ],
      "source": [
        "rdd_2.collect()"
      ]
    },
    {
      "cell_type": "code",
      "execution_count": null,
      "metadata": {
        "colab": {
          "base_uri": "https://localhost:8080/"
        },
        "id": "Csa6g6qRrZ-j",
        "outputId": "b7b64bcf-2a86-43f8-b751-6241e28a9c1a"
      },
      "outputs": [
        {
          "data": {
            "text/plain": [
              "[1, 2, 3, 4, 5]"
            ]
          },
          "execution_count": 26,
          "metadata": {},
          "output_type": "execute_result"
        }
      ],
      "source": [
        "rdd.collect()"
      ]
    },
    {
      "cell_type": "markdown",
      "metadata": {
        "id": "I2HCGjwvnbG1"
      },
      "source": [
        "##filter"
      ]
    },
    {
      "cell_type": "code",
      "execution_count": null,
      "metadata": {
        "colab": {
          "base_uri": "https://localhost:8080/"
        },
        "id": "tvKCvTJ-rkgE",
        "outputId": "3ef7ad62-e9e0-4d35-f490-82a2561ca425"
      },
      "outputs": [
        {
          "data": {
            "text/plain": [
              "PythonRDD[5] at RDD at PythonRDD.scala:53"
            ]
          },
          "execution_count": 30,
          "metadata": {},
          "output_type": "execute_result"
        }
      ],
      "source": [
        "rdd_3 = rdd.filter(lambda x: x%2 == 0)\n",
        "rdd_3"
      ]
    },
    {
      "cell_type": "code",
      "execution_count": null,
      "metadata": {
        "colab": {
          "base_uri": "https://localhost:8080/"
        },
        "id": "L0aziScFrtHb",
        "outputId": "a96e421f-7700-4fe1-bfa8-203f509478bc"
      },
      "outputs": [
        {
          "data": {
            "text/plain": [
              "[2, 4]"
            ]
          },
          "execution_count": 31,
          "metadata": {},
          "output_type": "execute_result"
        }
      ],
      "source": [
        "rdd_3.collect()"
      ]
    },
    {
      "cell_type": "code",
      "execution_count": null,
      "metadata": {
        "colab": {
          "base_uri": "https://localhost:8080/"
        },
        "id": "dA3oj9pXrwJt",
        "outputId": "92fc8d1e-ed87-416a-8d55-ecb48593d65b"
      },
      "outputs": [
        {
          "data": {
            "text/plain": [
              "[1, 2, 3, 4, 5]"
            ]
          },
          "execution_count": 32,
          "metadata": {},
          "output_type": "execute_result"
        }
      ],
      "source": [
        "rdd.collect()"
      ]
    },
    {
      "cell_type": "markdown",
      "metadata": {
        "id": "_fVMP6hJmzxK"
      },
      "source": [
        "#Finalizando o contexto Spark"
      ]
    },
    {
      "cell_type": "code",
      "execution_count": null,
      "metadata": {
        "id": "pk3cBXyQ8_3C"
      },
      "outputs": [],
      "source": [
        "sc.stop()"
      ]
    }
  ],
  "metadata": {
    "colab": {
      "collapsed_sections": [],
      "provenance": [],
      "toc_visible": true
    },
    "kernelspec": {
      "display_name": "Python 3.10.8 ('.venv': venv)",
      "language": "python",
      "name": "python3"
    },
    "language_info": {
      "name": "python",
      "version": "3.10.8"
    },
    "vscode": {
      "interpreter": {
        "hash": "6af8d532bb98f02d4d0753ddbab036b6c903d81516e09fb87fa1a14625c36c97"
      }
    }
  },
  "nbformat": 4,
  "nbformat_minor": 0
}
